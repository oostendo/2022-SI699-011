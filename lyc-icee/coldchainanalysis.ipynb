{
 "cells": [
  {
   "cell_type": "code",
   "execution_count": 1,
   "metadata": {},
   "outputs": [],
   "source": [
    "import pandas as pd\n",
    "import numpy as np"
   ]
  },
  {
   "cell_type": "code",
   "execution_count": 8,
   "metadata": {},
   "outputs": [
    {
     "data": {
      "text/html": [
       "<div>\n",
       "<style scoped>\n",
       "    .dataframe tbody tr th:only-of-type {\n",
       "        vertical-align: middle;\n",
       "    }\n",
       "\n",
       "    .dataframe tbody tr th {\n",
       "        vertical-align: top;\n",
       "    }\n",
       "\n",
       "    .dataframe thead th {\n",
       "        text-align: right;\n",
       "    }\n",
       "</style>\n",
       "<table border=\"1\" class=\"dataframe\">\n",
       "  <thead>\n",
       "    <tr style=\"text-align: right;\">\n",
       "      <th></th>\n",
       "      <th>DELIVERY_WEEK</th>\n",
       "      <th>DELIVERY_DATE</th>\n",
       "      <th>ORDER_ID</th>\n",
       "      <th>MARKET_NAME</th>\n",
       "      <th>COUNT_CONTAINERS</th>\n",
       "      <th>TOTAL_GROSS_REVENUE</th>\n",
       "      <th>PRODUCE_ITEMS_GROSS_SALES</th>\n",
       "      <th>NON_PRODUCE_ITEMS_GROSS_SALES</th>\n",
       "      <th>COLD_CHAIN_GROSS_SALES</th>\n",
       "      <th>TOTAL_ORDER_CONTAINER_UNITS</th>\n",
       "      <th>PACKAGING_CONTAINER_UNITS</th>\n",
       "      <th>NON_PRODUCE_CONTAINER_UNITS</th>\n",
       "      <th>PRODUCE_CONTAINER_UNITS</th>\n",
       "      <th>COLD_CHAIN_CONTAINER_UNITS</th>\n",
       "      <th>NON_PRODUCE_SKUS</th>\n",
       "      <th>PRODUCE_SKUS</th>\n",
       "      <th>COLD_CHAIN_SKUS</th>\n",
       "      <th>TOTAL_SKUS</th>\n",
       "    </tr>\n",
       "  </thead>\n",
       "  <tbody>\n",
       "    <tr>\n",
       "      <th>0</th>\n",
       "      <td>1/31/22 00:00</td>\n",
       "      <td>1/31/22 00:00</td>\n",
       "      <td>044ea9a8-4909-4b48-af2f-2a4b6a240a36</td>\n",
       "      <td>Seattle</td>\n",
       "      <td>2</td>\n",
       "      <td>77.75</td>\n",
       "      <td>13.44</td>\n",
       "      <td>64.31</td>\n",
       "      <td>24.23</td>\n",
       "      <td>2153.83</td>\n",
       "      <td>119</td>\n",
       "      <td>1604.15</td>\n",
       "      <td>430.68</td>\n",
       "      <td>274.10</td>\n",
       "      <td>17</td>\n",
       "      <td>6</td>\n",
       "      <td>7</td>\n",
       "      <td>23</td>\n",
       "    </tr>\n",
       "    <tr>\n",
       "      <th>1</th>\n",
       "      <td>1/31/22 00:00</td>\n",
       "      <td>1/31/22 00:00</td>\n",
       "      <td>c06b4614-5cbf-4f5d-a9d6-2b53d2c2149d</td>\n",
       "      <td>Eugene</td>\n",
       "      <td>1</td>\n",
       "      <td>38.06</td>\n",
       "      <td>19.10</td>\n",
       "      <td>13.97</td>\n",
       "      <td>13.97</td>\n",
       "      <td>854.22</td>\n",
       "      <td>119</td>\n",
       "      <td>150.02</td>\n",
       "      <td>585.20</td>\n",
       "      <td>150.02</td>\n",
       "      <td>3</td>\n",
       "      <td>10</td>\n",
       "      <td>3</td>\n",
       "      <td>13</td>\n",
       "    </tr>\n",
       "    <tr>\n",
       "      <th>2</th>\n",
       "      <td>1/31/22 00:00</td>\n",
       "      <td>1/31/22 00:00</td>\n",
       "      <td>8ff7077e-e20c-4593-a4c5-3d8eafc3569d</td>\n",
       "      <td>Portland</td>\n",
       "      <td>1</td>\n",
       "      <td>39.57</td>\n",
       "      <td>16.62</td>\n",
       "      <td>17.96</td>\n",
       "      <td>9.98</td>\n",
       "      <td>1190.59</td>\n",
       "      <td>119</td>\n",
       "      <td>519.41</td>\n",
       "      <td>552.18</td>\n",
       "      <td>147.72</td>\n",
       "      <td>4</td>\n",
       "      <td>8</td>\n",
       "      <td>2</td>\n",
       "      <td>12</td>\n",
       "    </tr>\n",
       "    <tr>\n",
       "      <th>3</th>\n",
       "      <td>1/31/22 00:00</td>\n",
       "      <td>1/31/22 00:00</td>\n",
       "      <td>383f1acf-8273-4fb5-9dd7-9b728a6e05aa</td>\n",
       "      <td>Portland</td>\n",
       "      <td>1</td>\n",
       "      <td>77.85</td>\n",
       "      <td>57.38</td>\n",
       "      <td>20.47</td>\n",
       "      <td>16.47</td>\n",
       "      <td>1837.34</td>\n",
       "      <td>119</td>\n",
       "      <td>374.49</td>\n",
       "      <td>1343.85</td>\n",
       "      <td>358.29</td>\n",
       "      <td>4</td>\n",
       "      <td>12</td>\n",
       "      <td>3</td>\n",
       "      <td>16</td>\n",
       "    </tr>\n",
       "    <tr>\n",
       "      <th>4</th>\n",
       "      <td>1/31/22 00:00</td>\n",
       "      <td>1/31/22 00:00</td>\n",
       "      <td>7dbab306-2115-4d89-aea9-230e55b0fb05</td>\n",
       "      <td>Olympia</td>\n",
       "      <td>1</td>\n",
       "      <td>67.12</td>\n",
       "      <td>39.87</td>\n",
       "      <td>27.25</td>\n",
       "      <td>17.96</td>\n",
       "      <td>1648.16</td>\n",
       "      <td>119</td>\n",
       "      <td>546.12</td>\n",
       "      <td>893.54</td>\n",
       "      <td>703.05</td>\n",
       "      <td>7</td>\n",
       "      <td>10</td>\n",
       "      <td>6</td>\n",
       "      <td>17</td>\n",
       "    </tr>\n",
       "  </tbody>\n",
       "</table>\n",
       "</div>"
      ],
      "text/plain": [
       "   DELIVERY_WEEK  DELIVERY_DATE                              ORDER_ID  \\\n",
       "0  1/31/22 00:00  1/31/22 00:00  044ea9a8-4909-4b48-af2f-2a4b6a240a36   \n",
       "1  1/31/22 00:00  1/31/22 00:00  c06b4614-5cbf-4f5d-a9d6-2b53d2c2149d   \n",
       "2  1/31/22 00:00  1/31/22 00:00  8ff7077e-e20c-4593-a4c5-3d8eafc3569d   \n",
       "3  1/31/22 00:00  1/31/22 00:00  383f1acf-8273-4fb5-9dd7-9b728a6e05aa   \n",
       "4  1/31/22 00:00  1/31/22 00:00  7dbab306-2115-4d89-aea9-230e55b0fb05   \n",
       "\n",
       "  MARKET_NAME  COUNT_CONTAINERS  TOTAL_GROSS_REVENUE  \\\n",
       "0     Seattle                 2                77.75   \n",
       "1      Eugene                 1                38.06   \n",
       "2    Portland                 1                39.57   \n",
       "3    Portland                 1                77.85   \n",
       "4     Olympia                 1                67.12   \n",
       "\n",
       "   PRODUCE_ITEMS_GROSS_SALES  NON_PRODUCE_ITEMS_GROSS_SALES  \\\n",
       "0                      13.44                          64.31   \n",
       "1                      19.10                          13.97   \n",
       "2                      16.62                          17.96   \n",
       "3                      57.38                          20.47   \n",
       "4                      39.87                          27.25   \n",
       "\n",
       "   COLD_CHAIN_GROSS_SALES  TOTAL_ORDER_CONTAINER_UNITS  \\\n",
       "0                   24.23                      2153.83   \n",
       "1                   13.97                       854.22   \n",
       "2                    9.98                      1190.59   \n",
       "3                   16.47                      1837.34   \n",
       "4                   17.96                      1648.16   \n",
       "\n",
       "   PACKAGING_CONTAINER_UNITS  NON_PRODUCE_CONTAINER_UNITS  \\\n",
       "0                        119                      1604.15   \n",
       "1                        119                       150.02   \n",
       "2                        119                       519.41   \n",
       "3                        119                       374.49   \n",
       "4                        119                       546.12   \n",
       "\n",
       "   PRODUCE_CONTAINER_UNITS  COLD_CHAIN_CONTAINER_UNITS  NON_PRODUCE_SKUS  \\\n",
       "0                   430.68                      274.10                17   \n",
       "1                   585.20                      150.02                 3   \n",
       "2                   552.18                      147.72                 4   \n",
       "3                  1343.85                      358.29                 4   \n",
       "4                   893.54                      703.05                 7   \n",
       "\n",
       "   PRODUCE_SKUS  COLD_CHAIN_SKUS  TOTAL_SKUS  \n",
       "0             6                7          23  \n",
       "1            10                3          13  \n",
       "2             8                2          12  \n",
       "3            12                3          16  \n",
       "4            10                6          17  "
      ]
     },
     "execution_count": 8,
     "metadata": {},
     "output_type": "execute_result"
    }
   ],
   "source": [
    "sample_raw = pd.read_csv('UMich-SampleData-OrderContainerUnitsVsSales.csv')\n",
    "sample_raw.head()"
   ]
  },
  {
   "cell_type": "code",
   "execution_count": 5,
   "metadata": {},
   "outputs": [],
   "source": [
    "ccdata = sample_raw[[\"ORDER_ID\", \"TOTAL_GROSS_REVENUE\", \"COLD_CHAIN_GROSS_SALES\",\"TOTAL_ORDER_CONTAINER_UNITS\", \"COLD_CHAIN_CONTAINER_UNITS\",\"TOTAL_SKUS\",\"COLD_CHAIN_SKUS\"]]"
   ]
  },
  {
   "cell_type": "code",
   "execution_count": 16,
   "metadata": {},
   "outputs": [
    {
     "data": {
      "text/plain": [
       "Index(['ORDER_ID', 'TOTAL_GROSS_REVENUE', 'COLD_CHAIN_GROSS_SALES',\n",
       "       'TOTAL_ORDER_CONTAINER_UNITS', 'COLD_CHAIN_CONTAINER_UNITS',\n",
       "       'TOTAL_SKUS', 'COLD_CHAIN_SKUS', 'cc_rev_diff'],\n",
       "      dtype='object')"
      ]
     },
     "execution_count": 16,
     "metadata": {},
     "output_type": "execute_result"
    }
   ],
   "source": [
    "ccdata.columns"
   ]
  },
  {
   "cell_type": "code",
   "execution_count": 27,
   "metadata": {},
   "outputs": [],
   "source": [
    "#ccdata[\"non_cc_rev_diff\"] = ccdata.loc[\"TOTAL_GROSS_REVENUE\"] - ccdata.loc[\"COLD_CHAIN_GROSS_SALES\"]\n",
    "#cc_rev = ccdata[[\"TOTAL_GROSS_REVENUE\",\"COLD_CHAIN_GROSS_SALES\",\"non_cc_rev_diff\"]]"
   ]
  },
  {
   "cell_type": "code",
   "execution_count": 32,
   "metadata": {},
   "outputs": [],
   "source": [
    "cc_rev = cc_rev.rename(columns={\"cc_rev_diff\": \"non_cc_rev_diff\"})"
   ]
  },
  {
   "cell_type": "code",
   "execution_count": 41,
   "metadata": {},
   "outputs": [
    {
     "data": {
      "text/html": [
       "<div>\n",
       "<style scoped>\n",
       "    .dataframe tbody tr th:only-of-type {\n",
       "        vertical-align: middle;\n",
       "    }\n",
       "\n",
       "    .dataframe tbody tr th {\n",
       "        vertical-align: top;\n",
       "    }\n",
       "\n",
       "    .dataframe thead th {\n",
       "        text-align: right;\n",
       "    }\n",
       "</style>\n",
       "<table border=\"1\" class=\"dataframe\">\n",
       "  <thead>\n",
       "    <tr style=\"text-align: right;\">\n",
       "      <th></th>\n",
       "      <th>TOTAL_GROSS_REVENUE</th>\n",
       "      <th>COLD_CHAIN_GROSS_SALES</th>\n",
       "      <th>non_cc_rev_diff</th>\n",
       "    </tr>\n",
       "  </thead>\n",
       "  <tbody>\n",
       "    <tr>\n",
       "      <th>0</th>\n",
       "      <td>77.75</td>\n",
       "      <td>24.23</td>\n",
       "      <td>53.52</td>\n",
       "    </tr>\n",
       "    <tr>\n",
       "      <th>1</th>\n",
       "      <td>38.06</td>\n",
       "      <td>13.97</td>\n",
       "      <td>24.09</td>\n",
       "    </tr>\n",
       "    <tr>\n",
       "      <th>2</th>\n",
       "      <td>39.57</td>\n",
       "      <td>9.98</td>\n",
       "      <td>29.59</td>\n",
       "    </tr>\n",
       "    <tr>\n",
       "      <th>3</th>\n",
       "      <td>77.85</td>\n",
       "      <td>16.47</td>\n",
       "      <td>61.38</td>\n",
       "    </tr>\n",
       "    <tr>\n",
       "      <th>4</th>\n",
       "      <td>67.12</td>\n",
       "      <td>17.96</td>\n",
       "      <td>49.16</td>\n",
       "    </tr>\n",
       "  </tbody>\n",
       "</table>\n",
       "</div>"
      ],
      "text/plain": [
       "   TOTAL_GROSS_REVENUE  COLD_CHAIN_GROSS_SALES  non_cc_rev_diff\n",
       "0                77.75                   24.23            53.52\n",
       "1                38.06                   13.97            24.09\n",
       "2                39.57                    9.98            29.59\n",
       "3                77.85                   16.47            61.38\n",
       "4                67.12                   17.96            49.16"
      ]
     },
     "execution_count": 41,
     "metadata": {},
     "output_type": "execute_result"
    }
   ],
   "source": [
    "cc_rev.head()"
   ]
  },
  {
   "cell_type": "code",
   "execution_count": 33,
   "metadata": {},
   "outputs": [],
   "source": [
    "cctest = cc_rev.copy()"
   ]
  },
  {
   "cell_type": "code",
   "execution_count": 39,
   "metadata": {},
   "outputs": [],
   "source": [
    "cctest[\"cc_small_local_rev\"] = cctest[\"COLD_CHAIN_GROSS_SALES\"].subtract(2.46)"
   ]
  },
  {
   "cell_type": "code",
   "execution_count": 40,
   "metadata": {},
   "outputs": [
    {
     "data": {
      "text/html": [
       "<div>\n",
       "<style scoped>\n",
       "    .dataframe tbody tr th:only-of-type {\n",
       "        vertical-align: middle;\n",
       "    }\n",
       "\n",
       "    .dataframe tbody tr th {\n",
       "        vertical-align: top;\n",
       "    }\n",
       "\n",
       "    .dataframe thead th {\n",
       "        text-align: right;\n",
       "    }\n",
       "</style>\n",
       "<table border=\"1\" class=\"dataframe\">\n",
       "  <thead>\n",
       "    <tr style=\"text-align: right;\">\n",
       "      <th></th>\n",
       "      <th>TOTAL_GROSS_REVENUE</th>\n",
       "      <th>COLD_CHAIN_GROSS_SALES</th>\n",
       "      <th>non_cc_rev_diff</th>\n",
       "      <th>cc_small_local_rev</th>\n",
       "    </tr>\n",
       "  </thead>\n",
       "  <tbody>\n",
       "    <tr>\n",
       "      <th>0</th>\n",
       "      <td>77.75</td>\n",
       "      <td>24.23</td>\n",
       "      <td>53.52</td>\n",
       "      <td>21.77</td>\n",
       "    </tr>\n",
       "    <tr>\n",
       "      <th>1</th>\n",
       "      <td>38.06</td>\n",
       "      <td>13.97</td>\n",
       "      <td>24.09</td>\n",
       "      <td>11.51</td>\n",
       "    </tr>\n",
       "    <tr>\n",
       "      <th>2</th>\n",
       "      <td>39.57</td>\n",
       "      <td>9.98</td>\n",
       "      <td>29.59</td>\n",
       "      <td>7.52</td>\n",
       "    </tr>\n",
       "    <tr>\n",
       "      <th>3</th>\n",
       "      <td>77.85</td>\n",
       "      <td>16.47</td>\n",
       "      <td>61.38</td>\n",
       "      <td>14.01</td>\n",
       "    </tr>\n",
       "    <tr>\n",
       "      <th>4</th>\n",
       "      <td>67.12</td>\n",
       "      <td>17.96</td>\n",
       "      <td>49.16</td>\n",
       "      <td>15.50</td>\n",
       "    </tr>\n",
       "    <tr>\n",
       "      <th>...</th>\n",
       "      <td>...</td>\n",
       "      <td>...</td>\n",
       "      <td>...</td>\n",
       "      <td>...</td>\n",
       "    </tr>\n",
       "    <tr>\n",
       "      <th>106127</th>\n",
       "      <td>26.39</td>\n",
       "      <td>0.00</td>\n",
       "      <td>26.39</td>\n",
       "      <td>-2.46</td>\n",
       "    </tr>\n",
       "    <tr>\n",
       "      <th>106128</th>\n",
       "      <td>85.23</td>\n",
       "      <td>28.93</td>\n",
       "      <td>56.30</td>\n",
       "      <td>26.47</td>\n",
       "    </tr>\n",
       "    <tr>\n",
       "      <th>106129</th>\n",
       "      <td>61.00</td>\n",
       "      <td>17.47</td>\n",
       "      <td>43.53</td>\n",
       "      <td>15.01</td>\n",
       "    </tr>\n",
       "    <tr>\n",
       "      <th>106130</th>\n",
       "      <td>44.29</td>\n",
       "      <td>13.47</td>\n",
       "      <td>30.82</td>\n",
       "      <td>11.01</td>\n",
       "    </tr>\n",
       "    <tr>\n",
       "      <th>106131</th>\n",
       "      <td>60.68</td>\n",
       "      <td>27.46</td>\n",
       "      <td>33.22</td>\n",
       "      <td>25.00</td>\n",
       "    </tr>\n",
       "  </tbody>\n",
       "</table>\n",
       "<p>106132 rows × 4 columns</p>\n",
       "</div>"
      ],
      "text/plain": [
       "        TOTAL_GROSS_REVENUE  COLD_CHAIN_GROSS_SALES  non_cc_rev_diff  \\\n",
       "0                     77.75                   24.23            53.52   \n",
       "1                     38.06                   13.97            24.09   \n",
       "2                     39.57                    9.98            29.59   \n",
       "3                     77.85                   16.47            61.38   \n",
       "4                     67.12                   17.96            49.16   \n",
       "...                     ...                     ...              ...   \n",
       "106127                26.39                    0.00            26.39   \n",
       "106128                85.23                   28.93            56.30   \n",
       "106129                61.00                   17.47            43.53   \n",
       "106130                44.29                   13.47            30.82   \n",
       "106131                60.68                   27.46            33.22   \n",
       "\n",
       "        cc_small_local_rev  \n",
       "0                    21.77  \n",
       "1                    11.51  \n",
       "2                     7.52  \n",
       "3                    14.01  \n",
       "4                    15.50  \n",
       "...                    ...  \n",
       "106127               -2.46  \n",
       "106128               26.47  \n",
       "106129               15.01  \n",
       "106130               11.01  \n",
       "106131               25.00  \n",
       "\n",
       "[106132 rows x 4 columns]"
      ]
     },
     "execution_count": 40,
     "metadata": {},
     "output_type": "execute_result"
    }
   ],
   "source": [
    "cctest"
   ]
  },
  {
   "cell_type": "code",
   "execution_count": 48,
   "metadata": {},
   "outputs": [],
   "source": [
    "rev_median = cctest[\"TOTAL_GROSS_REVENUE\"].median()\n",
    "cc_sales_median = cctest[\"COLD_CHAIN_GROSS_SALES\"].median()\n",
    "non_cc_sales_median = cctest[\"non_cc_rev_diff\"].median()"
   ]
  },
  {
   "cell_type": "code",
   "execution_count": 60,
   "metadata": {},
   "outputs": [
    {
     "data": {
      "text/plain": [
       "(60.41, 19.95, 34.96)"
      ]
     },
     "execution_count": 60,
     "metadata": {},
     "output_type": "execute_result"
    }
   ],
   "source": [
    "rev_median, cc_sales_median,non_cc_sales_median\n",
    "\n",
    "# In dollars"
   ]
  },
  {
   "cell_type": "code",
   "execution_count": 58,
   "metadata": {},
   "outputs": [
    {
     "data": {
      "text/plain": [
       "33.02433371958285"
      ]
     },
     "execution_count": 58,
     "metadata": {},
     "output_type": "execute_result"
    }
   ],
   "source": [
    "percent_cc_median = (cc_sales_median / rev_median)*100\n",
    "percent_cc_median"
   ]
  },
  {
   "cell_type": "code",
   "execution_count": 59,
   "metadata": {},
   "outputs": [
    {
     "data": {
      "text/plain": [
       "57.871213375269"
      ]
     },
     "execution_count": 59,
     "metadata": {},
     "output_type": "execute_result"
    }
   ],
   "source": [
    "percent_non_cc_median = (non_cc_sales_median / rev_median)*100\n",
    "percent_non_cc_median"
   ]
  },
  {
   "cell_type": "code",
   "execution_count": 43,
   "metadata": {},
   "outputs": [],
   "source": [
    "import seaborn as sns\n",
    "import matplotlib.pyplot as plt"
   ]
  },
  {
   "cell_type": "code",
   "execution_count": null,
   "metadata": {},
   "outputs": [],
   "source": [
    "#sns.catplot(x=\"TOTAL_GROSS_REVENUE\", y=\"COLD_CHAIN_GROSS_SALES\", kind=\"box\", data=cctest)"
   ]
  },
  {
   "cell_type": "code",
   "execution_count": null,
   "metadata": {},
   "outputs": [],
   "source": []
  }
 ],
 "metadata": {
  "kernelspec": {
   "display_name": "Python 3",
   "language": "python",
   "name": "python3"
  },
  "language_info": {
   "codemirror_mode": {
    "name": "ipython",
    "version": 3
   },
   "file_extension": ".py",
   "mimetype": "text/x-python",
   "name": "python",
   "nbconvert_exporter": "python",
   "pygments_lexer": "ipython3",
   "version": "3.7.6"
  }
 },
 "nbformat": 4,
 "nbformat_minor": 4
}
