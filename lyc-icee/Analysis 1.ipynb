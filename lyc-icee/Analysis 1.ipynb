{
 "cells": [
  {
   "cell_type": "markdown",
   "metadata": {},
   "source": [
    "# Analysis 1\n",
    "\n",
    "### Lauren Lunsford, Ye Chan Kim, Christopher Peña \n",
    "#### Date Started: February 3, 2022\n",
    "#### Last Updated: February 4, 2022"
   ]
  },
  {
   "cell_type": "markdown",
   "metadata": {},
   "source": [
    "**Questions:** \n",
    "- Should we use NaN or None?\n",
    "- How to factor in qty. Does the qty "
   ]
  },
  {
   "cell_type": "markdown",
   "metadata": {},
   "source": []
  },
  {
   "cell_type": "code",
   "execution_count": null,
   "metadata": {},
   "outputs": [],
   "source": [
    "#importing packages\n",
    "import pandas as pd"
   ]
  },
  {
   "cell_type": "markdown",
   "metadata": {},
   "source": [
    "## 1. Loading and Viewing Data"
   ]
  },
  {
   "cell_type": "code",
   "execution_count": null,
   "metadata": {
    "scrolled": true
   },
   "outputs": [],
   "source": [
    "wd='UMich_Sample_Data/'\n",
    "b=pd.read_csv(wd+'UMich-SampleData-PicksMadePNW-Jan3.csv')"
   ]
  },
  {
   "cell_type": "markdown",
   "metadata": {},
   "source": [
    "Note:\n",
    "- TIMESTAMP_UTC appears to be whenever that record was made.\n",
    "- BOXIN/BOXOUT are when the order was started/completed\n",
    "- PICKORDER…. Appears to be the same as BOXIN/BOXOUT\n",
    "- PICKCOMPLETE is when the button was pressed\n",
    "- PICKORDERSUBMITTIME is when the order was uploaded to the server\n",
    "- PICKORDERENDTIME is when the full order was completed (if >1 box, when all boxes are completed)"
   ]
  },
  {
   "cell_type": "markdown",
   "metadata": {},
   "source": [
    "### 1.2 Picks Made PNW Jan3\n"
   ]
  },
  {
   "cell_type": "code",
   "execution_count": null,
   "metadata": {
    "scrolled": true
   },
   "outputs": [],
   "source": [
    "b.head()"
   ]
  },
  {
   "cell_type": "code",
   "execution_count": null,
   "metadata": {
    "scrolled": false
   },
   "outputs": [],
   "source": [
    "b.columns"
   ]
  },
  {
   "cell_type": "markdown",
   "metadata": {},
   "source": [
    "## 2. Analysis 1: unit hours per product packed"
   ]
  },
  {
   "cell_type": "code",
   "execution_count": null,
   "metadata": {
    "scrolled": false
   },
   "outputs": [],
   "source": [
    "df=b[['PICKCOMPLETETIME','BOXBARCODE','PRODUCTNAME']]\n",
    "df.head(5)"
   ]
  },
  {
   "cell_type": "code",
   "execution_count": null,
   "metadata": {},
   "outputs": [],
   "source": [
    "def combine(row):\n",
    "    pname=row['PRODUCTNAME']\n",
    "    time=row['PICKCOMPLETETIME']\n",
    "    return [pname, time]\n",
    "    "
   ]
  },
  {
   "cell_type": "code",
   "execution_count": null,
   "metadata": {
    "scrolled": true
   },
   "outputs": [],
   "source": [
    "df['concat']=df.apply(lambda x: combine(x), axis=1)"
   ]
  },
  {
   "cell_type": "code",
   "execution_count": null,
   "metadata": {},
   "outputs": [],
   "source": [
    "df=df[['BOXBARCODE','concat']]\n",
    "df.head()"
   ]
  },
  {
   "cell_type": "code",
   "execution_count": null,
   "metadata": {
    "scrolled": true
   },
   "outputs": [],
   "source": [
    "df=df.groupby('BOXBARCODE')['concat'].apply(list)\n",
    "df=df.reset_index(name='[Product, PickTime]')\n",
    "df.head()"
   ]
  },
  {
   "cell_type": "code",
   "execution_count": null,
   "metadata": {},
   "outputs": [],
   "source": [
    "from datetime import datetime\n",
    "\n",
    "t0=df['[Product, PickTime]'][1][0][1]\n",
    "t1=df['[Product, PickTime]'][2][0][1]\n",
    "t0=datetime.strptime(t0, '%Y-%m-%d %H:%M:%S')\n",
    "t1=datetime.strptime(t1, '%Y-%m-%d %H:%M:%S')\n",
    "t1-t0"
   ]
  },
  {
   "cell_type": "code",
   "execution_count": null,
   "metadata": {},
   "outputs": [],
   "source": [
    "def get_time_diff(lst):\n",
    "    output_lst=[]\n",
    "    #making second item in each tuple a date time so we can sort it accordingly\n",
    "    for tup in lst:\n",
    "        from datetime import datetime\n",
    "        tup[1] = datetime.strptime(tup[1], '%Y-%m-%d %H:%M:%S')\n",
    "    \n",
    "    #sort product,picktime by picktime within list\n",
    "    lst=sorted(lst, key=lambda x: x[1])\n",
    "    \n",
    "    #turning l=[(p1,t1),(p2,t2),(p3,t3)]\n",
    "    #into new_l=[(p1,t0-t1),(p2,t1-t2),(p3,t2-t3)]\n",
    "    \n",
    "    for i in range(len(lst)):\n",
    "        if i==0:\n",
    "            time_delta=None  #IDK IF I SHOULD DO NONE OR NaN \n",
    "        else:\n",
    "            t1=lst[i][1]\n",
    "            t0=lst[i-1][1]\n",
    "            time_delta=t1-t0\n",
    "        output_lst.append([lst[i][0],time_delta])\n",
    "    return output_lst\n",
    "    "
   ]
  },
  {
   "cell_type": "code",
   "execution_count": null,
   "metadata": {},
   "outputs": [],
   "source": [
    "product_times={}\n",
    "for product_picktime in df['[Product, PickTime]']:\n",
    "    product_pickdiffs=get_time_diff(product_picktime)\n",
    "    for product, pickdiff in product_pickdiffs:\n",
    "        if product in product_times.keys():\n",
    "            product_times[product].append(pickdiff)\n",
    "        else:\n",
    "            product_times[product]=[pickdiff]"
   ]
  },
  {
   "cell_type": "code",
   "execution_count": null,
   "metadata": {},
   "outputs": [],
   "source": [
    "def mean(lst):\n",
    "    summ=0\n",
    "    count=0\n",
    "    for num in lst:\n",
    "        if num==None:\n",
    "            pass\n",
    "        else:\n",
    "            num=num.total_seconds()\n",
    "            summ+=num\n",
    "            count+=1\n",
    "    return summ/count"
   ]
  },
  {
   "cell_type": "code",
   "execution_count": null,
   "metadata": {},
   "outputs": [],
   "source": [
    "product_time_averages= []\n",
    "for product in list(product_times.keys()):\n",
    "    product_time_averages.append((product,mean(product_times[product])))\n",
    "product_time_averages=sorted(product_time_averages, key=lambda x:x[1])\n",
    "product_time_averages"
   ]
  },
  {
   "cell_type": "code",
   "execution_count": null,
   "metadata": {},
   "outputs": [],
   "source": [
    "print( len(product_time_averages), len(b['PRODUCTNAME'].unique()))\n",
    "print(\"Need to find the 2 values. My guess is they're both \")"
   ]
  },
  {
   "cell_type": "markdown",
   "metadata": {},
   "source": [
    "### 2.5 Cold Chain times"
   ]
  },
  {
   "cell_type": "markdown",
   "metadata": {},
   "source": [
    "Calculating cost of CC items includes:\n",
    "   \n",
    "   - Time to pack\n",
    "   - How much of the item you can fit into a box before you need to add the extra packaging (so packaging cost / %space of box it takes up)"
   ]
  },
  {
   "cell_type": "code",
   "execution_count": null,
   "metadata": {},
   "outputs": [],
   "source": [
    "CC_product_time_averages=[]\n",
    "for item in product_time_averages:\n",
    "    if item[0][4:6]=='CC':\n",
    "        CC_product_time_averages.append(item)"
   ]
  },
  {
   "cell_type": "code",
   "execution_count": null,
   "metadata": {},
   "outputs": [],
   "source": [
    "CC_product_time_averages"
   ]
  },
  {
   "cell_type": "markdown",
   "metadata": {},
   "source": [
    "## 3. Exploration of Results"
   ]
  },
  {
   "cell_type": "markdown",
   "metadata": {},
   "source": [
    "### 3. A) Value Distribution"
   ]
  },
  {
   "cell_type": "code",
   "execution_count": null,
   "metadata": {},
   "outputs": [],
   "source": [
    "import matplotlib.pyplot as plt\n",
    "fig, axs = plt.subplots(1, 1)\n",
    "\n",
    "# We can set the number of bins with the *bins* keyword argument.\n",
    "axs.hist(ptimes, bins=50)"
   ]
  },
  {
   "cell_type": "markdown",
   "metadata": {},
   "source": [
    "There's a fun little logistic distribution"
   ]
  },
  {
   "cell_type": "markdown",
   "metadata": {},
   "source": [
    "### 3. B) Correlation Matrix"
   ]
  },
  {
   "cell_type": "markdown",
   "metadata": {},
   "source": [
    "Need: ZONENAME\tSHELF\tLEVEL for each product"
   ]
  },
  {
   "cell_type": "code",
   "execution_count": null,
   "metadata": {},
   "outputs": [],
   "source": [
    "#checking ot see if shelves, zones, and levels are the same for each product\n",
    "zonenames=[]\n",
    "shelves=[]\n",
    "levels=[]\n",
    "for product in b['PRODUCTNAME'].unique():\n",
    "    x=b[b['PRODUCTNAME']==product]\n",
    "    dct=x.to_dict('list')\n",
    "    zonenames.append(len(set(dct['ZONENAME'])))\n",
    "    shelves.append(len(set(dct['SHELF'])))\n",
    "    levels.append(len(set(dct['LEVEL'])))\n",
    "print(np.mean(zonenames), np.mean(shelves), np.mean(levels))\n"
   ]
  },
  {
   "cell_type": "markdown",
   "metadata": {},
   "source": [
    "This means that the zones and shelves are constant, but sometimes, the levels where products are change"
   ]
  },
  {
   "cell_type": "code",
   "execution_count": null,
   "metadata": {
    "scrolled": false
   },
   "outputs": [],
   "source": [
    "b.head()"
   ]
  },
  {
   "cell_type": "code",
   "execution_count": null,
   "metadata": {},
   "outputs": [],
   "source": [
    "b.columns"
   ]
  },
  {
   "cell_type": "code",
   "execution_count": null,
   "metadata": {},
   "outputs": [],
   "source": [
    "c=b[['QTY']]"
   ]
  },
  {
   "cell_type": "code",
   "execution_count": null,
   "metadata": {},
   "outputs": [],
   "source": []
  },
  {
   "cell_type": "markdown",
   "metadata": {},
   "source": [
    "## I. Irrelevant Code"
   ]
  },
  {
   "cell_type": "markdown",
   "metadata": {},
   "source": [
    "This stuff basically creates new columns where one column is the order and the other column is which box in the order it is "
   ]
  },
  {
   "cell_type": "code",
   "execution_count": null,
   "metadata": {},
   "outputs": [],
   "source": [
    "def get_box(BOXBARCODE):\n",
    "    parts=BOXBARCODE.split('_')\n",
    "    if len(parts)==3:\n",
    "        return parts[2]\n",
    "    else:\n",
    "        return ''\n",
    "    "
   ]
  },
  {
   "cell_type": "code",
   "execution_count": null,
   "metadata": {},
   "outputs": [],
   "source": [
    "df['order']=df['BOXBARCODE'].apply(lambda x: x.split('_')[1] )\n",
    "df['box']=df['BOXBARCODE'].apply(lambda x: get_box(x) )\n",
    "df.head()"
   ]
  }
 ],
 "metadata": {
  "kernelspec": {
   "display_name": "Python 3",
   "language": "python",
   "name": "python3"
  },
  "language_info": {
   "codemirror_mode": {
    "name": "ipython",
    "version": 3
   },
   "file_extension": ".py",
   "mimetype": "text/x-python",
   "name": "python",
   "nbconvert_exporter": "python",
   "pygments_lexer": "ipython3",
   "version": "3.8.6"
  }
 },
 "nbformat": 4,
 "nbformat_minor": 4
}
