{
  "nbformat": 4,
  "nbformat_minor": 0,
  "metadata": {
    "colab": {
      "name": "CC_cost_analysis.ipynb",
      "provenance": []
    },
    "kernelspec": {
      "name": "python3",
      "display_name": "Python 3"
    },
    "language_info": {
      "name": "python"
    }
  },
  "cells": [
    {
      "cell_type": "code",
      "execution_count": 1,
      "metadata": {
        "id": "CI7LULW9W0xh"
      },
      "outputs": [],
      "source": [
        "import numpy as np\n",
        "import pandas as pd"
      ]
    },
    {
      "cell_type": "code",
      "source": [
        "def break_even(unit_cost,shipping_cost,materials_cost,labor_cost):\n",
        "\n",
        "  \"\"\"\n",
        "  unit_cost = cost of item unit (e.g. 1 pineapple, 1 pair of apples, 1 box of \n",
        "  kiwis, etc.)\n",
        "\n",
        "  shipping_cost = standard shipping cost\n",
        "\n",
        "  materials_cost = packaging cost. I.e. gel packs\n",
        "\n",
        "  labor_cost = line employee wage per box per zone\n",
        "  (Should this be different? )\n",
        "\n",
        "  \"\"\"\n",
        "\n",
        "  total_cost = unit_cost + shipping_cost + materials_cost + labor_cost\n",
        "  target_revenue = total_cost * 1.33\n",
        "\n",
        "  #Should break even prince = total cost?\n",
        "  #Should target rev be total cost or unit cost?\n",
        "\n",
        "  print(\"Total cost (break even): \", total_cost)\n",
        "  print(\"Target Price: \", target_revenue)\n",
        "  "
      ],
      "metadata": {
        "id": "fIuYiTe3YbHb"
      },
      "execution_count": 26,
      "outputs": []
    },
    {
      "cell_type": "code",
      "source": [
        ""
      ],
      "metadata": {
        "id": "J6NphRzoPVKe"
      },
      "execution_count": null,
      "outputs": []
    }
  ]
}