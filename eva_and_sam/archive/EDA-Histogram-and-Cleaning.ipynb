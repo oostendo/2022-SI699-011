{
 "cells": [
  {
   "cell_type": "code",
   "execution_count": 1,
   "id": "0257b82a",
   "metadata": {},
   "outputs": [],
   "source": [
    "import pandas as pd\n",
    "import numpy as np\n",
    "import seaborn as sns\n",
    "import re\n",
    "import matplotlib.pyplot as plt"
   ]
  },
  {
   "cell_type": "code",
   "execution_count": 2,
   "id": "d06befbc",
   "metadata": {
    "scrolled": true
   },
   "outputs": [
    {
     "name": "stdout",
     "output_type": "stream",
     "text": [
      "(6720, 1119)\n"
     ]
    }
   ],
   "source": [
    "df = pd.read_csv('2012_public_use_data_aug2016.csv')\n",
    "print(df.shape)"
   ]
  },
  {
   "cell_type": "code",
   "execution_count": 4,
   "id": "386a7b6e",
   "metadata": {},
   "outputs": [],
   "source": [
    "## Adjusting for weird values\n",
    "\n",
    "df.NFLOOR.replace(to_replace=994, value=20, inplace=True)\n",
    "df.NFLOOR.replace(to_replace=995, value=26, inplace=True)\n",
    "df.FLCEILHT.replace(to_replace=995, value=51, inplace=True)\n",
    "df.NELVTR.replace(to_replace=995, value=51, inplace=True)\n",
    "df.NESLTR.replace(to_replace=995, value=21, inplace=True)\n",
    "df.YRCON.replace(to_replace=995, value=1945, inplace=True)\n",
    "df.RWSEAT.replace(to_replace=99995, value=15001, inplace=True)\n",
    "df.PBSEAT.replace(to_replace=999995, value=15001, inplace=True)\n",
    "df.HCBED.replace(to_replace=9995, value=251, inplace=True)\n",
    "df.NRSBED.replace(to_replace=9995, value=251, inplace=True)\n",
    "df.LODGRM.replace(to_replace=99995, value=901, inplace=True)\n",
    "df.NOCC.replace(to_replace=995, value=201, inplace=True)\n",
    "df.ELLUPCT.replace(to_replace=999, value=None, inplace=True)\n",
    "df.WOEXP.replace(to_replace=999999, value=None, inplace=True)\n",
    "df.XRAYN.replace(to_replace=995, value=21, inplace=True)\n",
    "df.RFGCOMPN.replace(to_replace=99995, value=1001, inplace=True)\n",
    "df.TVVIDEON.replace(to_replace=995, value=201, inplace=True)"
   ]
  },
  {
   "cell_type": "code",
   "execution_count": null,
   "id": "b4e0f406",
   "metadata": {},
   "outputs": [],
   "source": [
    "# for each category, build histograms\n",
    "# iterate over all category dfs\n",
    "# take # of columns as subplot #\n",
    "# iterates over all columns in that df and uses it at x input (for a single histograms)\n",
    "# generate_histplot(col name, df name):  returns sns.histplot(……)\n"
   ]
  },
  {
   "cell_type": "code",
   "execution_count": 7,
   "id": "c9e132a7",
   "metadata": {
    "scrolled": true
   },
   "outputs": [
    {
     "data": {
      "text/html": [
       "<div>\n",
       "<style scoped>\n",
       "    .dataframe tbody tr th:only-of-type {\n",
       "        vertical-align: middle;\n",
       "    }\n",
       "\n",
       "    .dataframe tbody tr th {\n",
       "        vertical-align: top;\n",
       "    }\n",
       "\n",
       "    .dataframe thead th {\n",
       "        text-align: right;\n",
       "    }\n",
       "</style>\n",
       "<table border=\"1\" class=\"dataframe\">\n",
       "  <thead>\n",
       "    <tr style=\"text-align: right;\">\n",
       "      <th></th>\n",
       "      <th>SQFT</th>\n",
       "      <th>NFLOOR</th>\n",
       "      <th>RENOV</th>\n",
       "      <th>YRCON</th>\n",
       "    </tr>\n",
       "  </thead>\n",
       "  <tbody>\n",
       "    <tr>\n",
       "      <th>0</th>\n",
       "      <td>2400</td>\n",
       "      <td>1</td>\n",
       "      <td>1.0</td>\n",
       "      <td>1975</td>\n",
       "    </tr>\n",
       "    <tr>\n",
       "      <th>1</th>\n",
       "      <td>114000</td>\n",
       "      <td>1</td>\n",
       "      <td>1.0</td>\n",
       "      <td>1985</td>\n",
       "    </tr>\n",
       "    <tr>\n",
       "      <th>2</th>\n",
       "      <td>2550</td>\n",
       "      <td>1</td>\n",
       "      <td>2.0</td>\n",
       "      <td>1958</td>\n",
       "    </tr>\n",
       "    <tr>\n",
       "      <th>3</th>\n",
       "      <td>500000</td>\n",
       "      <td>20</td>\n",
       "      <td>1.0</td>\n",
       "      <td>1983</td>\n",
       "    </tr>\n",
       "    <tr>\n",
       "      <th>4</th>\n",
       "      <td>30000</td>\n",
       "      <td>2</td>\n",
       "      <td>2.0</td>\n",
       "      <td>1972</td>\n",
       "    </tr>\n",
       "  </tbody>\n",
       "</table>\n",
       "</div>"
      ],
      "text/plain": [
       "     SQFT  NFLOOR  RENOV  YRCON\n",
       "0    2400       1    1.0   1975\n",
       "1  114000       1    1.0   1985\n",
       "2    2550       1    2.0   1958\n",
       "3  500000      20    1.0   1983\n",
       "4   30000       2    2.0   1972"
      ]
     },
     "execution_count": 7,
     "metadata": {},
     "output_type": "execute_result"
    }
   ],
   "source": [
    "# test data frame\n",
    "\n",
    "list1 = ['SQFT', 'NFLOOR', 'RENOV', 'YRCON']\n",
    "test_df = df[list1]\n",
    "test_df.head()"
   ]
  },
  {
   "cell_type": "code",
   "execution_count": 23,
   "id": "d43cb138",
   "metadata": {},
   "outputs": [
    {
     "data": {
      "image/png": "[encoded data removed]",
      "text/plain": [
       "<Figure size 144x144 with 1 Axes>"
      ]
     },
     "metadata": {},
     "output_type": "display_data"
    },
    {
     "data": {
      "image/png": "[encoded data removed]",
      "text/plain": [
       "<Figure size 144x144 with 1 Axes>"
      ]
     },
     "metadata": {},
     "output_type": "display_data"
    },
    {
     "data": {
      "image/png": "[encoded data removed]",
      "text/plain": [
       "<Figure size 144x144 with 1 Axes>"
      ]
     },
     "metadata": {},
     "output_type": "display_data"
    },
    {
     "data": {
      "image/png": "[encoded data removed]",
      "text/plain": [
       "<Figure size 144x144 with 1 Axes>"
      ]
     },
     "metadata": {},
     "output_type": "display_data"
    }
   ],
   "source": [
    "figname = 0\n",
    "for column in list1:\n",
    "    plt.figure(figname)\n",
    "    sns.set(rc = {'figure.figsize':(2,2)})\n",
    "    sns.histplot(data=df, x=column, kde=True)\n",
    "    figname += 1\n"
   ]
  },
  {
   "cell_type": "code",
   "execution_count": 5,
   "id": "79a55957",
   "metadata": {},
   "outputs": [],
   "source": [
    "def build_hist(column_list):\n",
    "    figname = 0\n",
    "    for column in column_list:\n",
    "        plt.figure(figname)\n",
    "        sns.set(rc = {'figure.figsize':(2,2)})\n",
    "        sns.histplot(data=df, x=column, kde=True)\n",
    "        figname += 1"
   ]
  },
  {
   "cell_type": "code",
   "execution_count": 8,
   "id": "aeff54e5",
   "metadata": {},
   "outputs": [
    {
     "data": {
      "image/png": "[encoded data removed]",
      "text/plain": [
       "<Figure size 432x288 with 1 Axes>"
      ]
     },
     "metadata": {
      "needs_background": "light"
     },
     "output_type": "display_data"
    },
    {
     "data": {
      "image/png": "[encoded data removed]",
      "text/plain": [
       "<Figure size 144x144 with 1 Axes>"
      ]
     },
     "metadata": {},
     "output_type": "display_data"
    },
    {
     "data": {
      "image/png": "[encoded data removed]",
      "text/plain": [
       "<Figure size 144x144 with 1 Axes>"
      ]
     },
     "metadata": {},
     "output_type": "display_data"
    },
    {
     "data": {
      "image/png": "[encoded data removed]",
      "text/plain": [
       "<Figure size 144x144 with 1 Axes>"
      ]
     },
     "metadata": {},
     "output_type": "display_data"
    }
   ],
   "source": [
    "build_hist(list1)"
   ]
  },
  {
   "cell_type": "code",
   "execution_count": null,
   "id": "76c84d28",
   "metadata": {},
   "outputs": [],
   "source": []
  }
 ],
 "metadata": {
  "kernelspec": {
   "display_name": "Python 3 (ipykernel)",
   "language": "python",
   "name": "python3"
  },
  "language_info": {
   "codemirror_mode": {
    "name": "ipython",
    "version": 3
   },
   "file_extension": ".py",
   "mimetype": "text/x-python",
   "name": "python",
   "nbconvert_exporter": "python",
   "pygments_lexer": "ipython3",
   "version": "3.8.8"
  }
 },
 "nbformat": 4,
 "nbformat_minor": 5
}
