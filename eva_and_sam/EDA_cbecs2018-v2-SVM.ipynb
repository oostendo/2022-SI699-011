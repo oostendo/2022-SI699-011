{
 "cells": [
  {
   "cell_type": "code",
   "execution_count": null,
   "id": "25cd5d70",
   "metadata": {},
   "outputs": [],
   "source": [
    "import json\n",
    "import pandas as pd\n",
    "import numpy as np\n",
    "import seaborn as sns\n",
    "import re\n",
    "import matplotlib.pyplot as plt\n",
    "import sklearn"
   ]
  },
  {
   "cell_type": "code",
   "execution_count": null,
   "id": "7b973ade",
   "metadata": {
    "scrolled": true
   },
   "outputs": [],
   "source": [
    "df_2018 = pd.read_csv('2018_public_use_data.csv')\n",
    "print(df_2018.shape)"
   ]
  },
  {
   "cell_type": "code",
   "execution_count": null,
   "id": "6fe6e46a",
   "metadata": {},
   "outputs": [],
   "source": [
    "df_filled = df_2018.copy()"
   ]
  },
  {
   "cell_type": "code",
   "execution_count": null,
   "id": "3fc294b2",
   "metadata": {},
   "outputs": [],
   "source": [
    "df_filled.sample(5)"
   ]
  },
  {
   "cell_type": "code",
   "execution_count": null,
   "id": "22a57485",
   "metadata": {
    "scrolled": true
   },
   "outputs": [],
   "source": [
    "df_codebook = pd.read_csv('2018cbecs_codebook_wDicts.csv')\n",
    "df_codebook.head()"
   ]
  },
  {
   "cell_type": "code",
   "execution_count": null,
   "id": "b9bb202c",
   "metadata": {
    "scrolled": false
   },
   "outputs": [],
   "source": [
    "print(df_codebook.category.unique())"
   ]
  },
  {
   "cell_type": "code",
   "execution_count": null,
   "id": "d47fed7b",
   "metadata": {
    "scrolled": false
   },
   "outputs": [],
   "source": [
    "df_codebook_2012 = pd.read_csv('2012cbecs_codebook_wDicts.csv')\n",
    "df_codebook_2012.head()"
   ]
  },
  {
   "cell_type": "code",
   "execution_count": null,
   "id": "fcd72eee",
   "metadata": {
    "scrolled": false
   },
   "outputs": [],
   "source": [
    "col_name_2012 = df_codebook_2012.col_name.values.tolist()\n",
    "col_name_2018 = df_codebook.col_name.values.tolist()"
   ]
  },
  {
   "cell_type": "code",
   "execution_count": null,
   "id": "26d6f507",
   "metadata": {},
   "outputs": [],
   "source": [
    "keep_var = df_codebook[df_codebook['col_name'].isin(col_name_2012)]\n",
    "keep_var.shape\n",
    "\n",
    "## 330 overlapping variables "
   ]
  },
  {
   "cell_type": "code",
   "execution_count": null,
   "id": "c7574c66",
   "metadata": {},
   "outputs": [],
   "source": [
    "keep_var_list = keep_var.col_name.values.tolist()"
   ]
  },
  {
   "cell_type": "code",
   "execution_count": null,
   "id": "10dbcadb",
   "metadata": {},
   "outputs": [],
   "source": [
    "## Read 2012 Data\n",
    "\n",
    "df_2012 = pd.read_csv('2012cbecs_train-data.csv')\n",
    "df_2012_cons = pd.read_csv('2012cbecs_consumption-data.csv')"
   ]
  },
  {
   "cell_type": "code",
   "execution_count": null,
   "id": "bec0a435",
   "metadata": {
    "scrolled": false
   },
   "outputs": [],
   "source": [
    "df_2012.sample(5)"
   ]
  },
  {
   "cell_type": "code",
   "execution_count": null,
   "id": "ac74d4de",
   "metadata": {},
   "outputs": [],
   "source": [
    "df_2012 = df_2012[df_2012.columns.intersection(keep_var_list)]\n",
    "df_2012.shape"
   ]
  },
  {
   "cell_type": "code",
   "execution_count": null,
   "id": "7ad662c2",
   "metadata": {
    "scrolled": false
   },
   "outputs": [],
   "source": [
    "df_2012_cons.sample(5)"
   ]
  },
  {
   "cell_type": "code",
   "execution_count": null,
   "id": "9e89a205",
   "metadata": {},
   "outputs": [],
   "source": [
    "category_map = {}\n",
    "for cat in df_codebook.category.unique():\n",
    "    category_cols_df = df_codebook[df_codebook['category'] == cat]\n",
    "    cat_cols = []\n",
    "    for col in category_cols_df.col_name.values:\n",
    "        if type(col) == str:\n",
    "            cat_cols.append(col)\n",
    "    category_map[cat] = cat_cols"
   ]
  },
  {
   "cell_type": "code",
   "execution_count": null,
   "id": "5f6ecf95",
   "metadata": {},
   "outputs": [],
   "source": [
    "keep_cols = []\n",
    "for wanted_cols in category_map.values():\n",
    "    for col in wanted_cols:\n",
    "        keep_cols.append(col)\n",
    "print(len(keep_cols))"
   ]
  },
  {
   "cell_type": "code",
   "execution_count": null,
   "id": "auburn-symposium",
   "metadata": {},
   "outputs": [],
   "source": [
    "def find_num_cat_cols(list_of_dfs, category_num, list_of_numcols, list_of_catcols):\n",
    "    numeric_cols = []\n",
    "    categorical_cols = []\n",
    "    for col in list_of_dfs[category_num].columns:\n",
    "        if col in list_of_numcols:\n",
    "            numeric_cols.append(col)\n",
    "        elif col in list_of_catcols:\n",
    "            categorical_cols.append(col)\n",
    "    df_category = list_of_dfs[category_num].copy()[numeric_cols + categorical_cols]\n",
    "    return df_category, numeric_cols, categorical_cols"
   ]
  },
  {
   "cell_type": "code",
   "execution_count": null,
   "id": "attractive-nancy",
   "metadata": {},
   "outputs": [],
   "source": [
    "def create_new_codebook(codebook, cols):\n",
    "    new_codebook = dict(codebook.set_index('col_name').loc[cols].codes_dict)\n",
    "    return new_codebook"
   ]
  },
  {
   "cell_type": "code",
   "execution_count": null,
   "id": "weighted-belief",
   "metadata": {},
   "outputs": [],
   "source": [
    "def create_replace_map(new_codebook, category_df, return_errors=False):\n",
    "    replace_map = {}\n",
    "    error_map = {}\n",
    "    for col_name, codebook in new_codebook.items():\n",
    "        try:\n",
    "            codebook = json.loads(codebook.replace(\"'\", '\"'))\n",
    "        except ValueError as e:\n",
    "            print(f'JSONDecodeError on column {col_name}')\n",
    "            error_map[col_name] = (col_name, e)\n",
    "            codebook = codebook.replace('\"', '')\n",
    "            codebook = json.loads(codebook.replace(\"'\", '\"'))\n",
    "        finally:\n",
    "            if col_name in category_df.columns:\n",
    "                for code, code_val in codebook.items():\n",
    "                    if code == '2' and code_val == 'No':\n",
    "                        replace_map[col_name] = 2\n",
    "    \n",
    "    if return_errors == True:\n",
    "        return replace_map, error_map\n",
    "    else:\n",
    "        return replace_map"
   ]
  },
  {
   "cell_type": "code",
   "execution_count": null,
   "id": "168d1c74",
   "metadata": {},
   "outputs": [],
   "source": [
    "def build_hist(column_list):\n",
    "    figname = 0\n",
    "    for column in column_list:\n",
    "        plt.figure(figname)\n",
    "        sns.set(rc = {'figure.figsize':(2,2)})\n",
    "        sns.histplot(data=df, x=column, kde=True)\n",
    "        figname += 1"
   ]
  },
  {
   "cell_type": "code",
   "execution_count": null,
   "id": "8c2a117b",
   "metadata": {
    "scrolled": false
   },
   "outputs": [],
   "source": [
    "df_filled = df_filled[keep_cols]\n",
    "print(df_filled.shape)\n",
    "df_filled.sample(5)"
   ]
  },
  {
   "cell_type": "code",
   "execution_count": null,
   "id": "a596ba0f",
   "metadata": {},
   "outputs": [],
   "source": [
    "category_dfs = {}\n",
    "for cat_name, cat_list in category_map.items():\n",
    "    category_dfs[cat_name] = df_filled[cat_list]\n",
    "category_dfs[0].sample(10)"
   ]
  },
  {
   "cell_type": "code",
   "execution_count": null,
   "id": "fa75dca2",
   "metadata": {},
   "outputs": [],
   "source": [
    "codebook_check = df_codebook.copy().set_index('col_name')\n",
    "num_cols = []\n",
    "cat_cols = []\n",
    "for col in codebook_check.index:\n",
    "    if codebook_check.loc[col].col_type == 'Num':\n",
    "        num_cols.append(col)\n",
    "    else:\n",
    "        cat_cols.append(col)\n",
    "print(len(num_cols))\n",
    "print(len(cat_cols))"
   ]
  },
  {
   "cell_type": "code",
   "execution_count": null,
   "id": "592a95ad",
   "metadata": {},
   "outputs": [],
   "source": [
    "df_filled = df_filled[df_filled.columns.intersection(keep_var_list)]\n",
    "df_filled.shape"
   ]
  },
  {
   "cell_type": "code",
   "execution_count": null,
   "id": "4b4c4ae0",
   "metadata": {
    "scrolled": false
   },
   "outputs": [],
   "source": [
    "df_filled.sample(5)"
   ]
  },
  {
   "cell_type": "code",
   "execution_count": null,
   "id": "434f038e",
   "metadata": {},
   "outputs": [],
   "source": [
    "df_codebook = create_new_codebook(df_codebook, list(df_filled.columns))\n",
    "replace_map, error_map = create_replace_map(df_codebook, df_filled, return_errors=True)\n",
    "print(error_map)"
   ]
  },
  {
   "cell_type": "code",
   "execution_count": null,
   "id": "61f4eab2",
   "metadata": {
    "scrolled": true
   },
   "outputs": [],
   "source": [
    "df_filled = df_filled.replace(to_replace=replace_map, value=0).fillna(value=0)\n",
    "df_filled = df_filled.replace(to_replace='.', value=0)\n",
    "df_filled[0:20]"
   ]
  },
  {
   "cell_type": "code",
   "execution_count": null,
   "id": "d234077f",
   "metadata": {},
   "outputs": [],
   "source": [
    "objects = list(df_filled.select_dtypes(['object']).columns)\n",
    "objects"
   ]
  },
  {
   "cell_type": "code",
   "execution_count": null,
   "id": "9b6d3ccd",
   "metadata": {},
   "outputs": [],
   "source": [
    "for col in objects:\n",
    "    df_filled[col] = df_filled[col].astype(str).astype(int)"
   ]
  },
  {
   "cell_type": "code",
   "execution_count": null,
   "id": "c7be0fd8",
   "metadata": {},
   "outputs": [],
   "source": [
    "list(df_filled.select_dtypes(['object']).columns)"
   ]
  },
  {
   "cell_type": "code",
   "execution_count": null,
   "id": "7c8f5a83",
   "metadata": {
    "scrolled": true
   },
   "outputs": [],
   "source": [
    "print(df_filled.NFLOOR.dtype)\n",
    "print(df_filled.BASEMNT.dtype)\n",
    "print(df_filled.FLCEILHT.dtype)\n",
    "print(df_filled.NELVTR.dtype)\n",
    "print(df_filled.NESLTR.dtype)\n",
    "print(df_filled.RWSEAT.dtype)\n",
    "print(df_filled.PBSEAT.dtype)\n",
    "print(df_filled.HCBED.dtype)\n",
    "print(df_filled.NRSBED.dtype)\n",
    "print(df_filled.LODGRM.dtype)\n",
    "print(df_filled.NOCC.dtype) \n",
    "print(df_filled.NOCCAT.dtype)\n",
    "print(df_filled.XRAYN.dtype)\n",
    "print(df_filled.TVVIDEON.dtype)\n",
    "print(df_filled.RFGCOMPN.dtype)\n",
    "print(df_filled.RFGRSN.dtype)\n",
    "print(df_filled.SERVERN.dtype)\n",
    "print(df_filled.RFGCOMP.dtype)"
   ]
  },
  {
   "cell_type": "code",
   "execution_count": null,
   "id": "54f172c0",
   "metadata": {},
   "outputs": [],
   "source": [
    "## Adjusting for weird values\n",
    "\n",
    "df_filled.NFLOOR.replace(to_replace=994, value=10, inplace=True)\n",
    "df_filled.NFLOOR.replace(to_replace=995, value=15, inplace=True)\n",
    "df_filled.BASEMNT.replace(to_replace=995, value=5, inplace=True)\n",
    "df_filled.FLCEILHT.replace(to_replace=995, value=51, inplace=True)\n",
    "df_filled.NELVTR.replace(to_replace=995, value=31, inplace=True)\n",
    "df_filled.NESLTR.replace(to_replace=995, value=11, inplace=True)\n",
    "df_filled.RWSEAT.replace(to_replace=99995, value=2001, inplace=True)\n",
    "df_filled.PBSEAT.replace(to_replace=999995, value=15001, inplace=True)\n",
    "df_filled.HCBED.replace(to_replace=9995, value=251, inplace=True)\n",
    "df_filled.NRSBED.replace(to_replace=9995, value=251, inplace=True)\n",
    "df_filled.LODGRM.replace(to_replace=99995, value=1001, inplace=True)\n",
    "df_filled.NOCC.replace(to_replace=996, value=0, inplace=True) \n",
    "df_filled.NOCCAT.replace (to_replace=996, value=0, inplace=True) \n",
    "df_filled.XRAYN.replace(to_replace=995, value=21, inplace=True)\n",
    "df_filled.TVVIDEON.replace(to_replace=995, value=201, inplace=True) \n",
    "df_filled.RFGCOMPN.replace(to_replace=9995, value=1001, inplace=True)\n",
    "df_filled.RFGRSN.replace(to_replace=99995, value=1001, inplace=True)\n",
    "df_filled.SERVERN.replace(to_replace=9995, value=501, inplace=True)\n",
    "df_filled.RFGCOMP.replace(to_replace=99995, value=0, inplace=True)"
   ]
  },
  {
   "cell_type": "markdown",
   "id": "86a09091",
   "metadata": {},
   "source": [
    "Training Target "
   ]
  },
  {
   "cell_type": "code",
   "execution_count": null,
   "id": "1beb2cf7",
   "metadata": {
    "scrolled": true
   },
   "outputs": [],
   "source": [
    "col_list = ['MFHTBTU',\n",
    "'MFCLBTU',\n",
    "'MFVNBTU',\n",
    "'MFWTBTU',\n",
    "'MFLTBTU',\n",
    "'MFCKBTU',\n",
    "'MFRFBTU',\n",
    "'MFOFBTU',\n",
    "'MFPCBTU',\n",
    "'MFOTBTU',\n",
    "'ELHTBTU',\n",
    "'ELCLBTU',\n",
    "'ELVNBTU',\n",
    "'ELWTBTU',\n",
    "'ELLTBTU',\n",
    "'ELCKBTU',\n",
    "'ELRFBTU',\n",
    "'ELOFBTU',\n",
    "'ELPCBTU',\n",
    "'ELOTBTU',\n",
    "'NGHTBTU',\n",
    "'NGCLBTU',\n",
    "'NGWTBTU',\n",
    "'NGCKBTU',\n",
    "'NGOTBTU',\n",
    "'FKHTBTU',\n",
    "'FKCLBTU',\n",
    "'FKWTBTU',\n",
    "'FKCKBTU',\n",
    "'FKOTBTU',\n",
    "'DHHTBTU',\n",
    "'DHCLBTU',\n",
    "'DHWTBTU',\n",
    "'DHCKBTU',\n",
    "'DHOTBTU']\n",
    "y_train = pd.DataFrame(columns=[\"energy_consumption\"])\n",
    "y_train[\"energy_consumption\"]=(df_2012_cons[col_list].sum(axis=1))\n",
    "y_train.sample(5)"
   ]
  },
  {
   "cell_type": "code",
   "execution_count": null,
   "id": "394e7346",
   "metadata": {},
   "outputs": [],
   "source": [
    "y_train.describe()"
   ]
  },
  {
   "cell_type": "code",
   "execution_count": null,
   "id": "5b797a7d",
   "metadata": {},
   "outputs": [],
   "source": [
    "train_total = df_2012.join(y_train)\n",
    "train_total.shape"
   ]
  },
  {
   "cell_type": "code",
   "execution_count": null,
   "id": "be4cf818",
   "metadata": {
    "scrolled": true
   },
   "outputs": [],
   "source": [
    "train_total = train_total[train_total.energy_consumption != 0]\n",
    "train_total.shape"
   ]
  },
  {
   "cell_type": "code",
   "execution_count": null,
   "id": "7e73fc5e",
   "metadata": {},
   "outputs": [],
   "source": [
    "X_train1 = train_total.drop(columns=['energy_consumption'])\n",
    "y_train = pd.DataFrame(train_total['energy_consumption'])"
   ]
  },
  {
   "cell_type": "code",
   "execution_count": null,
   "id": "69e609b4",
   "metadata": {},
   "outputs": [],
   "source": [
    "X_train1.shape"
   ]
  },
  {
   "cell_type": "code",
   "execution_count": null,
   "id": "0a549d61",
   "metadata": {},
   "outputs": [],
   "source": [
    "y_train.shape"
   ]
  },
  {
   "cell_type": "code",
   "execution_count": null,
   "id": "1403dc03",
   "metadata": {},
   "outputs": [],
   "source": [
    "X_test = df_filled.copy()"
   ]
  },
  {
   "cell_type": "markdown",
   "id": "80f4a876",
   "metadata": {},
   "source": [
    "# PCA"
   ]
  },
  {
   "cell_type": "code",
   "execution_count": null,
   "id": "cb909700",
   "metadata": {},
   "outputs": [],
   "source": [
    "from sklearn.linear_model import LinearRegression\n",
    "from sklearn.preprocessing import StandardScaler\n",
    "from sklearn.decomposition import PCA\n",
    "\n",
    "lr = LinearRegression()\n",
    "scaler_train = StandardScaler()\n",
    "pca_train = PCA()\n",
    "\n",
    "X_train = X_train1.to_numpy(dtype=float, copy=True)\n",
    "X_train_scaled = scaler_train.fit_transform(X_train)\n",
    "X_train_pca = pca_train.fit_transform(X_train_scaled)"
   ]
  },
  {
   "cell_type": "code",
   "execution_count": null,
   "id": "b203f0b2",
   "metadata": {},
   "outputs": [],
   "source": [
    "pca_exp_var = pd.DataFrame(pca_train.explained_variance_ratio_,)\n",
    "pca_exp_var.T"
   ]
  },
  {
   "cell_type": "code",
   "execution_count": null,
   "id": "2979470e",
   "metadata": {},
   "outputs": [],
   "source": [
    "# plt.figure(figsize=(5,5))\n",
    "# plt.plot(np.cumsum(pca_train.explained_variance_ratio_))\n",
    "# plt.xlabel('num components')\n",
    "# plt.ylabel('cumulative explained variance')"
   ]
  },
  {
   "cell_type": "code",
   "execution_count": null,
   "id": "22f4082f",
   "metadata": {
    "scrolled": true
   },
   "outputs": [],
   "source": [
    "pca_train_df = pd.DataFrame(pca_train.components_)\n",
    "sns.set(rc = {'figure.figsize':(5,5)})\n",
    "sns.scatterplot(x=pca_train_df.T[0], y=pca_train_df.T[1])"
   ]
  },
  {
   "cell_type": "code",
   "execution_count": null,
   "id": "752f6794",
   "metadata": {
    "scrolled": true
   },
   "outputs": [],
   "source": [
    "import matplotlib.pyplot as plt\n",
    "plt.rcParams[\"figure.figsize\"] = (12,6)\n",
    "\n",
    "fig, ax = plt.subplots()\n",
    "xi = np.arange(1, 331, step=1)\n",
    "y = np.cumsum(pca_train.explained_variance_ratio_)\n",
    "\n",
    "plt.ylim(0.0,1.1)\n",
    "plt.plot(xi, y, marker='o', linestyle='--', color='b')\n",
    "\n",
    "plt.xlabel('Number of Components')\n",
    "plt.xticks(np.arange(0, 400, step=50)) #change from 0-based array index to 1-based human-readable label\n",
    "plt.ylabel('Cumulative variance (%)')\n",
    "plt.title('The number of components needed to explain variance')\n",
    "\n",
    "plt.axhline(y=0.80, color='r', linestyle='-')\n",
    "plt.text(0.5, 0.85, '80% cut-off threshold', color = 'red', fontsize=16)\n",
    "\n",
    "plt.axhline(y=0.95, color='b', linestyle='-')\n",
    "plt.text(0.5, 0.97, '95% cut-off threshold', color = 'red', fontsize=16)\n",
    "\n",
    "\n",
    "ax.grid(axis='x')\n",
    "plt.show()\n",
    "\n",
    "# https://www.kaggle.com/code/kushal1506/deciding-n-components-in-pca/notebook"
   ]
  },
  {
   "cell_type": "code",
   "execution_count": null,
   "id": "ef6dc9b7",
   "metadata": {},
   "outputs": [],
   "source": [
    "pca_final = PCA(n_components = 200) # INSERT NUMBER OF COMPONENTS\n",
    "X_train_pca = pca_final.fit_transform(X_train_scaled)"
   ]
  },
  {
   "cell_type": "code",
   "execution_count": null,
   "id": "635870f1",
   "metadata": {},
   "outputs": [],
   "source": [
    "X_train_pca.shape"
   ]
  },
  {
   "cell_type": "code",
   "execution_count": null,
   "id": "d6f28ecd",
   "metadata": {},
   "outputs": [],
   "source": [
    "# pca_exp_var = pd.DataFrame(pca_final.explained_variance_ratio_,)\n",
    "# pca_exp_var.T"
   ]
  },
  {
   "cell_type": "code",
   "execution_count": null,
   "id": "00b61223",
   "metadata": {},
   "outputs": [],
   "source": [
    "## PCA on 2018 data\n",
    "\n",
    "X_test = X_test.to_numpy(dtype=float, copy=True)\n",
    "X_test_scaled = scaler_train.transform(X_test)\n",
    "X_test_pca = pca_final.transform(X_test_scaled)\n",
    "X_test_pca.shape"
   ]
  },
  {
   "cell_type": "markdown",
   "id": "43014d64",
   "metadata": {},
   "source": [
    "SVM"
   ]
  },
  {
   "cell_type": "code",
   "execution_count": null,
   "id": "86cc2459",
   "metadata": {
    "scrolled": true
   },
   "outputs": [],
   "source": [
    "y_train_final = np.log(y_train).to_numpy().ravel()\n",
    "y_train_final"
   ]
  },
  {
   "cell_type": "code",
   "execution_count": null,
   "id": "dea5ccc2",
   "metadata": {},
   "outputs": [],
   "source": [
    "from sklearn import svm\n",
    "regr = svm.SVR(kernel='linear')\n",
    "model_svm = regr.fit(X_train_pca, y_train_final)"
   ]
  },
  {
   "cell_type": "code",
   "execution_count": null,
   "id": "57c1ed4c",
   "metadata": {},
   "outputs": [],
   "source": [
    "y_pred = model_svm.predict(X_test_pca)\n",
    "y_pred.shape"
   ]
  },
  {
   "cell_type": "code",
   "execution_count": null,
   "id": "1b128b7f",
   "metadata": {},
   "outputs": [],
   "source": [
    "predicted = pd.DataFrame(y_pred).rename(columns={0:'predicted'})\n",
    "predicted.describe()"
   ]
  },
  {
   "cell_type": "code",
   "execution_count": null,
   "id": "73fa2c8d",
   "metadata": {},
   "outputs": [],
   "source": [
    "# predicted[predicted['predicted'] >= 500].shape\n",
    "# predicted[predicted['predicted'] <= -0].shape\n",
    "# df_outliers.to_csv('df_outliers.csv')"
   ]
  },
  {
   "cell_type": "markdown",
   "id": "66f3ee96",
   "metadata": {},
   "source": [
    "Testing with Residuals"
   ]
  },
  {
   "cell_type": "code",
   "execution_count": null,
   "id": "d842ee15",
   "metadata": {},
   "outputs": [],
   "source": [
    "testing = model_svm.predict(X_train_pca)\n",
    "testing = pd.DataFrame(testing)\n",
    "testing"
   ]
  },
  {
   "cell_type": "code",
   "execution_count": null,
   "id": "7b454e1a",
   "metadata": {},
   "outputs": [],
   "source": [
    "y_train_final = pd.DataFrame(y_train_final).rename(columns={0:'energy_consumption'})\n",
    "df1=pd.concat([y_train_final,testing],axis=1,join='inner').rename(columns={'energy_consumption': 'original', 0:'predicted'})\n",
    "df1"
   ]
  },
  {
   "cell_type": "code",
   "execution_count": null,
   "id": "df5b3b10",
   "metadata": {},
   "outputs": [],
   "source": [
    "df1['residual']= df1['original'] - df1['predicted']\n",
    "df1"
   ]
  },
  {
   "cell_type": "code",
   "execution_count": null,
   "id": "faddc701",
   "metadata": {},
   "outputs": [],
   "source": [
    "sns.scatterplot(data=df1, x=\"predicted\", y=\"residual\")"
   ]
  },
  {
   "cell_type": "markdown",
   "id": "0eca5925",
   "metadata": {},
   "source": [
    "Rerunning SVM without outliers"
   ]
  },
  {
   "cell_type": "code",
   "execution_count": null,
   "id": "0decfec3",
   "metadata": {
    "scrolled": true
   },
   "outputs": [],
   "source": [
    "df_outliers=pd.concat([df_filled,predicted],axis=1,join='inner')\n",
    "X_test2 = df_outliers.drop(df_outliers[df_outliers.predicted <= -500].index)\n",
    "X_test_final = X_test2.drop(X_test2[X_test2.predicted >= 500].index)"
   ]
  },
  {
   "cell_type": "code",
   "execution_count": null,
   "id": "bf96b58c",
   "metadata": {
    "scrolled": true
   },
   "outputs": [],
   "source": [
    "X_test2.shape"
   ]
  },
  {
   "cell_type": "code",
   "execution_count": null,
   "id": "ac33ef7a",
   "metadata": {},
   "outputs": [],
   "source": [
    "X_test_final.shape"
   ]
  },
  {
   "cell_type": "code",
   "execution_count": null,
   "id": "3052d796",
   "metadata": {},
   "outputs": [],
   "source": [
    "X_test_final = pd.DataFrame(X_test_final)\n",
    "X_test_final"
   ]
  },
  {
   "cell_type": "code",
   "execution_count": null,
   "id": "52dc04f5",
   "metadata": {},
   "outputs": [],
   "source": [
    "X_test_final.drop(columns=['predicted'], axis=1, inplace=True)"
   ]
  },
  {
   "cell_type": "code",
   "execution_count": null,
   "id": "45e510be",
   "metadata": {},
   "outputs": [],
   "source": [
    "X_test_final = X_test_final.to_numpy(dtype=float, copy=True)\n",
    "X_test_scaled_final = scaler_train.transform(X_test_final)\n",
    "X_test_pca_final = pca_final.transform(X_test_scaled_final)"
   ]
  },
  {
   "cell_type": "code",
   "execution_count": null,
   "id": "c9e9b89c",
   "metadata": {},
   "outputs": [],
   "source": [
    "y_pred_final = model_svm.predict(X_test_pca_final)\n",
    "y_pred_final.shape"
   ]
  },
  {
   "cell_type": "code",
   "execution_count": null,
   "id": "b42df870",
   "metadata": {},
   "outputs": [],
   "source": [
    "predicted_final = pd.DataFrame(y_pred_final).rename(columns={0:'predicted'})"
   ]
  },
  {
   "cell_type": "code",
   "execution_count": null,
   "id": "2cd61d20",
   "metadata": {},
   "outputs": [],
   "source": [
    "predicted_final.describe()"
   ]
  },
  {
   "cell_type": "code",
   "execution_count": null,
   "id": "1acaaf27",
   "metadata": {},
   "outputs": [],
   "source": []
  }
 ],
 "metadata": {
  "kernelspec": {
   "display_name": "Python 3 (ipykernel)",
   "language": "python",
   "name": "python3"
  },
  "language_info": {
   "codemirror_mode": {
    "name": "ipython",
    "version": 3
   },
   "file_extension": ".py",
   "mimetype": "text/x-python",
   "name": "python",
   "nbconvert_exporter": "python",
   "pygments_lexer": "ipython3",
   "version": "3.8.13"
  }
 },
 "nbformat": 4,
 "nbformat_minor": 5
}
