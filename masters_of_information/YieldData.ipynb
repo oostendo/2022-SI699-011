{
 "cells": [
  {
   "cell_type": "markdown",
   "metadata": {},
   "source": [
    "## Yield Data"
   ]
  },
  {
   "cell_type": "code",
   "execution_count": 1,
   "metadata": {},
   "outputs": [],
   "source": [
    "import pandas as pd\n",
    "import numpy as np\n",
    "import altair as alt\n",
    "import os\n"
   ]
  },
  {
   "cell_type": "code",
   "execution_count": 2,
   "metadata": {},
   "outputs": [
    {
     "data": {
      "text/plain": [
       "'/Users/katiechenning/Documents/umich/courses/si699'"
      ]
     },
     "execution_count": 2,
     "metadata": {},
     "output_type": "execute_result"
    }
   ],
   "source": [
    "pwd\n"
   ]
  },
  {
   "cell_type": "code",
   "execution_count": 4,
   "metadata": {},
   "outputs": [],
   "source": [
    "vegetables = pd.read_csv('MichiganVegetableData.csv')"
   ]
  },
  {
   "cell_type": "code",
   "execution_count": null,
   "metadata": {},
   "outputs": [],
   "source": []
  },
  {
   "cell_type": "code",
   "execution_count": 5,
   "metadata": {},
   "outputs": [],
   "source": [
    "commodity_list1 = vegetables['Commodity'].unique().tolist()"
   ]
  },
  {
   "cell_type": "code",
   "execution_count": 6,
   "metadata": {},
   "outputs": [
    {
     "name": "stdout",
     "output_type": "stream",
     "text": [
      "BEANS\n",
      "CABBAGE\n",
      "CARROTS\n",
      "CELERY\n",
      "ONIONS\n",
      "PEPPERS\n",
      "POTATOES\n",
      "SQUASH\n",
      "SWEET CORN\n",
      "TOMATOES\n",
      "ASPARAGUS\n",
      "CUCUMBERS\n",
      "PUMPKINS\n"
     ]
    }
   ],
   "source": [
    "for commodity in commodity_list1:\n",
    "    commoditydf = vegetables[vegetables['Commodity'] == commodity]\n",
    "    mi_commodity_YIELD = commoditydf[commoditydf['Data Item'].str.contains(\"YIELD\")]\n",
    "    year_length = len(mi_commodity_YIELD.Year.unique().tolist())\n",
    "    if year_length > 15:\n",
    "        print(commodity)"
   ]
  },
  {
   "cell_type": "markdown",
   "metadata": {},
   "source": [
    "## Cucumbers"
   ]
  },
  {
   "cell_type": "code",
   "execution_count": 7,
   "metadata": {},
   "outputs": [],
   "source": [
    "mi_cucumbers = vegetables[vegetables['Commodity'] == 'CUCUMBERS']"
   ]
  },
  {
   "cell_type": "code",
   "execution_count": 8,
   "metadata": {},
   "outputs": [
    {
     "data": {
      "text/plain": [
       "array(['CUCUMBERS - ACRES HARVESTED',\n",
       "       'CUCUMBERS - OPERATIONS WITH AREA HARVESTED',\n",
       "       'CUCUMBERS, FRESH MARKET - ACRES HARVESTED',\n",
       "       'CUCUMBERS, FRESH MARKET - OPERATIONS WITH AREA HARVESTED',\n",
       "       'CUCUMBERS, PROCESSING, PICKLES - ACRES HARVESTED',\n",
       "       'CUCUMBERS, PROCESSING, PICKLES - OPERATIONS WITH AREA HARVESTED',\n",
       "       'CUCUMBERS - PRICE RECEIVED, MEASURED IN $ / CWT',\n",
       "       'CUCUMBERS, FRESH MARKET - PRICE RECEIVED, MEASURED IN $ / CWT',\n",
       "       'CUCUMBERS, PROCESSING - PRICE RECEIVED, MEASURED IN $ / TON',\n",
       "       'CUCUMBERS - ACRES PLANTED',\n",
       "       'CUCUMBERS - PRODUCTION, MEASURED IN $',\n",
       "       'CUCUMBERS - PRODUCTION, MEASURED IN CWT',\n",
       "       'CUCUMBERS - YIELD, MEASURED IN CWT / ACRE',\n",
       "       'CUCUMBERS, FRESH MARKET - PRODUCTION, MEASURED IN $',\n",
       "       'CUCUMBERS, FRESH MARKET, UTILIZED - PRODUCTION, MEASURED IN CWT',\n",
       "       'CUCUMBERS, NOT SOLD - PRODUCTION, MEASURED IN CWT',\n",
       "       'CUCUMBERS, PROCESSING - PRODUCTION, MEASURED IN $',\n",
       "       'CUCUMBERS, PROCESSING, UTILIZED - PRODUCTION, MEASURED IN TONS',\n",
       "       'CUCUMBERS, UTILIZED - PRODUCTION, MEASURED IN CWT',\n",
       "       'CUCUMBERS, PROCESSING, PICKLES - PRICE RECEIVED, MEASURED IN $ / TON',\n",
       "       'CUCUMBERS, FRESH MARKET - ACRES PLANTED',\n",
       "       'CUCUMBERS, FRESH MARKET - PRODUCTION, MEASURED IN CWT',\n",
       "       'CUCUMBERS, FRESH MARKET - YIELD, MEASURED IN CWT / ACRE',\n",
       "       'CUCUMBERS, PROCESSING, PICKLES - ACRES PLANTED',\n",
       "       'CUCUMBERS, PROCESSING, PICKLES - PRODUCTION, MEASURED IN $',\n",
       "       'CUCUMBERS, PROCESSING, PICKLES - PRODUCTION, MEASURED IN TONS',\n",
       "       'CUCUMBERS, PROCESSING, PICKLES - YIELD, MEASURED IN TONS / ACRE',\n",
       "       'CUCUMBERS, PROCESSING, CONTRACT - ACRES PLANTED'], dtype=object)"
      ]
     },
     "execution_count": 8,
     "metadata": {},
     "output_type": "execute_result"
    }
   ],
   "source": [
    "mi_cucumbers['Data Item'].unique()"
   ]
  },
  {
   "cell_type": "code",
   "execution_count": 9,
   "metadata": {},
   "outputs": [],
   "source": [
    "mi_cucumbers_yield = mi_cucumbers[mi_cucumbers['Data Item'] \n",
    "                                                            == 'CUCUMBERS, PROCESSING, PICKLES - YIELD, MEASURED IN TONS / ACRE']"
   ]
  },
  {
   "cell_type": "code",
   "execution_count": 10,
   "metadata": {},
   "outputs": [
    {
     "data": {
      "text/plain": [
       "array([2015, 2014, 2013, 2012, 2011, 2010, 2009, 2008, 2007, 2006, 2005,\n",
       "       2004, 2003, 2002, 2001, 2000, 1999, 1998])"
      ]
     },
     "execution_count": 10,
     "metadata": {},
     "output_type": "execute_result"
    }
   ],
   "source": [
    "mi_cucumbers_yield.Year.unique()"
   ]
  },
  {
   "cell_type": "code",
   "execution_count": 11,
   "metadata": {},
   "outputs": [],
   "source": [
    "#mi_cucumbers_yield"
   ]
  },
  {
   "cell_type": "code",
   "execution_count": 12,
   "metadata": {},
   "outputs": [],
   "source": [
    "#cucumbers_ordered"
   ]
  },
  {
   "cell_type": "code",
   "execution_count": 13,
   "metadata": {},
   "outputs": [],
   "source": [
    "cucumbers_yield_stripped_data = mi_cucumbers_yield[['Year', 'Value']]"
   ]
  },
  {
   "cell_type": "code",
   "execution_count": 14,
   "metadata": {},
   "outputs": [
    {
     "name": "stderr",
     "output_type": "stream",
     "text": [
      "<ipython-input-14-be056347f78d>:1: SettingWithCopyWarning: \n",
      "A value is trying to be set on a copy of a slice from a DataFrame.\n",
      "Try using .loc[row_indexer,col_indexer] = value instead\n",
      "\n",
      "See the caveats in the documentation: https://pandas.pydata.org/pandas-docs/stable/user_guide/indexing.html#returning-a-view-versus-a-copy\n",
      "  cucumbers_yield_stripped_data['Value'] = pd.to_numeric(\n"
     ]
    }
   ],
   "source": [
    "cucumbers_yield_stripped_data['Value'] = pd.to_numeric(\n",
    "    cucumbers_yield_stripped_data['Value'].str.replace(',', ''), errors='coerce')"
   ]
  },
  {
   "cell_type": "code",
   "execution_count": 15,
   "metadata": {},
   "outputs": [
    {
     "data": {
      "text/html": [
       "<div>\n",
       "<style scoped>\n",
       "    .dataframe tbody tr th:only-of-type {\n",
       "        vertical-align: middle;\n",
       "    }\n",
       "\n",
       "    .dataframe tbody tr th {\n",
       "        vertical-align: top;\n",
       "    }\n",
       "\n",
       "    .dataframe thead th {\n",
       "        text-align: right;\n",
       "    }\n",
       "</style>\n",
       "<table border=\"1\" class=\"dataframe\">\n",
       "  <thead>\n",
       "    <tr style=\"text-align: right;\">\n",
       "      <th></th>\n",
       "      <th>Year</th>\n",
       "      <th>Value</th>\n",
       "    </tr>\n",
       "  </thead>\n",
       "  <tbody>\n",
       "    <tr>\n",
       "      <th>9901</th>\n",
       "      <td>2015</td>\n",
       "      <td>5.90</td>\n",
       "    </tr>\n",
       "    <tr>\n",
       "      <th>10064</th>\n",
       "      <td>2014</td>\n",
       "      <td>6.10</td>\n",
       "    </tr>\n",
       "    <tr>\n",
       "      <th>10242</th>\n",
       "      <td>2013</td>\n",
       "      <td>5.80</td>\n",
       "    </tr>\n",
       "    <tr>\n",
       "      <th>10416</th>\n",
       "      <td>2012</td>\n",
       "      <td>5.40</td>\n",
       "    </tr>\n",
       "    <tr>\n",
       "      <th>10600</th>\n",
       "      <td>2011</td>\n",
       "      <td>5.60</td>\n",
       "    </tr>\n",
       "    <tr>\n",
       "      <th>10788</th>\n",
       "      <td>2010</td>\n",
       "      <td>6.40</td>\n",
       "    </tr>\n",
       "    <tr>\n",
       "      <th>10971</th>\n",
       "      <td>2009</td>\n",
       "      <td>5.80</td>\n",
       "    </tr>\n",
       "    <tr>\n",
       "      <th>11151</th>\n",
       "      <td>2008</td>\n",
       "      <td>6.20</td>\n",
       "    </tr>\n",
       "    <tr>\n",
       "      <th>11334</th>\n",
       "      <td>2007</td>\n",
       "      <td>5.30</td>\n",
       "    </tr>\n",
       "    <tr>\n",
       "      <th>11527</th>\n",
       "      <td>2006</td>\n",
       "      <td>5.20</td>\n",
       "    </tr>\n",
       "    <tr>\n",
       "      <th>11712</th>\n",
       "      <td>2005</td>\n",
       "      <td>4.80</td>\n",
       "    </tr>\n",
       "    <tr>\n",
       "      <th>11885</th>\n",
       "      <td>2004</td>\n",
       "      <td>5.00</td>\n",
       "    </tr>\n",
       "    <tr>\n",
       "      <th>12067</th>\n",
       "      <td>2003</td>\n",
       "      <td>5.40</td>\n",
       "    </tr>\n",
       "    <tr>\n",
       "      <th>12247</th>\n",
       "      <td>2002</td>\n",
       "      <td>4.60</td>\n",
       "    </tr>\n",
       "    <tr>\n",
       "      <th>12426</th>\n",
       "      <td>2001</td>\n",
       "      <td>4.25</td>\n",
       "    </tr>\n",
       "    <tr>\n",
       "      <th>12583</th>\n",
       "      <td>2000</td>\n",
       "      <td>6.00</td>\n",
       "    </tr>\n",
       "    <tr>\n",
       "      <th>12744</th>\n",
       "      <td>1999</td>\n",
       "      <td>6.00</td>\n",
       "    </tr>\n",
       "    <tr>\n",
       "      <th>12876</th>\n",
       "      <td>1998</td>\n",
       "      <td>5.00</td>\n",
       "    </tr>\n",
       "  </tbody>\n",
       "</table>\n",
       "</div>"
      ],
      "text/plain": [
       "       Year  Value\n",
       "9901   2015   5.90\n",
       "10064  2014   6.10\n",
       "10242  2013   5.80\n",
       "10416  2012   5.40\n",
       "10600  2011   5.60\n",
       "10788  2010   6.40\n",
       "10971  2009   5.80\n",
       "11151  2008   6.20\n",
       "11334  2007   5.30\n",
       "11527  2006   5.20\n",
       "11712  2005   4.80\n",
       "11885  2004   5.00\n",
       "12067  2003   5.40\n",
       "12247  2002   4.60\n",
       "12426  2001   4.25\n",
       "12583  2000   6.00\n",
       "12744  1999   6.00\n",
       "12876  1998   5.00"
      ]
     },
     "execution_count": 15,
     "metadata": {},
     "output_type": "execute_result"
    }
   ],
   "source": [
    "cucumbers_yield_stripped_data"
   ]
  },
  {
   "cell_type": "markdown",
   "metadata": {},
   "source": [
    "## Pumpkin\n"
   ]
  },
  {
   "cell_type": "code",
   "execution_count": 16,
   "metadata": {},
   "outputs": [],
   "source": [
    "mi_pumpkins = vegetables[vegetables['Commodity'] == 'PUMPKINS']"
   ]
  },
  {
   "cell_type": "code",
   "execution_count": 17,
   "metadata": {},
   "outputs": [],
   "source": [
    "mi_pumpkins_yield = mi_pumpkins[mi_pumpkins['Data Item'] == 'PUMPKINS - YIELD, MEASURED IN CWT / ACRE']"
   ]
  },
  {
   "cell_type": "code",
   "execution_count": 18,
   "metadata": {},
   "outputs": [
    {
     "data": {
      "text/plain": [
       "array([2020, 2019, 2018, 2017, 2016, 2015, 2014, 2013, 2012, 2011, 2010,\n",
       "       2009, 2008, 2007, 2006, 2005, 2004, 2003, 2002, 2001, 2000])"
      ]
     },
     "execution_count": 18,
     "metadata": {},
     "output_type": "execute_result"
    }
   ],
   "source": [
    "mi_pumpkins_yield.Year.unique()"
   ]
  },
  {
   "cell_type": "code",
   "execution_count": 19,
   "metadata": {},
   "outputs": [],
   "source": [
    "pumpkins_yield_stripped_data = mi_pumpkins_yield[['Year', 'Value']]"
   ]
  },
  {
   "cell_type": "code",
   "execution_count": 20,
   "metadata": {},
   "outputs": [
    {
     "data": {
      "text/html": [
       "<div>\n",
       "<style scoped>\n",
       "    .dataframe tbody tr th:only-of-type {\n",
       "        vertical-align: middle;\n",
       "    }\n",
       "\n",
       "    .dataframe tbody tr th {\n",
       "        vertical-align: top;\n",
       "    }\n",
       "\n",
       "    .dataframe thead th {\n",
       "        text-align: right;\n",
       "    }\n",
       "</style>\n",
       "<table border=\"1\" class=\"dataframe\">\n",
       "  <thead>\n",
       "    <tr style=\"text-align: right;\">\n",
       "      <th></th>\n",
       "      <th>Year</th>\n",
       "      <th>Value</th>\n",
       "    </tr>\n",
       "  </thead>\n",
       "  <tbody>\n",
       "    <tr>\n",
       "      <th>8953</th>\n",
       "      <td>2020</td>\n",
       "      <td>160</td>\n",
       "    </tr>\n",
       "    <tr>\n",
       "      <th>9096</th>\n",
       "      <td>2019</td>\n",
       "      <td>150</td>\n",
       "    </tr>\n",
       "    <tr>\n",
       "      <th>9287</th>\n",
       "      <td>2018</td>\n",
       "      <td>190</td>\n",
       "    </tr>\n",
       "    <tr>\n",
       "      <th>9512</th>\n",
       "      <td>2017</td>\n",
       "      <td>155</td>\n",
       "    </tr>\n",
       "    <tr>\n",
       "      <th>9748</th>\n",
       "      <td>2016</td>\n",
       "      <td>155</td>\n",
       "    </tr>\n",
       "    <tr>\n",
       "      <th>9946</th>\n",
       "      <td>2015</td>\n",
       "      <td>155</td>\n",
       "    </tr>\n",
       "    <tr>\n",
       "      <th>10100</th>\n",
       "      <td>2014</td>\n",
       "      <td>160</td>\n",
       "    </tr>\n",
       "    <tr>\n",
       "      <th>10278</th>\n",
       "      <td>2013</td>\n",
       "      <td>155</td>\n",
       "    </tr>\n",
       "    <tr>\n",
       "      <th>10442</th>\n",
       "      <td>2012</td>\n",
       "      <td>150</td>\n",
       "    </tr>\n",
       "    <tr>\n",
       "      <th>10629</th>\n",
       "      <td>2011</td>\n",
       "      <td>145</td>\n",
       "    </tr>\n",
       "    <tr>\n",
       "      <th>10817</th>\n",
       "      <td>2010</td>\n",
       "      <td>140</td>\n",
       "    </tr>\n",
       "    <tr>\n",
       "      <th>11000</th>\n",
       "      <td>2009</td>\n",
       "      <td>110</td>\n",
       "    </tr>\n",
       "    <tr>\n",
       "      <th>11180</th>\n",
       "      <td>2008</td>\n",
       "      <td>145</td>\n",
       "    </tr>\n",
       "    <tr>\n",
       "      <th>11363</th>\n",
       "      <td>2007</td>\n",
       "      <td>115</td>\n",
       "    </tr>\n",
       "    <tr>\n",
       "      <th>11556</th>\n",
       "      <td>2006</td>\n",
       "      <td>150</td>\n",
       "    </tr>\n",
       "    <tr>\n",
       "      <th>11741</th>\n",
       "      <td>2005</td>\n",
       "      <td>145</td>\n",
       "    </tr>\n",
       "    <tr>\n",
       "      <th>11914</th>\n",
       "      <td>2004</td>\n",
       "      <td>140</td>\n",
       "    </tr>\n",
       "    <tr>\n",
       "      <th>12096</th>\n",
       "      <td>2003</td>\n",
       "      <td>140</td>\n",
       "    </tr>\n",
       "    <tr>\n",
       "      <th>12276</th>\n",
       "      <td>2002</td>\n",
       "      <td>120</td>\n",
       "    </tr>\n",
       "    <tr>\n",
       "      <th>12461</th>\n",
       "      <td>2001</td>\n",
       "      <td>120</td>\n",
       "    </tr>\n",
       "    <tr>\n",
       "      <th>12618</th>\n",
       "      <td>2000</td>\n",
       "      <td>160</td>\n",
       "    </tr>\n",
       "  </tbody>\n",
       "</table>\n",
       "</div>"
      ],
      "text/plain": [
       "       Year Value\n",
       "8953   2020   160\n",
       "9096   2019   150\n",
       "9287   2018   190\n",
       "9512   2017   155\n",
       "9748   2016   155\n",
       "9946   2015   155\n",
       "10100  2014   160\n",
       "10278  2013   155\n",
       "10442  2012   150\n",
       "10629  2011   145\n",
       "10817  2010   140\n",
       "11000  2009   110\n",
       "11180  2008   145\n",
       "11363  2007   115\n",
       "11556  2006   150\n",
       "11741  2005   145\n",
       "11914  2004   140\n",
       "12096  2003   140\n",
       "12276  2002   120\n",
       "12461  2001   120\n",
       "12618  2000   160"
      ]
     },
     "execution_count": 20,
     "metadata": {},
     "output_type": "execute_result"
    }
   ],
   "source": [
    "pumpkins_yield_stripped_data"
   ]
  },
  {
   "cell_type": "markdown",
   "metadata": {},
   "source": [
    "## Cabbage"
   ]
  },
  {
   "cell_type": "code",
   "execution_count": 21,
   "metadata": {},
   "outputs": [],
   "source": [
    "mi_cabbage = vegetables[vegetables['Commodity'] == 'CABBAGE']\n",
    "#mi_cabbage['Data Item'].unique()"
   ]
  },
  {
   "cell_type": "code",
   "execution_count": 22,
   "metadata": {},
   "outputs": [],
   "source": [
    "mi_cabbage_yield = mi_cabbage[mi_cabbage['Data Item'] == 'CABBAGE, FRESH MARKET - YIELD, MEASURED IN CWT / ACRE']"
   ]
  },
  {
   "cell_type": "code",
   "execution_count": 23,
   "metadata": {},
   "outputs": [],
   "source": [
    "#mi_cabbage_yield"
   ]
  },
  {
   "cell_type": "code",
   "execution_count": 24,
   "metadata": {},
   "outputs": [
    {
     "data": {
      "text/plain": [
       "array([2015, 2014, 2013, 2012, 2011, 2010, 2009, 2008, 2007, 2006, 2005,\n",
       "       2004, 2003, 2002, 2001, 2000, 1999, 1998])"
      ]
     },
     "execution_count": 24,
     "metadata": {},
     "output_type": "execute_result"
    }
   ],
   "source": [
    "mi_cabbage_yield.Year.unique()"
   ]
  },
  {
   "cell_type": "code",
   "execution_count": 25,
   "metadata": {},
   "outputs": [
    {
     "data": {
      "text/html": [
       "<div>\n",
       "<style scoped>\n",
       "    .dataframe tbody tr th:only-of-type {\n",
       "        vertical-align: middle;\n",
       "    }\n",
       "\n",
       "    .dataframe tbody tr th {\n",
       "        vertical-align: top;\n",
       "    }\n",
       "\n",
       "    .dataframe thead th {\n",
       "        text-align: right;\n",
       "    }\n",
       "</style>\n",
       "<table border=\"1\" class=\"dataframe\">\n",
       "  <thead>\n",
       "    <tr style=\"text-align: right;\">\n",
       "      <th></th>\n",
       "      <th>Year</th>\n",
       "      <th>Value</th>\n",
       "    </tr>\n",
       "  </thead>\n",
       "  <tbody>\n",
       "    <tr>\n",
       "      <th>9879</th>\n",
       "      <td>2015</td>\n",
       "      <td>290</td>\n",
       "    </tr>\n",
       "    <tr>\n",
       "      <th>10044</th>\n",
       "      <td>2014</td>\n",
       "      <td>270</td>\n",
       "    </tr>\n",
       "    <tr>\n",
       "      <th>10222</th>\n",
       "      <td>2013</td>\n",
       "      <td>230</td>\n",
       "    </tr>\n",
       "    <tr>\n",
       "      <th>10396</th>\n",
       "      <td>2012</td>\n",
       "      <td>250</td>\n",
       "    </tr>\n",
       "    <tr>\n",
       "      <th>10576</th>\n",
       "      <td>2011</td>\n",
       "      <td>230</td>\n",
       "    </tr>\n",
       "    <tr>\n",
       "      <th>10764</th>\n",
       "      <td>2010</td>\n",
       "      <td>280</td>\n",
       "    </tr>\n",
       "    <tr>\n",
       "      <th>10947</th>\n",
       "      <td>2009</td>\n",
       "      <td>260</td>\n",
       "    </tr>\n",
       "    <tr>\n",
       "      <th>11121</th>\n",
       "      <td>2008</td>\n",
       "      <td>280</td>\n",
       "    </tr>\n",
       "    <tr>\n",
       "      <th>11304</th>\n",
       "      <td>2007</td>\n",
       "      <td>320</td>\n",
       "    </tr>\n",
       "    <tr>\n",
       "      <th>11497</th>\n",
       "      <td>2006</td>\n",
       "      <td>340</td>\n",
       "    </tr>\n",
       "    <tr>\n",
       "      <th>11682</th>\n",
       "      <td>2005</td>\n",
       "      <td>360</td>\n",
       "    </tr>\n",
       "    <tr>\n",
       "      <th>11855</th>\n",
       "      <td>2004</td>\n",
       "      <td>270</td>\n",
       "    </tr>\n",
       "    <tr>\n",
       "      <th>12037</th>\n",
       "      <td>2003</td>\n",
       "      <td>320</td>\n",
       "    </tr>\n",
       "    <tr>\n",
       "      <th>12217</th>\n",
       "      <td>2002</td>\n",
       "      <td>300</td>\n",
       "    </tr>\n",
       "    <tr>\n",
       "      <th>12396</th>\n",
       "      <td>2001</td>\n",
       "      <td>320</td>\n",
       "    </tr>\n",
       "    <tr>\n",
       "      <th>12553</th>\n",
       "      <td>2000</td>\n",
       "      <td>250</td>\n",
       "    </tr>\n",
       "    <tr>\n",
       "      <th>12708</th>\n",
       "      <td>1999</td>\n",
       "      <td>280</td>\n",
       "    </tr>\n",
       "    <tr>\n",
       "      <th>12840</th>\n",
       "      <td>1998</td>\n",
       "      <td>260</td>\n",
       "    </tr>\n",
       "  </tbody>\n",
       "</table>\n",
       "</div>"
      ],
      "text/plain": [
       "       Year Value\n",
       "9879   2015   290\n",
       "10044  2014   270\n",
       "10222  2013   230\n",
       "10396  2012   250\n",
       "10576  2011   230\n",
       "10764  2010   280\n",
       "10947  2009   260\n",
       "11121  2008   280\n",
       "11304  2007   320\n",
       "11497  2006   340\n",
       "11682  2005   360\n",
       "11855  2004   270\n",
       "12037  2003   320\n",
       "12217  2002   300\n",
       "12396  2001   320\n",
       "12553  2000   250\n",
       "12708  1999   280\n",
       "12840  1998   260"
      ]
     },
     "execution_count": 25,
     "metadata": {},
     "output_type": "execute_result"
    }
   ],
   "source": [
    "cabbage_yield_stripped_data = mi_cabbage_yield[['Year', 'Value']]\n",
    "cabbage_yield_stripped_data"
   ]
  },
  {
   "cell_type": "markdown",
   "metadata": {},
   "source": [
    "## Potatoes"
   ]
  },
  {
   "cell_type": "code",
   "execution_count": 26,
   "metadata": {},
   "outputs": [],
   "source": [
    "mi_potatoes = vegetables[vegetables['Commodity'] == 'POTATOES']"
   ]
  },
  {
   "cell_type": "code",
   "execution_count": 27,
   "metadata": {},
   "outputs": [],
   "source": [
    "#mi_potatoes['Data Item'].unique()"
   ]
  },
  {
   "cell_type": "code",
   "execution_count": 28,
   "metadata": {},
   "outputs": [],
   "source": [
    "potatoes_yield = mi_potatoes[mi_potatoes['Data Item'] == 'POTATOES - YIELD, MEASURED IN CWT / ACRE']"
   ]
  },
  {
   "cell_type": "code",
   "execution_count": 29,
   "metadata": {},
   "outputs": [
    {
     "data": {
      "text/plain": [
       "array([2021, 2020, 2019, 2018, 2017, 2016, 2015, 2014, 2013, 2012, 2011,\n",
       "       2010, 2009, 2008, 2007, 2006, 2005, 2004, 2003, 2002, 2001, 2000,\n",
       "       1999, 1998, 1997, 1996, 1995, 1994, 1993, 1992, 1991, 1990, 1989,\n",
       "       1988, 1987, 1986, 1985, 1984, 1983, 1982, 1981, 1980, 1979, 1978,\n",
       "       1977, 1976, 1975, 1974, 1973, 1972, 1971, 1970, 1969, 1968, 1967,\n",
       "       1966, 1965, 1964, 1963, 1962, 1961, 1960, 1959, 1958, 1957, 1956,\n",
       "       1955, 1954, 1953, 1952, 1951, 1950, 1949, 1948, 1947, 1946, 1945,\n",
       "       1944, 1943, 1942, 1941, 1940, 1939, 1938, 1937, 1936, 1935, 1934,\n",
       "       1933, 1932, 1931, 1930, 1929, 1928, 1927, 1926, 1925, 1924, 1923,\n",
       "       1922, 1921, 1920, 1919, 1918, 1917, 1916, 1915, 1914, 1913, 1912,\n",
       "       1911, 1910, 1909, 1908, 1907, 1906, 1905, 1904, 1903, 1902, 1901,\n",
       "       1900, 1899, 1898, 1897, 1896, 1895, 1894, 1893, 1892, 1891, 1890,\n",
       "       1889, 1888, 1887, 1886, 1885, 1884, 1883, 1882, 1881, 1880, 1879,\n",
       "       1878, 1877, 1876, 1875, 1874, 1873, 1872, 1871, 1870, 1869, 1868,\n",
       "       1867, 1866])"
      ]
     },
     "execution_count": 29,
     "metadata": {},
     "output_type": "execute_result"
    }
   ],
   "source": [
    "potatoes_yield.Year.unique()"
   ]
  },
  {
   "cell_type": "code",
   "execution_count": 30,
   "metadata": {},
   "outputs": [],
   "source": [
    "potatoes_year_only = potatoes_yield[potatoes_yield['Period'] == 'YEAR']"
   ]
  },
  {
   "cell_type": "code",
   "execution_count": 31,
   "metadata": {},
   "outputs": [],
   "source": [
    "potatoes_yield_stripped_data = potatoes_year_only[['Year', 'Value']]"
   ]
  },
  {
   "cell_type": "code",
   "execution_count": 32,
   "metadata": {},
   "outputs": [
    {
     "data": {
      "text/html": [
       "<div>\n",
       "<style scoped>\n",
       "    .dataframe tbody tr th:only-of-type {\n",
       "        vertical-align: middle;\n",
       "    }\n",
       "\n",
       "    .dataframe tbody tr th {\n",
       "        vertical-align: top;\n",
       "    }\n",
       "\n",
       "    .dataframe thead th {\n",
       "        text-align: right;\n",
       "    }\n",
       "</style>\n",
       "<table border=\"1\" class=\"dataframe\">\n",
       "  <thead>\n",
       "    <tr style=\"text-align: right;\">\n",
       "      <th></th>\n",
       "      <th>Year</th>\n",
       "      <th>Value</th>\n",
       "    </tr>\n",
       "  </thead>\n",
       "  <tbody>\n",
       "    <tr>\n",
       "      <th>8827</th>\n",
       "      <td>2021</td>\n",
       "      <td>420</td>\n",
       "    </tr>\n",
       "    <tr>\n",
       "      <th>8939</th>\n",
       "      <td>2020</td>\n",
       "      <td>390</td>\n",
       "    </tr>\n",
       "    <tr>\n",
       "      <th>9082</th>\n",
       "      <td>2019</td>\n",
       "      <td>420</td>\n",
       "    </tr>\n",
       "    <tr>\n",
       "      <th>9263</th>\n",
       "      <td>2018</td>\n",
       "      <td>380</td>\n",
       "    </tr>\n",
       "    <tr>\n",
       "      <th>9488</th>\n",
       "      <td>2017</td>\n",
       "      <td>370</td>\n",
       "    </tr>\n",
       "    <tr>\n",
       "      <th>...</th>\n",
       "      <td>...</td>\n",
       "      <td>...</td>\n",
       "    </tr>\n",
       "    <tr>\n",
       "      <th>14423</th>\n",
       "      <td>1870</td>\n",
       "      <td>52</td>\n",
       "    </tr>\n",
       "    <tr>\n",
       "      <th>14428</th>\n",
       "      <td>1869</td>\n",
       "      <td>62</td>\n",
       "    </tr>\n",
       "    <tr>\n",
       "      <th>14433</th>\n",
       "      <td>1868</td>\n",
       "      <td>53</td>\n",
       "    </tr>\n",
       "    <tr>\n",
       "      <th>14438</th>\n",
       "      <td>1867</td>\n",
       "      <td>62</td>\n",
       "    </tr>\n",
       "    <tr>\n",
       "      <th>14443</th>\n",
       "      <td>1866</td>\n",
       "      <td>60</td>\n",
       "    </tr>\n",
       "  </tbody>\n",
       "</table>\n",
       "<p>156 rows × 2 columns</p>\n",
       "</div>"
      ],
      "text/plain": [
       "       Year Value\n",
       "8827   2021   420\n",
       "8939   2020   390\n",
       "9082   2019   420\n",
       "9263   2018   380\n",
       "9488   2017   370\n",
       "...     ...   ...\n",
       "14423  1870    52\n",
       "14428  1869    62\n",
       "14433  1868    53\n",
       "14438  1867    62\n",
       "14443  1866    60\n",
       "\n",
       "[156 rows x 2 columns]"
      ]
     },
     "execution_count": 32,
     "metadata": {},
     "output_type": "execute_result"
    }
   ],
   "source": [
    "potatoes_yield_stripped_data"
   ]
  },
  {
   "cell_type": "markdown",
   "metadata": {},
   "source": [
    "## Squash"
   ]
  },
  {
   "cell_type": "code",
   "execution_count": 33,
   "metadata": {},
   "outputs": [],
   "source": [
    "mi_squash = vegetables[vegetables['Commodity'] == 'SQUASH']"
   ]
  },
  {
   "cell_type": "code",
   "execution_count": 34,
   "metadata": {},
   "outputs": [],
   "source": [
    "squash_yield = mi_squash[mi_squash['Data Item'] == \"SQUASH - YIELD, MEASURED IN CWT / ACRE\"]"
   ]
  },
  {
   "cell_type": "code",
   "execution_count": 35,
   "metadata": {},
   "outputs": [
    {
     "data": {
      "text/plain": [
       "array([2020, 2019, 2018, 2017, 2016, 2015, 2014, 2013, 2012, 2011, 2010,\n",
       "       2009, 2008, 2007, 2006, 2005, 2004, 2003, 2002, 2001, 2000])"
      ]
     },
     "execution_count": 35,
     "metadata": {},
     "output_type": "execute_result"
    }
   ],
   "source": [
    "squash_yield.Year.unique()"
   ]
  },
  {
   "cell_type": "code",
   "execution_count": 36,
   "metadata": {},
   "outputs": [],
   "source": [
    "squash_yield_stripped_data = squash_yield[['Year', 'Value']]"
   ]
  },
  {
   "cell_type": "code",
   "execution_count": 37,
   "metadata": {},
   "outputs": [
    {
     "data": {
      "text/html": [
       "<div>\n",
       "<style scoped>\n",
       "    .dataframe tbody tr th:only-of-type {\n",
       "        vertical-align: middle;\n",
       "    }\n",
       "\n",
       "    .dataframe tbody tr th {\n",
       "        vertical-align: top;\n",
       "    }\n",
       "\n",
       "    .dataframe thead th {\n",
       "        text-align: right;\n",
       "    }\n",
       "</style>\n",
       "<table border=\"1\" class=\"dataframe\">\n",
       "  <thead>\n",
       "    <tr style=\"text-align: right;\">\n",
       "      <th></th>\n",
       "      <th>Year</th>\n",
       "      <th>Value</th>\n",
       "    </tr>\n",
       "  </thead>\n",
       "  <tbody>\n",
       "    <tr>\n",
       "      <th>8964</th>\n",
       "      <td>2020</td>\n",
       "      <td>220</td>\n",
       "    </tr>\n",
       "    <tr>\n",
       "      <th>9107</th>\n",
       "      <td>2019</td>\n",
       "      <td>200</td>\n",
       "    </tr>\n",
       "    <tr>\n",
       "      <th>9298</th>\n",
       "      <td>2018</td>\n",
       "      <td>220</td>\n",
       "    </tr>\n",
       "    <tr>\n",
       "      <th>9523</th>\n",
       "      <td>2017</td>\n",
       "      <td>230</td>\n",
       "    </tr>\n",
       "    <tr>\n",
       "      <th>9759</th>\n",
       "      <td>2016</td>\n",
       "      <td>240</td>\n",
       "    </tr>\n",
       "    <tr>\n",
       "      <th>9951</th>\n",
       "      <td>2015</td>\n",
       "      <td>200</td>\n",
       "    </tr>\n",
       "    <tr>\n",
       "      <th>10105</th>\n",
       "      <td>2014</td>\n",
       "      <td>200</td>\n",
       "    </tr>\n",
       "    <tr>\n",
       "      <th>10283</th>\n",
       "      <td>2013</td>\n",
       "      <td>200</td>\n",
       "    </tr>\n",
       "    <tr>\n",
       "      <th>10447</th>\n",
       "      <td>2012</td>\n",
       "      <td>240</td>\n",
       "    </tr>\n",
       "    <tr>\n",
       "      <th>10635</th>\n",
       "      <td>2011</td>\n",
       "      <td>220</td>\n",
       "    </tr>\n",
       "    <tr>\n",
       "      <th>10823</th>\n",
       "      <td>2010</td>\n",
       "      <td>200</td>\n",
       "    </tr>\n",
       "    <tr>\n",
       "      <th>11006</th>\n",
       "      <td>2009</td>\n",
       "      <td>210</td>\n",
       "    </tr>\n",
       "    <tr>\n",
       "      <th>11186</th>\n",
       "      <td>2008</td>\n",
       "      <td>200</td>\n",
       "    </tr>\n",
       "    <tr>\n",
       "      <th>11369</th>\n",
       "      <td>2007</td>\n",
       "      <td>190</td>\n",
       "    </tr>\n",
       "    <tr>\n",
       "      <th>11562</th>\n",
       "      <td>2006</td>\n",
       "      <td>210</td>\n",
       "    </tr>\n",
       "    <tr>\n",
       "      <th>11747</th>\n",
       "      <td>2005</td>\n",
       "      <td>220</td>\n",
       "    </tr>\n",
       "    <tr>\n",
       "      <th>11920</th>\n",
       "      <td>2004</td>\n",
       "      <td>160</td>\n",
       "    </tr>\n",
       "    <tr>\n",
       "      <th>12102</th>\n",
       "      <td>2003</td>\n",
       "      <td>190</td>\n",
       "    </tr>\n",
       "    <tr>\n",
       "      <th>12282</th>\n",
       "      <td>2002</td>\n",
       "      <td>230</td>\n",
       "    </tr>\n",
       "    <tr>\n",
       "      <th>12473</th>\n",
       "      <td>2001</td>\n",
       "      <td>200</td>\n",
       "    </tr>\n",
       "    <tr>\n",
       "      <th>12630</th>\n",
       "      <td>2000</td>\n",
       "      <td>115</td>\n",
       "    </tr>\n",
       "  </tbody>\n",
       "</table>\n",
       "</div>"
      ],
      "text/plain": [
       "       Year Value\n",
       "8964   2020   220\n",
       "9107   2019   200\n",
       "9298   2018   220\n",
       "9523   2017   230\n",
       "9759   2016   240\n",
       "9951   2015   200\n",
       "10105  2014   200\n",
       "10283  2013   200\n",
       "10447  2012   240\n",
       "10635  2011   220\n",
       "10823  2010   200\n",
       "11006  2009   210\n",
       "11186  2008   200\n",
       "11369  2007   190\n",
       "11562  2006   210\n",
       "11747  2005   220\n",
       "11920  2004   160\n",
       "12102  2003   190\n",
       "12282  2002   230\n",
       "12473  2001   200\n",
       "12630  2000   115"
      ]
     },
     "execution_count": 37,
     "metadata": {},
     "output_type": "execute_result"
    }
   ],
   "source": [
    "squash_yield_stripped_data"
   ]
  },
  {
   "cell_type": "markdown",
   "metadata": {},
   "source": [
    "## Carrots"
   ]
  },
  {
   "cell_type": "code",
   "execution_count": 38,
   "metadata": {},
   "outputs": [],
   "source": [
    "mi_carrots = vegetables[vegetables['Commodity'] == 'CARROTS']"
   ]
  },
  {
   "cell_type": "code",
   "execution_count": 39,
   "metadata": {},
   "outputs": [],
   "source": [
    "#mi_carrots['Data Item'].unique()"
   ]
  },
  {
   "cell_type": "code",
   "execution_count": 40,
   "metadata": {},
   "outputs": [],
   "source": [
    "carrots_yield = mi_carrots[mi_carrots['Data Item'] == \"CARROTS, FRESH MARKET - YIELD, MEASURED IN CWT / ACRE\"]"
   ]
  },
  {
   "cell_type": "code",
   "execution_count": 41,
   "metadata": {},
   "outputs": [
    {
     "data": {
      "text/plain": [
       "array([2015, 2014, 2013, 2012, 2011, 2010, 2009, 2008, 2007, 2006, 2005,\n",
       "       2004, 2003, 2002, 2001, 2000, 1999, 1998])"
      ]
     },
     "execution_count": 41,
     "metadata": {},
     "output_type": "execute_result"
    }
   ],
   "source": [
    "carrots_yield.Year.unique()"
   ]
  },
  {
   "cell_type": "code",
   "execution_count": 42,
   "metadata": {},
   "outputs": [
    {
     "data": {
      "text/html": [
       "<div>\n",
       "<style scoped>\n",
       "    .dataframe tbody tr th:only-of-type {\n",
       "        vertical-align: middle;\n",
       "    }\n",
       "\n",
       "    .dataframe tbody tr th {\n",
       "        vertical-align: top;\n",
       "    }\n",
       "\n",
       "    .dataframe thead th {\n",
       "        text-align: right;\n",
       "    }\n",
       "</style>\n",
       "<table border=\"1\" class=\"dataframe\">\n",
       "  <thead>\n",
       "    <tr style=\"text-align: right;\">\n",
       "      <th></th>\n",
       "      <th>Year</th>\n",
       "      <th>Value</th>\n",
       "    </tr>\n",
       "  </thead>\n",
       "  <tbody>\n",
       "    <tr>\n",
       "      <th>9884</th>\n",
       "      <td>2015</td>\n",
       "      <td>240</td>\n",
       "    </tr>\n",
       "    <tr>\n",
       "      <th>10049</th>\n",
       "      <td>2014</td>\n",
       "      <td>310</td>\n",
       "    </tr>\n",
       "    <tr>\n",
       "      <th>10227</th>\n",
       "      <td>2013</td>\n",
       "      <td>290</td>\n",
       "    </tr>\n",
       "    <tr>\n",
       "      <th>10401</th>\n",
       "      <td>2012</td>\n",
       "      <td>280</td>\n",
       "    </tr>\n",
       "    <tr>\n",
       "      <th>10582</th>\n",
       "      <td>2011</td>\n",
       "      <td>260</td>\n",
       "    </tr>\n",
       "    <tr>\n",
       "      <th>10770</th>\n",
       "      <td>2010</td>\n",
       "      <td>250</td>\n",
       "    </tr>\n",
       "    <tr>\n",
       "      <th>10953</th>\n",
       "      <td>2009</td>\n",
       "      <td>270</td>\n",
       "    </tr>\n",
       "    <tr>\n",
       "      <th>11127</th>\n",
       "      <td>2008</td>\n",
       "      <td>290</td>\n",
       "    </tr>\n",
       "    <tr>\n",
       "      <th>11310</th>\n",
       "      <td>2007</td>\n",
       "      <td>300</td>\n",
       "    </tr>\n",
       "    <tr>\n",
       "      <th>11503</th>\n",
       "      <td>2006</td>\n",
       "      <td>320</td>\n",
       "    </tr>\n",
       "    <tr>\n",
       "      <th>11688</th>\n",
       "      <td>2005</td>\n",
       "      <td>360</td>\n",
       "    </tr>\n",
       "    <tr>\n",
       "      <th>11861</th>\n",
       "      <td>2004</td>\n",
       "      <td>310</td>\n",
       "    </tr>\n",
       "    <tr>\n",
       "      <th>12043</th>\n",
       "      <td>2003</td>\n",
       "      <td>350</td>\n",
       "    </tr>\n",
       "    <tr>\n",
       "      <th>12223</th>\n",
       "      <td>2002</td>\n",
       "      <td>330</td>\n",
       "    </tr>\n",
       "    <tr>\n",
       "      <th>12402</th>\n",
       "      <td>2001</td>\n",
       "      <td>350</td>\n",
       "    </tr>\n",
       "    <tr>\n",
       "      <th>12559</th>\n",
       "      <td>2000</td>\n",
       "      <td>280</td>\n",
       "    </tr>\n",
       "    <tr>\n",
       "      <th>12714</th>\n",
       "      <td>1999</td>\n",
       "      <td>280</td>\n",
       "    </tr>\n",
       "    <tr>\n",
       "      <th>12846</th>\n",
       "      <td>1998</td>\n",
       "      <td>290</td>\n",
       "    </tr>\n",
       "  </tbody>\n",
       "</table>\n",
       "</div>"
      ],
      "text/plain": [
       "       Year Value\n",
       "9884   2015   240\n",
       "10049  2014   310\n",
       "10227  2013   290\n",
       "10401  2012   280\n",
       "10582  2011   260\n",
       "10770  2010   250\n",
       "10953  2009   270\n",
       "11127  2008   290\n",
       "11310  2007   300\n",
       "11503  2006   320\n",
       "11688  2005   360\n",
       "11861  2004   310\n",
       "12043  2003   350\n",
       "12223  2002   330\n",
       "12402  2001   350\n",
       "12559  2000   280\n",
       "12714  1999   280\n",
       "12846  1998   290"
      ]
     },
     "execution_count": 42,
     "metadata": {},
     "output_type": "execute_result"
    }
   ],
   "source": [
    "carrots_yield_stripped_data = carrots_yield[['Year', 'Value']]\n",
    "carrots_yield_stripped_data"
   ]
  },
  {
   "cell_type": "markdown",
   "metadata": {},
   "source": [
    "## Celery"
   ]
  },
  {
   "cell_type": "code",
   "execution_count": 43,
   "metadata": {},
   "outputs": [],
   "source": [
    "mi_celery = vegetables[vegetables['Commodity'] == 'CELERY']"
   ]
  },
  {
   "cell_type": "code",
   "execution_count": 44,
   "metadata": {},
   "outputs": [],
   "source": [
    "#mi_celery['Data Item'].unique()"
   ]
  },
  {
   "cell_type": "code",
   "execution_count": 45,
   "metadata": {},
   "outputs": [],
   "source": [
    "celery_yield = mi_celery[mi_celery['Data Item'] == \"CELERY - YIELD, MEASURED IN CWT / ACRE\"]"
   ]
  },
  {
   "cell_type": "code",
   "execution_count": 46,
   "metadata": {},
   "outputs": [
    {
     "data": {
      "text/plain": [
       "array([2018, 2017, 2016, 2015, 2014, 2013, 2012, 2011, 2010, 2009, 2008,\n",
       "       2007, 2006, 2005, 2004, 2003, 2002, 2001, 2000, 1999, 1998])"
      ]
     },
     "execution_count": 46,
     "metadata": {},
     "output_type": "execute_result"
    }
   ],
   "source": [
    "celery_yield.Year.unique()"
   ]
  },
  {
   "cell_type": "code",
   "execution_count": 47,
   "metadata": {},
   "outputs": [
    {
     "data": {
      "text/html": [
       "<div>\n",
       "<style scoped>\n",
       "    .dataframe tbody tr th:only-of-type {\n",
       "        vertical-align: middle;\n",
       "    }\n",
       "\n",
       "    .dataframe tbody tr th {\n",
       "        vertical-align: top;\n",
       "    }\n",
       "\n",
       "    .dataframe thead th {\n",
       "        text-align: right;\n",
       "    }\n",
       "</style>\n",
       "<table border=\"1\" class=\"dataframe\">\n",
       "  <thead>\n",
       "    <tr style=\"text-align: right;\">\n",
       "      <th></th>\n",
       "      <th>Year</th>\n",
       "      <th>Value</th>\n",
       "    </tr>\n",
       "  </thead>\n",
       "  <tbody>\n",
       "    <tr>\n",
       "      <th>9227</th>\n",
       "      <td>2018</td>\n",
       "      <td>580</td>\n",
       "    </tr>\n",
       "    <tr>\n",
       "      <th>9452</th>\n",
       "      <td>2017</td>\n",
       "      <td>590</td>\n",
       "    </tr>\n",
       "    <tr>\n",
       "      <th>9684</th>\n",
       "      <td>2016</td>\n",
       "      <td>600</td>\n",
       "    </tr>\n",
       "    <tr>\n",
       "      <th>9891</th>\n",
       "      <td>2015</td>\n",
       "      <td>580</td>\n",
       "    </tr>\n",
       "    <tr>\n",
       "      <th>10054</th>\n",
       "      <td>2014</td>\n",
       "      <td>580</td>\n",
       "    </tr>\n",
       "    <tr>\n",
       "      <th>10232</th>\n",
       "      <td>2013</td>\n",
       "      <td>575</td>\n",
       "    </tr>\n",
       "    <tr>\n",
       "      <th>10406</th>\n",
       "      <td>2012</td>\n",
       "      <td>565</td>\n",
       "    </tr>\n",
       "    <tr>\n",
       "      <th>10588</th>\n",
       "      <td>2011</td>\n",
       "      <td>490</td>\n",
       "    </tr>\n",
       "    <tr>\n",
       "      <th>10776</th>\n",
       "      <td>2010</td>\n",
       "      <td>525</td>\n",
       "    </tr>\n",
       "    <tr>\n",
       "      <th>10959</th>\n",
       "      <td>2009</td>\n",
       "      <td>555</td>\n",
       "    </tr>\n",
       "    <tr>\n",
       "      <th>11139</th>\n",
       "      <td>2008</td>\n",
       "      <td>525</td>\n",
       "    </tr>\n",
       "    <tr>\n",
       "      <th>11322</th>\n",
       "      <td>2007</td>\n",
       "      <td>490</td>\n",
       "    </tr>\n",
       "    <tr>\n",
       "      <th>11515</th>\n",
       "      <td>2006</td>\n",
       "      <td>530</td>\n",
       "    </tr>\n",
       "    <tr>\n",
       "      <th>11700</th>\n",
       "      <td>2005</td>\n",
       "      <td>575</td>\n",
       "    </tr>\n",
       "    <tr>\n",
       "      <th>11873</th>\n",
       "      <td>2004</td>\n",
       "      <td>560</td>\n",
       "    </tr>\n",
       "    <tr>\n",
       "      <th>12055</th>\n",
       "      <td>2003</td>\n",
       "      <td>530</td>\n",
       "    </tr>\n",
       "    <tr>\n",
       "      <th>12235</th>\n",
       "      <td>2002</td>\n",
       "      <td>470</td>\n",
       "    </tr>\n",
       "    <tr>\n",
       "      <th>12414</th>\n",
       "      <td>2001</td>\n",
       "      <td>460</td>\n",
       "    </tr>\n",
       "    <tr>\n",
       "      <th>12571</th>\n",
       "      <td>2000</td>\n",
       "      <td>500</td>\n",
       "    </tr>\n",
       "    <tr>\n",
       "      <th>12732</th>\n",
       "      <td>1999</td>\n",
       "      <td>450</td>\n",
       "    </tr>\n",
       "    <tr>\n",
       "      <th>12864</th>\n",
       "      <td>1998</td>\n",
       "      <td>470</td>\n",
       "    </tr>\n",
       "  </tbody>\n",
       "</table>\n",
       "</div>"
      ],
      "text/plain": [
       "       Year Value\n",
       "9227   2018   580\n",
       "9452   2017   590\n",
       "9684   2016   600\n",
       "9891   2015   580\n",
       "10054  2014   580\n",
       "10232  2013   575\n",
       "10406  2012   565\n",
       "10588  2011   490\n",
       "10776  2010   525\n",
       "10959  2009   555\n",
       "11139  2008   525\n",
       "11322  2007   490\n",
       "11515  2006   530\n",
       "11700  2005   575\n",
       "11873  2004   560\n",
       "12055  2003   530\n",
       "12235  2002   470\n",
       "12414  2001   460\n",
       "12571  2000   500\n",
       "12732  1999   450\n",
       "12864  1998   470"
      ]
     },
     "execution_count": 47,
     "metadata": {},
     "output_type": "execute_result"
    }
   ],
   "source": [
    "celery_yield_stripped_data = celery_yield[['Year', 'Value']]\n",
    "celery_yield_stripped_data"
   ]
  },
  {
   "cell_type": "markdown",
   "metadata": {},
   "source": [
    "## Onions"
   ]
  },
  {
   "cell_type": "code",
   "execution_count": 48,
   "metadata": {},
   "outputs": [],
   "source": [
    "mi_onions = vegetables[vegetables['Commodity'] == 'ONIONS']"
   ]
  },
  {
   "cell_type": "code",
   "execution_count": 49,
   "metadata": {},
   "outputs": [],
   "source": [
    "#mi_onions['Data Item'].unique()"
   ]
  },
  {
   "cell_type": "code",
   "execution_count": 50,
   "metadata": {},
   "outputs": [],
   "source": [
    "onion_yield = mi_onions[mi_onions['Data Item'] == \"ONIONS, DRY, SUMMER, STORAGE - YIELD, MEASURED IN CWT / ACRE\"]"
   ]
  },
  {
   "cell_type": "code",
   "execution_count": 51,
   "metadata": {},
   "outputs": [
    {
     "data": {
      "text/plain": [
       "18"
      ]
     },
     "execution_count": 51,
     "metadata": {},
     "output_type": "execute_result"
    }
   ],
   "source": [
    "onion_yield.Year.nunique()"
   ]
  },
  {
   "cell_type": "code",
   "execution_count": 52,
   "metadata": {},
   "outputs": [
    {
     "data": {
      "text/html": [
       "<div>\n",
       "<style scoped>\n",
       "    .dataframe tbody tr th:only-of-type {\n",
       "        vertical-align: middle;\n",
       "    }\n",
       "\n",
       "    .dataframe tbody tr th {\n",
       "        vertical-align: top;\n",
       "    }\n",
       "\n",
       "    .dataframe thead th {\n",
       "        text-align: right;\n",
       "    }\n",
       "</style>\n",
       "<table border=\"1\" class=\"dataframe\">\n",
       "  <thead>\n",
       "    <tr style=\"text-align: right;\">\n",
       "      <th></th>\n",
       "      <th>Year</th>\n",
       "      <th>Value</th>\n",
       "    </tr>\n",
       "  </thead>\n",
       "  <tbody>\n",
       "    <tr>\n",
       "      <th>9913</th>\n",
       "      <td>2015</td>\n",
       "      <td>330</td>\n",
       "    </tr>\n",
       "    <tr>\n",
       "      <th>10070</th>\n",
       "      <td>2014</td>\n",
       "      <td>370</td>\n",
       "    </tr>\n",
       "    <tr>\n",
       "      <th>10248</th>\n",
       "      <td>2013</td>\n",
       "      <td>300</td>\n",
       "    </tr>\n",
       "    <tr>\n",
       "      <th>10422</th>\n",
       "      <td>2012</td>\n",
       "      <td>230</td>\n",
       "    </tr>\n",
       "    <tr>\n",
       "      <th>10607</th>\n",
       "      <td>2011</td>\n",
       "      <td>240</td>\n",
       "    </tr>\n",
       "    <tr>\n",
       "      <th>10795</th>\n",
       "      <td>2010</td>\n",
       "      <td>220</td>\n",
       "    </tr>\n",
       "    <tr>\n",
       "      <th>10978</th>\n",
       "      <td>2009</td>\n",
       "      <td>350</td>\n",
       "    </tr>\n",
       "    <tr>\n",
       "      <th>11158</th>\n",
       "      <td>2008</td>\n",
       "      <td>280</td>\n",
       "    </tr>\n",
       "    <tr>\n",
       "      <th>11341</th>\n",
       "      <td>2007</td>\n",
       "      <td>260</td>\n",
       "    </tr>\n",
       "    <tr>\n",
       "      <th>11534</th>\n",
       "      <td>2006</td>\n",
       "      <td>250</td>\n",
       "    </tr>\n",
       "    <tr>\n",
       "      <th>11719</th>\n",
       "      <td>2005</td>\n",
       "      <td>260</td>\n",
       "    </tr>\n",
       "    <tr>\n",
       "      <th>11892</th>\n",
       "      <td>2004</td>\n",
       "      <td>290</td>\n",
       "    </tr>\n",
       "    <tr>\n",
       "      <th>12074</th>\n",
       "      <td>2003</td>\n",
       "      <td>320</td>\n",
       "    </tr>\n",
       "    <tr>\n",
       "      <th>12254</th>\n",
       "      <td>2002</td>\n",
       "      <td>230</td>\n",
       "    </tr>\n",
       "    <tr>\n",
       "      <th>12439</th>\n",
       "      <td>2001</td>\n",
       "      <td>270</td>\n",
       "    </tr>\n",
       "    <tr>\n",
       "      <th>12596</th>\n",
       "      <td>2000</td>\n",
       "      <td>270</td>\n",
       "    </tr>\n",
       "    <tr>\n",
       "      <th>12757</th>\n",
       "      <td>1999</td>\n",
       "      <td>270</td>\n",
       "    </tr>\n",
       "    <tr>\n",
       "      <th>12889</th>\n",
       "      <td>1998</td>\n",
       "      <td>260</td>\n",
       "    </tr>\n",
       "  </tbody>\n",
       "</table>\n",
       "</div>"
      ],
      "text/plain": [
       "       Year Value\n",
       "9913   2015   330\n",
       "10070  2014   370\n",
       "10248  2013   300\n",
       "10422  2012   230\n",
       "10607  2011   240\n",
       "10795  2010   220\n",
       "10978  2009   350\n",
       "11158  2008   280\n",
       "11341  2007   260\n",
       "11534  2006   250\n",
       "11719  2005   260\n",
       "11892  2004   290\n",
       "12074  2003   320\n",
       "12254  2002   230\n",
       "12439  2001   270\n",
       "12596  2000   270\n",
       "12757  1999   270\n",
       "12889  1998   260"
      ]
     },
     "execution_count": 52,
     "metadata": {},
     "output_type": "execute_result"
    }
   ],
   "source": [
    "onion_yield_stripped_data = onion_yield[['Year', 'Value']]\n",
    "onion_yield_stripped_data"
   ]
  },
  {
   "cell_type": "code",
   "execution_count": 53,
   "metadata": {},
   "outputs": [],
   "source": [
    "onion_yield_stripped_data.to_csv('onions.csv', index=False)"
   ]
  },
  {
   "cell_type": "markdown",
   "metadata": {},
   "source": [
    "## Peppers"
   ]
  },
  {
   "cell_type": "code",
   "execution_count": 54,
   "metadata": {},
   "outputs": [],
   "source": [
    "mi_peppers = vegetables[vegetables['Commodity'] == 'PEPPERS']"
   ]
  },
  {
   "cell_type": "code",
   "execution_count": 55,
   "metadata": {},
   "outputs": [],
   "source": [
    "#mi_peppers['Data Item'].unique()"
   ]
  },
  {
   "cell_type": "code",
   "execution_count": 56,
   "metadata": {},
   "outputs": [],
   "source": [
    "pepper_yield = mi_peppers[mi_peppers['Data Item'] == \"PEPPERS, BELL - YIELD, MEASURED IN CWT / ACRE\"]"
   ]
  },
  {
   "cell_type": "code",
   "execution_count": 57,
   "metadata": {},
   "outputs": [
    {
     "data": {
      "text/plain": [
       "array([2020, 2019, 2018, 2017, 2016, 2015, 2014, 2013, 2012, 2011, 2010,\n",
       "       2009, 2008, 2007, 2006, 2005, 2004, 2003, 2002, 2001, 2000, 1999,\n",
       "       1998])"
      ]
     },
     "execution_count": 57,
     "metadata": {},
     "output_type": "execute_result"
    }
   ],
   "source": [
    "pepper_yield.Year.unique()"
   ]
  },
  {
   "cell_type": "code",
   "execution_count": 58,
   "metadata": {},
   "outputs": [
    {
     "data": {
      "text/html": [
       "<div>\n",
       "<style scoped>\n",
       "    .dataframe tbody tr th:only-of-type {\n",
       "        vertical-align: middle;\n",
       "    }\n",
       "\n",
       "    .dataframe tbody tr th {\n",
       "        vertical-align: top;\n",
       "    }\n",
       "\n",
       "    .dataframe thead th {\n",
       "        text-align: right;\n",
       "    }\n",
       "</style>\n",
       "<table border=\"1\" class=\"dataframe\">\n",
       "  <thead>\n",
       "    <tr style=\"text-align: right;\">\n",
       "      <th></th>\n",
       "      <th>Year</th>\n",
       "      <th>Value</th>\n",
       "    </tr>\n",
       "  </thead>\n",
       "  <tbody>\n",
       "    <tr>\n",
       "      <th>8925</th>\n",
       "      <td>2020</td>\n",
       "      <td>230</td>\n",
       "    </tr>\n",
       "    <tr>\n",
       "      <th>9068</th>\n",
       "      <td>2019</td>\n",
       "      <td>255</td>\n",
       "    </tr>\n",
       "    <tr>\n",
       "      <th>9249</th>\n",
       "      <td>2018</td>\n",
       "      <td>240</td>\n",
       "    </tr>\n",
       "    <tr>\n",
       "      <th>9474</th>\n",
       "      <td>2017</td>\n",
       "      <td>255</td>\n",
       "    </tr>\n",
       "    <tr>\n",
       "      <th>9710</th>\n",
       "      <td>2016</td>\n",
       "      <td>260</td>\n",
       "    </tr>\n",
       "    <tr>\n",
       "      <th>9918</th>\n",
       "      <td>2015</td>\n",
       "      <td>280</td>\n",
       "    </tr>\n",
       "    <tr>\n",
       "      <th>10075</th>\n",
       "      <td>2014</td>\n",
       "      <td>260</td>\n",
       "    </tr>\n",
       "    <tr>\n",
       "      <th>10253</th>\n",
       "      <td>2013</td>\n",
       "      <td>250</td>\n",
       "    </tr>\n",
       "    <tr>\n",
       "      <th>10427</th>\n",
       "      <td>2012</td>\n",
       "      <td>260</td>\n",
       "    </tr>\n",
       "    <tr>\n",
       "      <th>10613</th>\n",
       "      <td>2011</td>\n",
       "      <td>270</td>\n",
       "    </tr>\n",
       "    <tr>\n",
       "      <th>10801</th>\n",
       "      <td>2010</td>\n",
       "      <td>230</td>\n",
       "    </tr>\n",
       "    <tr>\n",
       "      <th>10984</th>\n",
       "      <td>2009</td>\n",
       "      <td>240</td>\n",
       "    </tr>\n",
       "    <tr>\n",
       "      <th>11164</th>\n",
       "      <td>2008</td>\n",
       "      <td>250</td>\n",
       "    </tr>\n",
       "    <tr>\n",
       "      <th>11347</th>\n",
       "      <td>2007</td>\n",
       "      <td>260</td>\n",
       "    </tr>\n",
       "    <tr>\n",
       "      <th>11540</th>\n",
       "      <td>2006</td>\n",
       "      <td>270</td>\n",
       "    </tr>\n",
       "    <tr>\n",
       "      <th>11725</th>\n",
       "      <td>2005</td>\n",
       "      <td>280</td>\n",
       "    </tr>\n",
       "    <tr>\n",
       "      <th>11898</th>\n",
       "      <td>2004</td>\n",
       "      <td>290</td>\n",
       "    </tr>\n",
       "    <tr>\n",
       "      <th>12080</th>\n",
       "      <td>2003</td>\n",
       "      <td>250</td>\n",
       "    </tr>\n",
       "    <tr>\n",
       "      <th>12260</th>\n",
       "      <td>2002</td>\n",
       "      <td>250</td>\n",
       "    </tr>\n",
       "    <tr>\n",
       "      <th>12445</th>\n",
       "      <td>2001</td>\n",
       "      <td>260</td>\n",
       "    </tr>\n",
       "    <tr>\n",
       "      <th>12602</th>\n",
       "      <td>2000</td>\n",
       "      <td>220</td>\n",
       "    </tr>\n",
       "    <tr>\n",
       "      <th>12763</th>\n",
       "      <td>1999</td>\n",
       "      <td>200</td>\n",
       "    </tr>\n",
       "    <tr>\n",
       "      <th>12895</th>\n",
       "      <td>1998</td>\n",
       "      <td>200</td>\n",
       "    </tr>\n",
       "  </tbody>\n",
       "</table>\n",
       "</div>"
      ],
      "text/plain": [
       "       Year Value\n",
       "8925   2020   230\n",
       "9068   2019   255\n",
       "9249   2018   240\n",
       "9474   2017   255\n",
       "9710   2016   260\n",
       "9918   2015   280\n",
       "10075  2014   260\n",
       "10253  2013   250\n",
       "10427  2012   260\n",
       "10613  2011   270\n",
       "10801  2010   230\n",
       "10984  2009   240\n",
       "11164  2008   250\n",
       "11347  2007   260\n",
       "11540  2006   270\n",
       "11725  2005   280\n",
       "11898  2004   290\n",
       "12080  2003   250\n",
       "12260  2002   250\n",
       "12445  2001   260\n",
       "12602  2000   220\n",
       "12763  1999   200\n",
       "12895  1998   200"
      ]
     },
     "execution_count": 58,
     "metadata": {},
     "output_type": "execute_result"
    }
   ],
   "source": [
    "peppers_yield_stripped_data = pepper_yield[['Year', 'Value']]\n",
    "peppers_yield_stripped_data"
   ]
  },
  {
   "cell_type": "code",
   "execution_count": 59,
   "metadata": {},
   "outputs": [],
   "source": [
    "peppers_yield_stripped_data.to_csv('peppers.csv', index=False)"
   ]
  },
  {
   "cell_type": "markdown",
   "metadata": {},
   "source": [
    "## Corn"
   ]
  },
  {
   "cell_type": "code",
   "execution_count": 60,
   "metadata": {},
   "outputs": [],
   "source": [
    "mi_corn = vegetables[vegetables['Commodity'] == 'SWEET CORN']"
   ]
  },
  {
   "cell_type": "code",
   "execution_count": 61,
   "metadata": {},
   "outputs": [],
   "source": [
    "#mi_corn['Data Item'].unique()"
   ]
  },
  {
   "cell_type": "code",
   "execution_count": 62,
   "metadata": {},
   "outputs": [],
   "source": [
    "corn_yield = mi_corn[mi_corn['Data Item'] == \"SWEET CORN, FRESH MARKET - YIELD, MEASURED IN CWT / ACRE\"]"
   ]
  },
  {
   "cell_type": "code",
   "execution_count": 63,
   "metadata": {},
   "outputs": [
    {
     "data": {
      "text/plain": [
       "array([2015, 2014, 2013, 2012, 2011, 2010, 2009, 2008, 2007, 2006, 2005,\n",
       "       2004, 2003, 2002, 2001, 2000, 1999, 1998])"
      ]
     },
     "execution_count": 63,
     "metadata": {},
     "output_type": "execute_result"
    }
   ],
   "source": [
    "corn_yield.Year.unique()"
   ]
  },
  {
   "cell_type": "code",
   "execution_count": 64,
   "metadata": {},
   "outputs": [
    {
     "data": {
      "text/html": [
       "<div>\n",
       "<style scoped>\n",
       "    .dataframe tbody tr th:only-of-type {\n",
       "        vertical-align: middle;\n",
       "    }\n",
       "\n",
       "    .dataframe tbody tr th {\n",
       "        vertical-align: top;\n",
       "    }\n",
       "\n",
       "    .dataframe thead th {\n",
       "        text-align: right;\n",
       "    }\n",
       "</style>\n",
       "<table border=\"1\" class=\"dataframe\">\n",
       "  <thead>\n",
       "    <tr style=\"text-align: right;\">\n",
       "      <th></th>\n",
       "      <th>Year</th>\n",
       "      <th>Value</th>\n",
       "    </tr>\n",
       "  </thead>\n",
       "  <tbody>\n",
       "    <tr>\n",
       "      <th>9956</th>\n",
       "      <td>2015</td>\n",
       "      <td>103</td>\n",
       "    </tr>\n",
       "    <tr>\n",
       "      <th>10110</th>\n",
       "      <td>2014</td>\n",
       "      <td>90</td>\n",
       "    </tr>\n",
       "    <tr>\n",
       "      <th>10288</th>\n",
       "      <td>2013</td>\n",
       "      <td>100</td>\n",
       "    </tr>\n",
       "    <tr>\n",
       "      <th>10452</th>\n",
       "      <td>2012</td>\n",
       "      <td>104</td>\n",
       "    </tr>\n",
       "    <tr>\n",
       "      <th>10641</th>\n",
       "      <td>2011</td>\n",
       "      <td>94</td>\n",
       "    </tr>\n",
       "    <tr>\n",
       "      <th>10829</th>\n",
       "      <td>2010</td>\n",
       "      <td>100</td>\n",
       "    </tr>\n",
       "    <tr>\n",
       "      <th>11012</th>\n",
       "      <td>2009</td>\n",
       "      <td>110</td>\n",
       "    </tr>\n",
       "    <tr>\n",
       "      <th>11192</th>\n",
       "      <td>2008</td>\n",
       "      <td>85</td>\n",
       "    </tr>\n",
       "    <tr>\n",
       "      <th>11375</th>\n",
       "      <td>2007</td>\n",
       "      <td>85</td>\n",
       "    </tr>\n",
       "    <tr>\n",
       "      <th>11568</th>\n",
       "      <td>2006</td>\n",
       "      <td>110</td>\n",
       "    </tr>\n",
       "    <tr>\n",
       "      <th>11753</th>\n",
       "      <td>2005</td>\n",
       "      <td>100</td>\n",
       "    </tr>\n",
       "    <tr>\n",
       "      <th>11926</th>\n",
       "      <td>2004</td>\n",
       "      <td>75</td>\n",
       "    </tr>\n",
       "    <tr>\n",
       "      <th>12108</th>\n",
       "      <td>2003</td>\n",
       "      <td>90</td>\n",
       "    </tr>\n",
       "    <tr>\n",
       "      <th>12288</th>\n",
       "      <td>2002</td>\n",
       "      <td>80</td>\n",
       "    </tr>\n",
       "    <tr>\n",
       "      <th>12479</th>\n",
       "      <td>2001</td>\n",
       "      <td>60</td>\n",
       "    </tr>\n",
       "    <tr>\n",
       "      <th>12636</th>\n",
       "      <td>2000</td>\n",
       "      <td>70</td>\n",
       "    </tr>\n",
       "    <tr>\n",
       "      <th>12779</th>\n",
       "      <td>1999</td>\n",
       "      <td>70</td>\n",
       "    </tr>\n",
       "    <tr>\n",
       "      <th>12911</th>\n",
       "      <td>1998</td>\n",
       "      <td>75</td>\n",
       "    </tr>\n",
       "  </tbody>\n",
       "</table>\n",
       "</div>"
      ],
      "text/plain": [
       "       Year Value\n",
       "9956   2015   103\n",
       "10110  2014    90\n",
       "10288  2013   100\n",
       "10452  2012   104\n",
       "10641  2011    94\n",
       "10829  2010   100\n",
       "11012  2009   110\n",
       "11192  2008    85\n",
       "11375  2007    85\n",
       "11568  2006   110\n",
       "11753  2005   100\n",
       "11926  2004    75\n",
       "12108  2003    90\n",
       "12288  2002    80\n",
       "12479  2001    60\n",
       "12636  2000    70\n",
       "12779  1999    70\n",
       "12911  1998    75"
      ]
     },
     "execution_count": 64,
     "metadata": {},
     "output_type": "execute_result"
    }
   ],
   "source": [
    "corn_yield_stripped_data = corn_yield[['Year', 'Value']]\n",
    "corn_yield_stripped_data"
   ]
  },
  {
   "cell_type": "code",
   "execution_count": 65,
   "metadata": {},
   "outputs": [],
   "source": [
    "corn_yield_stripped_data.to_csv('corn.csv', index=False)"
   ]
  },
  {
   "cell_type": "markdown",
   "metadata": {},
   "source": [
    "## Tomatoes"
   ]
  },
  {
   "cell_type": "code",
   "execution_count": 66,
   "metadata": {},
   "outputs": [],
   "source": [
    "mi_tomatoes = vegetables[vegetables['Commodity'] == 'TOMATOES'] "
   ]
  },
  {
   "cell_type": "code",
   "execution_count": 67,
   "metadata": {},
   "outputs": [],
   "source": [
    "#mi_tomatoes['Data Item'].unique()"
   ]
  },
  {
   "cell_type": "code",
   "execution_count": 68,
   "metadata": {},
   "outputs": [],
   "source": [
    "tomatoes_yield = mi_tomatoes[mi_tomatoes['Data Item'] == \"TOMATOES, IN THE OPEN, FRESH MARKET - YIELD, MEASURED IN CWT / ACRE\"]"
   ]
  },
  {
   "cell_type": "code",
   "execution_count": 69,
   "metadata": {},
   "outputs": [
    {
     "data": {
      "text/plain": [
       "array([2015, 2014, 2013, 2012, 2011, 2010, 2009, 2008, 2007, 2006, 2005,\n",
       "       2004, 2003, 2002, 2001, 2000, 1999, 1998])"
      ]
     },
     "execution_count": 69,
     "metadata": {},
     "output_type": "execute_result"
    }
   ],
   "source": [
    "tomatoes_yield.Year.unique()"
   ]
  },
  {
   "cell_type": "code",
   "execution_count": 70,
   "metadata": {},
   "outputs": [
    {
     "data": {
      "text/html": [
       "<div>\n",
       "<style scoped>\n",
       "    .dataframe tbody tr th:only-of-type {\n",
       "        vertical-align: middle;\n",
       "    }\n",
       "\n",
       "    .dataframe tbody tr th {\n",
       "        vertical-align: top;\n",
       "    }\n",
       "\n",
       "    .dataframe thead th {\n",
       "        text-align: right;\n",
       "    }\n",
       "</style>\n",
       "<table border=\"1\" class=\"dataframe\">\n",
       "  <thead>\n",
       "    <tr style=\"text-align: right;\">\n",
       "      <th></th>\n",
       "      <th>Year</th>\n",
       "      <th>Value</th>\n",
       "    </tr>\n",
       "  </thead>\n",
       "  <tbody>\n",
       "    <tr>\n",
       "      <th>9961</th>\n",
       "      <td>2015</td>\n",
       "      <td>300</td>\n",
       "    </tr>\n",
       "    <tr>\n",
       "      <th>10115</th>\n",
       "      <td>2014</td>\n",
       "      <td>245</td>\n",
       "    </tr>\n",
       "    <tr>\n",
       "      <th>10293</th>\n",
       "      <td>2013</td>\n",
       "      <td>240</td>\n",
       "    </tr>\n",
       "    <tr>\n",
       "      <th>10457</th>\n",
       "      <td>2012</td>\n",
       "      <td>200</td>\n",
       "    </tr>\n",
       "    <tr>\n",
       "      <th>10647</th>\n",
       "      <td>2011</td>\n",
       "      <td>220</td>\n",
       "    </tr>\n",
       "    <tr>\n",
       "      <th>10835</th>\n",
       "      <td>2010</td>\n",
       "      <td>200</td>\n",
       "    </tr>\n",
       "    <tr>\n",
       "      <th>11018</th>\n",
       "      <td>2009</td>\n",
       "      <td>300</td>\n",
       "    </tr>\n",
       "    <tr>\n",
       "      <th>11198</th>\n",
       "      <td>2008</td>\n",
       "      <td>260</td>\n",
       "    </tr>\n",
       "    <tr>\n",
       "      <th>11381</th>\n",
       "      <td>2007</td>\n",
       "      <td>230</td>\n",
       "    </tr>\n",
       "    <tr>\n",
       "      <th>11574</th>\n",
       "      <td>2006</td>\n",
       "      <td>230</td>\n",
       "    </tr>\n",
       "    <tr>\n",
       "      <th>11759</th>\n",
       "      <td>2005</td>\n",
       "      <td>220</td>\n",
       "    </tr>\n",
       "    <tr>\n",
       "      <th>11932</th>\n",
       "      <td>2004</td>\n",
       "      <td>260</td>\n",
       "    </tr>\n",
       "    <tr>\n",
       "      <th>12114</th>\n",
       "      <td>2003</td>\n",
       "      <td>220</td>\n",
       "    </tr>\n",
       "    <tr>\n",
       "      <th>12294</th>\n",
       "      <td>2002</td>\n",
       "      <td>210</td>\n",
       "    </tr>\n",
       "    <tr>\n",
       "      <th>12485</th>\n",
       "      <td>2001</td>\n",
       "      <td>210</td>\n",
       "    </tr>\n",
       "    <tr>\n",
       "      <th>12642</th>\n",
       "      <td>2000</td>\n",
       "      <td>170</td>\n",
       "    </tr>\n",
       "    <tr>\n",
       "      <th>12785</th>\n",
       "      <td>1999</td>\n",
       "      <td>190</td>\n",
       "    </tr>\n",
       "    <tr>\n",
       "      <th>12917</th>\n",
       "      <td>1998</td>\n",
       "      <td>210</td>\n",
       "    </tr>\n",
       "  </tbody>\n",
       "</table>\n",
       "</div>"
      ],
      "text/plain": [
       "       Year Value\n",
       "9961   2015   300\n",
       "10115  2014   245\n",
       "10293  2013   240\n",
       "10457  2012   200\n",
       "10647  2011   220\n",
       "10835  2010   200\n",
       "11018  2009   300\n",
       "11198  2008   260\n",
       "11381  2007   230\n",
       "11574  2006   230\n",
       "11759  2005   220\n",
       "11932  2004   260\n",
       "12114  2003   220\n",
       "12294  2002   210\n",
       "12485  2001   210\n",
       "12642  2000   170\n",
       "12785  1999   190\n",
       "12917  1998   210"
      ]
     },
     "execution_count": 70,
     "metadata": {},
     "output_type": "execute_result"
    }
   ],
   "source": [
    "tomatoes_yield_stripped_data = tomatoes_yield[['Year', 'Value']]\n",
    "tomatoes_yield_stripped_data"
   ]
  },
  {
   "cell_type": "code",
   "execution_count": 71,
   "metadata": {},
   "outputs": [],
   "source": [
    "tomatoes_yield_stripped_data.to_csv('tomatoes.csv', index=False)"
   ]
  },
  {
   "cell_type": "markdown",
   "metadata": {},
   "source": [
    "## Asparagus"
   ]
  },
  {
   "cell_type": "code",
   "execution_count": 72,
   "metadata": {},
   "outputs": [],
   "source": [
    "mi_asparagus = vegetables[vegetables['Commodity'] == 'ASPARAGUS'] "
   ]
  },
  {
   "cell_type": "code",
   "execution_count": 73,
   "metadata": {},
   "outputs": [],
   "source": [
    "#mi_asparagus['Data Item'].unique()"
   ]
  },
  {
   "cell_type": "code",
   "execution_count": 74,
   "metadata": {},
   "outputs": [],
   "source": [
    "asparagus_yield = mi_asparagus[mi_asparagus['Data Item'] == \"ASPARAGUS - YIELD, MEASURED IN CWT / ACRE\"]"
   ]
  },
  {
   "cell_type": "code",
   "execution_count": 75,
   "metadata": {},
   "outputs": [
    {
     "data": {
      "text/plain": [
       "array([2020, 2019, 2018, 2017, 2016, 2015, 2014, 2013, 2012, 2011, 2010,\n",
       "       2009, 2008, 2007, 2006, 2005, 2004, 2003, 2002, 2001, 2000, 1999,\n",
       "       1998])"
      ]
     },
     "execution_count": 75,
     "metadata": {},
     "output_type": "execute_result"
    }
   ],
   "source": [
    "asparagus_yield.Year.unique()"
   ]
  },
  {
   "cell_type": "code",
   "execution_count": 76,
   "metadata": {},
   "outputs": [
    {
     "data": {
      "text/html": [
       "<div>\n",
       "<style scoped>\n",
       "    .dataframe tbody tr th:only-of-type {\n",
       "        vertical-align: middle;\n",
       "    }\n",
       "\n",
       "    .dataframe tbody tr th {\n",
       "        vertical-align: top;\n",
       "    }\n",
       "\n",
       "    .dataframe thead th {\n",
       "        text-align: right;\n",
       "    }\n",
       "</style>\n",
       "<table border=\"1\" class=\"dataframe\">\n",
       "  <thead>\n",
       "    <tr style=\"text-align: right;\">\n",
       "      <th></th>\n",
       "      <th>Year</th>\n",
       "      <th>Value</th>\n",
       "    </tr>\n",
       "  </thead>\n",
       "  <tbody>\n",
       "    <tr>\n",
       "      <th>8881</th>\n",
       "      <td>2020</td>\n",
       "      <td>28</td>\n",
       "    </tr>\n",
       "    <tr>\n",
       "      <th>9024</th>\n",
       "      <td>2019</td>\n",
       "      <td>30</td>\n",
       "    </tr>\n",
       "    <tr>\n",
       "      <th>9183</th>\n",
       "      <td>2018</td>\n",
       "      <td>28</td>\n",
       "    </tr>\n",
       "    <tr>\n",
       "      <th>9337</th>\n",
       "      <td>2018</td>\n",
       "      <td>28</td>\n",
       "    </tr>\n",
       "    <tr>\n",
       "      <th>9408</th>\n",
       "      <td>2017</td>\n",
       "      <td>27</td>\n",
       "    </tr>\n",
       "    <tr>\n",
       "      <th>9561</th>\n",
       "      <td>2017</td>\n",
       "      <td>27</td>\n",
       "    </tr>\n",
       "    <tr>\n",
       "      <th>9639</th>\n",
       "      <td>2016</td>\n",
       "      <td>25</td>\n",
       "    </tr>\n",
       "    <tr>\n",
       "      <th>9860</th>\n",
       "      <td>2015</td>\n",
       "      <td>26</td>\n",
       "    </tr>\n",
       "    <tr>\n",
       "      <th>10028</th>\n",
       "      <td>2014</td>\n",
       "      <td>24</td>\n",
       "    </tr>\n",
       "    <tr>\n",
       "      <th>10207</th>\n",
       "      <td>2013</td>\n",
       "      <td>23</td>\n",
       "    </tr>\n",
       "    <tr>\n",
       "      <th>10381</th>\n",
       "      <td>2012</td>\n",
       "      <td>21</td>\n",
       "    </tr>\n",
       "    <tr>\n",
       "      <th>10558</th>\n",
       "      <td>2011</td>\n",
       "      <td>22</td>\n",
       "    </tr>\n",
       "    <tr>\n",
       "      <th>10746</th>\n",
       "      <td>2010</td>\n",
       "      <td>16</td>\n",
       "    </tr>\n",
       "    <tr>\n",
       "      <th>10872</th>\n",
       "      <td>2010</td>\n",
       "      <td>16</td>\n",
       "    </tr>\n",
       "    <tr>\n",
       "      <th>10929</th>\n",
       "      <td>2009</td>\n",
       "      <td>22</td>\n",
       "    </tr>\n",
       "    <tr>\n",
       "      <th>11103</th>\n",
       "      <td>2008</td>\n",
       "      <td>23</td>\n",
       "    </tr>\n",
       "    <tr>\n",
       "      <th>11286</th>\n",
       "      <td>2007</td>\n",
       "      <td>21</td>\n",
       "    </tr>\n",
       "    <tr>\n",
       "      <th>11473</th>\n",
       "      <td>2006</td>\n",
       "      <td>22</td>\n",
       "    </tr>\n",
       "    <tr>\n",
       "      <th>11658</th>\n",
       "      <td>2005</td>\n",
       "      <td>19</td>\n",
       "    </tr>\n",
       "    <tr>\n",
       "      <th>11831</th>\n",
       "      <td>2004</td>\n",
       "      <td>20</td>\n",
       "    </tr>\n",
       "    <tr>\n",
       "      <th>12013</th>\n",
       "      <td>2003</td>\n",
       "      <td>21</td>\n",
       "    </tr>\n",
       "    <tr>\n",
       "      <th>12193</th>\n",
       "      <td>2002</td>\n",
       "      <td>15</td>\n",
       "    </tr>\n",
       "    <tr>\n",
       "      <th>12372</th>\n",
       "      <td>2001</td>\n",
       "      <td>20</td>\n",
       "    </tr>\n",
       "    <tr>\n",
       "      <th>12529</th>\n",
       "      <td>2000</td>\n",
       "      <td>17</td>\n",
       "    </tr>\n",
       "    <tr>\n",
       "      <th>12684</th>\n",
       "      <td>1999</td>\n",
       "      <td>18</td>\n",
       "    </tr>\n",
       "    <tr>\n",
       "      <th>12816</th>\n",
       "      <td>1998</td>\n",
       "      <td>16</td>\n",
       "    </tr>\n",
       "  </tbody>\n",
       "</table>\n",
       "</div>"
      ],
      "text/plain": [
       "       Year Value\n",
       "8881   2020    28\n",
       "9024   2019    30\n",
       "9183   2018    28\n",
       "9337   2018    28\n",
       "9408   2017    27\n",
       "9561   2017    27\n",
       "9639   2016    25\n",
       "9860   2015    26\n",
       "10028  2014    24\n",
       "10207  2013    23\n",
       "10381  2012    21\n",
       "10558  2011    22\n",
       "10746  2010    16\n",
       "10872  2010    16\n",
       "10929  2009    22\n",
       "11103  2008    23\n",
       "11286  2007    21\n",
       "11473  2006    22\n",
       "11658  2005    19\n",
       "11831  2004    20\n",
       "12013  2003    21\n",
       "12193  2002    15\n",
       "12372  2001    20\n",
       "12529  2000    17\n",
       "12684  1999    18\n",
       "12816  1998    16"
      ]
     },
     "execution_count": 76,
     "metadata": {},
     "output_type": "execute_result"
    }
   ],
   "source": [
    "asparagus_yield_stripped_data = asparagus_yield[['Year', 'Value']]\n",
    "asparagus_yield_stripped_data"
   ]
  },
  {
   "cell_type": "code",
   "execution_count": 77,
   "metadata": {},
   "outputs": [],
   "source": [
    "asparagus_yield_stripped_data.to_csv('asparagus.csv', index=False)"
   ]
  },
  {
   "cell_type": "markdown",
   "metadata": {},
   "source": [
    "## Merging DataFrames"
   ]
  },
  {
   "cell_type": "code",
   "execution_count": 78,
   "metadata": {},
   "outputs": [],
   "source": [
    "#cucumbers carrots onions corn tomatoes asparagus"
   ]
  },
  {
   "cell_type": "code",
   "execution_count": 79,
   "metadata": {},
   "outputs": [
    {
     "name": "stderr",
     "output_type": "stream",
     "text": [
      "<ipython-input-79-e6774d2b0e9e>:1: SettingWithCopyWarning: \n",
      "A value is trying to be set on a copy of a slice from a DataFrame.\n",
      "Try using .loc[row_indexer,col_indexer] = value instead\n",
      "\n",
      "See the caveats in the documentation: https://pandas.pydata.org/pandas-docs/stable/user_guide/indexing.html#returning-a-view-versus-a-copy\n",
      "  cucumbers_yield_stripped_data['Crop'] = 'Cucumbers'\n"
     ]
    }
   ],
   "source": [
    "cucumbers_yield_stripped_data['Crop'] = 'Cucumbers'"
   ]
  },
  {
   "cell_type": "code",
   "execution_count": 80,
   "metadata": {},
   "outputs": [
    {
     "data": {
      "text/html": [
       "<div>\n",
       "<style scoped>\n",
       "    .dataframe tbody tr th:only-of-type {\n",
       "        vertical-align: middle;\n",
       "    }\n",
       "\n",
       "    .dataframe tbody tr th {\n",
       "        vertical-align: top;\n",
       "    }\n",
       "\n",
       "    .dataframe thead th {\n",
       "        text-align: right;\n",
       "    }\n",
       "</style>\n",
       "<table border=\"1\" class=\"dataframe\">\n",
       "  <thead>\n",
       "    <tr style=\"text-align: right;\">\n",
       "      <th></th>\n",
       "      <th>Year</th>\n",
       "      <th>Value</th>\n",
       "      <th>Crop</th>\n",
       "    </tr>\n",
       "  </thead>\n",
       "  <tbody>\n",
       "    <tr>\n",
       "      <th>9901</th>\n",
       "      <td>2015</td>\n",
       "      <td>5.90</td>\n",
       "      <td>Cucumbers</td>\n",
       "    </tr>\n",
       "    <tr>\n",
       "      <th>10064</th>\n",
       "      <td>2014</td>\n",
       "      <td>6.10</td>\n",
       "      <td>Cucumbers</td>\n",
       "    </tr>\n",
       "    <tr>\n",
       "      <th>10242</th>\n",
       "      <td>2013</td>\n",
       "      <td>5.80</td>\n",
       "      <td>Cucumbers</td>\n",
       "    </tr>\n",
       "    <tr>\n",
       "      <th>10416</th>\n",
       "      <td>2012</td>\n",
       "      <td>5.40</td>\n",
       "      <td>Cucumbers</td>\n",
       "    </tr>\n",
       "    <tr>\n",
       "      <th>10600</th>\n",
       "      <td>2011</td>\n",
       "      <td>5.60</td>\n",
       "      <td>Cucumbers</td>\n",
       "    </tr>\n",
       "    <tr>\n",
       "      <th>10788</th>\n",
       "      <td>2010</td>\n",
       "      <td>6.40</td>\n",
       "      <td>Cucumbers</td>\n",
       "    </tr>\n",
       "    <tr>\n",
       "      <th>10971</th>\n",
       "      <td>2009</td>\n",
       "      <td>5.80</td>\n",
       "      <td>Cucumbers</td>\n",
       "    </tr>\n",
       "    <tr>\n",
       "      <th>11151</th>\n",
       "      <td>2008</td>\n",
       "      <td>6.20</td>\n",
       "      <td>Cucumbers</td>\n",
       "    </tr>\n",
       "    <tr>\n",
       "      <th>11334</th>\n",
       "      <td>2007</td>\n",
       "      <td>5.30</td>\n",
       "      <td>Cucumbers</td>\n",
       "    </tr>\n",
       "    <tr>\n",
       "      <th>11527</th>\n",
       "      <td>2006</td>\n",
       "      <td>5.20</td>\n",
       "      <td>Cucumbers</td>\n",
       "    </tr>\n",
       "    <tr>\n",
       "      <th>11712</th>\n",
       "      <td>2005</td>\n",
       "      <td>4.80</td>\n",
       "      <td>Cucumbers</td>\n",
       "    </tr>\n",
       "    <tr>\n",
       "      <th>11885</th>\n",
       "      <td>2004</td>\n",
       "      <td>5.00</td>\n",
       "      <td>Cucumbers</td>\n",
       "    </tr>\n",
       "    <tr>\n",
       "      <th>12067</th>\n",
       "      <td>2003</td>\n",
       "      <td>5.40</td>\n",
       "      <td>Cucumbers</td>\n",
       "    </tr>\n",
       "    <tr>\n",
       "      <th>12247</th>\n",
       "      <td>2002</td>\n",
       "      <td>4.60</td>\n",
       "      <td>Cucumbers</td>\n",
       "    </tr>\n",
       "    <tr>\n",
       "      <th>12426</th>\n",
       "      <td>2001</td>\n",
       "      <td>4.25</td>\n",
       "      <td>Cucumbers</td>\n",
       "    </tr>\n",
       "    <tr>\n",
       "      <th>12583</th>\n",
       "      <td>2000</td>\n",
       "      <td>6.00</td>\n",
       "      <td>Cucumbers</td>\n",
       "    </tr>\n",
       "    <tr>\n",
       "      <th>12744</th>\n",
       "      <td>1999</td>\n",
       "      <td>6.00</td>\n",
       "      <td>Cucumbers</td>\n",
       "    </tr>\n",
       "    <tr>\n",
       "      <th>12876</th>\n",
       "      <td>1998</td>\n",
       "      <td>5.00</td>\n",
       "      <td>Cucumbers</td>\n",
       "    </tr>\n",
       "  </tbody>\n",
       "</table>\n",
       "</div>"
      ],
      "text/plain": [
       "       Year  Value       Crop\n",
       "9901   2015   5.90  Cucumbers\n",
       "10064  2014   6.10  Cucumbers\n",
       "10242  2013   5.80  Cucumbers\n",
       "10416  2012   5.40  Cucumbers\n",
       "10600  2011   5.60  Cucumbers\n",
       "10788  2010   6.40  Cucumbers\n",
       "10971  2009   5.80  Cucumbers\n",
       "11151  2008   6.20  Cucumbers\n",
       "11334  2007   5.30  Cucumbers\n",
       "11527  2006   5.20  Cucumbers\n",
       "11712  2005   4.80  Cucumbers\n",
       "11885  2004   5.00  Cucumbers\n",
       "12067  2003   5.40  Cucumbers\n",
       "12247  2002   4.60  Cucumbers\n",
       "12426  2001   4.25  Cucumbers\n",
       "12583  2000   6.00  Cucumbers\n",
       "12744  1999   6.00  Cucumbers\n",
       "12876  1998   5.00  Cucumbers"
      ]
     },
     "execution_count": 80,
     "metadata": {},
     "output_type": "execute_result"
    }
   ],
   "source": [
    "cucumbers_yield_stripped_data"
   ]
  },
  {
   "cell_type": "code",
   "execution_count": 81,
   "metadata": {},
   "outputs": [
    {
     "name": "stderr",
     "output_type": "stream",
     "text": [
      "<ipython-input-81-a4120013d2f4>:1: SettingWithCopyWarning: \n",
      "A value is trying to be set on a copy of a slice from a DataFrame.\n",
      "Try using .loc[row_indexer,col_indexer] = value instead\n",
      "\n",
      "See the caveats in the documentation: https://pandas.pydata.org/pandas-docs/stable/user_guide/indexing.html#returning-a-view-versus-a-copy\n",
      "  carrots_yield_stripped_data ['Crop'] = 'Carrots'\n"
     ]
    }
   ],
   "source": [
    "carrots_yield_stripped_data ['Crop'] = 'Carrots'"
   ]
  },
  {
   "cell_type": "code",
   "execution_count": 82,
   "metadata": {},
   "outputs": [],
   "source": [
    "cucumbers_and_carrots = cucumbers_yield_stripped_data.merge(carrots_yield_stripped_data, on='Year')"
   ]
  },
  {
   "cell_type": "code",
   "execution_count": 83,
   "metadata": {},
   "outputs": [],
   "source": [
    "carrots_cucumbers = pd.concat([carrots_yield_stripped_data, cucumbers_yield_stripped_data])"
   ]
  },
  {
   "cell_type": "code",
   "execution_count": 84,
   "metadata": {},
   "outputs": [
    {
     "name": "stderr",
     "output_type": "stream",
     "text": [
      "<ipython-input-84-08a6b29d4b04>:1: SettingWithCopyWarning: \n",
      "A value is trying to be set on a copy of a slice from a DataFrame.\n",
      "Try using .loc[row_indexer,col_indexer] = value instead\n",
      "\n",
      "See the caveats in the documentation: https://pandas.pydata.org/pandas-docs/stable/user_guide/indexing.html#returning-a-view-versus-a-copy\n",
      "  onion_yield_stripped_data['Crop'] = 'Onions'\n"
     ]
    }
   ],
   "source": [
    "onion_yield_stripped_data['Crop'] = 'Onions'"
   ]
  },
  {
   "cell_type": "code",
   "execution_count": 85,
   "metadata": {},
   "outputs": [
    {
     "name": "stderr",
     "output_type": "stream",
     "text": [
      "<ipython-input-85-0324135952a8>:1: SettingWithCopyWarning: \n",
      "A value is trying to be set on a copy of a slice from a DataFrame.\n",
      "Try using .loc[row_indexer,col_indexer] = value instead\n",
      "\n",
      "See the caveats in the documentation: https://pandas.pydata.org/pandas-docs/stable/user_guide/indexing.html#returning-a-view-versus-a-copy\n",
      "  corn_yield_stripped_data['Crop'] = 'Corn'\n"
     ]
    }
   ],
   "source": [
    "corn_yield_stripped_data['Crop'] = 'Corn'"
   ]
  },
  {
   "cell_type": "code",
   "execution_count": 86,
   "metadata": {},
   "outputs": [
    {
     "name": "stderr",
     "output_type": "stream",
     "text": [
      "<ipython-input-86-d9ba4fe9a65b>:1: SettingWithCopyWarning: \n",
      "A value is trying to be set on a copy of a slice from a DataFrame.\n",
      "Try using .loc[row_indexer,col_indexer] = value instead\n",
      "\n",
      "See the caveats in the documentation: https://pandas.pydata.org/pandas-docs/stable/user_guide/indexing.html#returning-a-view-versus-a-copy\n",
      "  asparagus_yield_stripped_data['Crop'] = 'Asparagus'\n"
     ]
    }
   ],
   "source": [
    "asparagus_yield_stripped_data['Crop'] = 'Asparagus'"
   ]
  },
  {
   "cell_type": "code",
   "execution_count": 87,
   "metadata": {},
   "outputs": [
    {
     "name": "stderr",
     "output_type": "stream",
     "text": [
      "<ipython-input-87-d3002c82ea85>:1: SettingWithCopyWarning: \n",
      "A value is trying to be set on a copy of a slice from a DataFrame.\n",
      "Try using .loc[row_indexer,col_indexer] = value instead\n",
      "\n",
      "See the caveats in the documentation: https://pandas.pydata.org/pandas-docs/stable/user_guide/indexing.html#returning-a-view-versus-a-copy\n",
      "  tomatoes_yield_stripped_data['Crop'] = 'Tomatoes'\n"
     ]
    }
   ],
   "source": [
    "tomatoes_yield_stripped_data['Crop'] = 'Tomatoes'"
   ]
  },
  {
   "cell_type": "code",
   "execution_count": 88,
   "metadata": {},
   "outputs": [
    {
     "name": "stderr",
     "output_type": "stream",
     "text": [
      "<ipython-input-88-c8501a222bda>:1: SettingWithCopyWarning: \n",
      "A value is trying to be set on a copy of a slice from a DataFrame.\n",
      "Try using .loc[row_indexer,col_indexer] = value instead\n",
      "\n",
      "See the caveats in the documentation: https://pandas.pydata.org/pandas-docs/stable/user_guide/indexing.html#returning-a-view-versus-a-copy\n",
      "  squash_yield_stripped_data['Crop'] = 'Squash'\n"
     ]
    }
   ],
   "source": [
    "squash_yield_stripped_data['Crop'] = 'Squash'"
   ]
  },
  {
   "cell_type": "code",
   "execution_count": 89,
   "metadata": {},
   "outputs": [
    {
     "name": "stderr",
     "output_type": "stream",
     "text": [
      "<ipython-input-89-62f48d199caf>:1: SettingWithCopyWarning: \n",
      "A value is trying to be set on a copy of a slice from a DataFrame.\n",
      "Try using .loc[row_indexer,col_indexer] = value instead\n",
      "\n",
      "See the caveats in the documentation: https://pandas.pydata.org/pandas-docs/stable/user_guide/indexing.html#returning-a-view-versus-a-copy\n",
      "  celery_yield_stripped_data['Crop'] = 'Celery'\n"
     ]
    }
   ],
   "source": [
    "celery_yield_stripped_data['Crop'] = 'Celery'"
   ]
  },
  {
   "cell_type": "code",
   "execution_count": 90,
   "metadata": {},
   "outputs": [
    {
     "name": "stderr",
     "output_type": "stream",
     "text": [
      "<ipython-input-90-a6820c68629c>:1: SettingWithCopyWarning: \n",
      "A value is trying to be set on a copy of a slice from a DataFrame.\n",
      "Try using .loc[row_indexer,col_indexer] = value instead\n",
      "\n",
      "See the caveats in the documentation: https://pandas.pydata.org/pandas-docs/stable/user_guide/indexing.html#returning-a-view-versus-a-copy\n",
      "  peppers_yield_stripped_data['Crop'] = 'Peppers'\n"
     ]
    }
   ],
   "source": [
    "peppers_yield_stripped_data['Crop'] = 'Peppers'"
   ]
  },
  {
   "cell_type": "code",
   "execution_count": 91,
   "metadata": {},
   "outputs": [
    {
     "name": "stderr",
     "output_type": "stream",
     "text": [
      "<ipython-input-91-817cd81763bd>:1: SettingWithCopyWarning: \n",
      "A value is trying to be set on a copy of a slice from a DataFrame.\n",
      "Try using .loc[row_indexer,col_indexer] = value instead\n",
      "\n",
      "See the caveats in the documentation: https://pandas.pydata.org/pandas-docs/stable/user_guide/indexing.html#returning-a-view-versus-a-copy\n",
      "  pumpkins_yield_stripped_data['Crop'] = 'Pumpkins'\n"
     ]
    }
   ],
   "source": [
    "pumpkins_yield_stripped_data['Crop'] = 'Pumpkins'"
   ]
  },
  {
   "cell_type": "code",
   "execution_count": 92,
   "metadata": {},
   "outputs": [
    {
     "name": "stderr",
     "output_type": "stream",
     "text": [
      "<ipython-input-92-1681bf6066e7>:1: SettingWithCopyWarning: \n",
      "A value is trying to be set on a copy of a slice from a DataFrame.\n",
      "Try using .loc[row_indexer,col_indexer] = value instead\n",
      "\n",
      "See the caveats in the documentation: https://pandas.pydata.org/pandas-docs/stable/user_guide/indexing.html#returning-a-view-versus-a-copy\n",
      "  cabbage_yield_stripped_data['Crop'] = 'Cabbage'\n"
     ]
    }
   ],
   "source": [
    "cabbage_yield_stripped_data['Crop'] = 'Cabbage'"
   ]
  },
  {
   "cell_type": "code",
   "execution_count": 93,
   "metadata": {},
   "outputs": [],
   "source": [
    "carrots_cucumbers_asparagus = pd.concat([carrots_cucumbers, asparagus_yield_stripped_data])"
   ]
  },
  {
   "cell_type": "code",
   "execution_count": 94,
   "metadata": {},
   "outputs": [
    {
     "data": {
      "text/html": [
       "<div>\n",
       "<style scoped>\n",
       "    .dataframe tbody tr th:only-of-type {\n",
       "        vertical-align: middle;\n",
       "    }\n",
       "\n",
       "    .dataframe tbody tr th {\n",
       "        vertical-align: top;\n",
       "    }\n",
       "\n",
       "    .dataframe thead th {\n",
       "        text-align: right;\n",
       "    }\n",
       "</style>\n",
       "<table border=\"1\" class=\"dataframe\">\n",
       "  <thead>\n",
       "    <tr style=\"text-align: right;\">\n",
       "      <th></th>\n",
       "      <th>Year</th>\n",
       "      <th>Value</th>\n",
       "      <th>Crop</th>\n",
       "    </tr>\n",
       "  </thead>\n",
       "  <tbody>\n",
       "    <tr>\n",
       "      <th>9884</th>\n",
       "      <td>2015</td>\n",
       "      <td>240</td>\n",
       "      <td>Carrots</td>\n",
       "    </tr>\n",
       "    <tr>\n",
       "      <th>10049</th>\n",
       "      <td>2014</td>\n",
       "      <td>310</td>\n",
       "      <td>Carrots</td>\n",
       "    </tr>\n",
       "    <tr>\n",
       "      <th>10227</th>\n",
       "      <td>2013</td>\n",
       "      <td>290</td>\n",
       "      <td>Carrots</td>\n",
       "    </tr>\n",
       "    <tr>\n",
       "      <th>10401</th>\n",
       "      <td>2012</td>\n",
       "      <td>280</td>\n",
       "      <td>Carrots</td>\n",
       "    </tr>\n",
       "    <tr>\n",
       "      <th>10582</th>\n",
       "      <td>2011</td>\n",
       "      <td>260</td>\n",
       "      <td>Carrots</td>\n",
       "    </tr>\n",
       "    <tr>\n",
       "      <th>...</th>\n",
       "      <td>...</td>\n",
       "      <td>...</td>\n",
       "      <td>...</td>\n",
       "    </tr>\n",
       "    <tr>\n",
       "      <th>12193</th>\n",
       "      <td>2002</td>\n",
       "      <td>15</td>\n",
       "      <td>Asparagus</td>\n",
       "    </tr>\n",
       "    <tr>\n",
       "      <th>12372</th>\n",
       "      <td>2001</td>\n",
       "      <td>20</td>\n",
       "      <td>Asparagus</td>\n",
       "    </tr>\n",
       "    <tr>\n",
       "      <th>12529</th>\n",
       "      <td>2000</td>\n",
       "      <td>17</td>\n",
       "      <td>Asparagus</td>\n",
       "    </tr>\n",
       "    <tr>\n",
       "      <th>12684</th>\n",
       "      <td>1999</td>\n",
       "      <td>18</td>\n",
       "      <td>Asparagus</td>\n",
       "    </tr>\n",
       "    <tr>\n",
       "      <th>12816</th>\n",
       "      <td>1998</td>\n",
       "      <td>16</td>\n",
       "      <td>Asparagus</td>\n",
       "    </tr>\n",
       "  </tbody>\n",
       "</table>\n",
       "<p>62 rows × 3 columns</p>\n",
       "</div>"
      ],
      "text/plain": [
       "       Year Value       Crop\n",
       "9884   2015   240    Carrots\n",
       "10049  2014   310    Carrots\n",
       "10227  2013   290    Carrots\n",
       "10401  2012   280    Carrots\n",
       "10582  2011   260    Carrots\n",
       "...     ...   ...        ...\n",
       "12193  2002    15  Asparagus\n",
       "12372  2001    20  Asparagus\n",
       "12529  2000    17  Asparagus\n",
       "12684  1999    18  Asparagus\n",
       "12816  1998    16  Asparagus\n",
       "\n",
       "[62 rows x 3 columns]"
      ]
     },
     "execution_count": 94,
     "metadata": {},
     "output_type": "execute_result"
    }
   ],
   "source": [
    "carrots_cucumbers_asparagus"
   ]
  },
  {
   "cell_type": "code",
   "execution_count": 95,
   "metadata": {},
   "outputs": [],
   "source": [
    "carrots_cucumbers_asparagus_tomatoes = pd.concat([carrots_cucumbers_asparagus, tomatoes_yield_stripped_data])"
   ]
  },
  {
   "cell_type": "code",
   "execution_count": 96,
   "metadata": {},
   "outputs": [],
   "source": [
    "carrots_cucumbers_asparagus_tomatoes_onions = pd.concat([carrots_cucumbers_asparagus_tomatoes, onion_yield_stripped_data])"
   ]
  },
  {
   "cell_type": "code",
   "execution_count": 97,
   "metadata": {},
   "outputs": [
    {
     "data": {
      "text/plain": [
       "array(['Carrots', 'Cucumbers', 'Asparagus', 'Tomatoes', 'Onions'],\n",
       "      dtype=object)"
      ]
     },
     "execution_count": 97,
     "metadata": {},
     "output_type": "execute_result"
    }
   ],
   "source": [
    "carrots_cucumbers_asparagus_tomatoes_onions.Crop.unique()"
   ]
  },
  {
   "cell_type": "code",
   "execution_count": 98,
   "metadata": {},
   "outputs": [],
   "source": [
    "carrots_cucumbers_asparagus_tomatoes_onions_cabbage = pd.concat([carrots_cucumbers_asparagus_tomatoes_onions, cabbage_yield_stripped_data])"
   ]
  },
  {
   "cell_type": "code",
   "execution_count": 99,
   "metadata": {},
   "outputs": [],
   "source": [
    "carrots_cucumbers_asparagus_tomatoes_onions_cabbage_pumpkins = pd.concat([carrots_cucumbers_asparagus_tomatoes_onions_cabbage, pumpkins_yield_stripped_data])"
   ]
  },
  {
   "cell_type": "code",
   "execution_count": 100,
   "metadata": {},
   "outputs": [],
   "source": [
    "carrots_cucumbers_asparagus_tomatoes_onions_cabbage_pumpkins_squash = pd.concat([carrots_cucumbers_asparagus_tomatoes_onions_cabbage_pumpkins, squash_yield_stripped_data])"
   ]
  },
  {
   "cell_type": "code",
   "execution_count": 101,
   "metadata": {},
   "outputs": [],
   "source": [
    "carrots_cucumbers_asparagus_tomatoes_onions_cabbage_pumpkins_squash_peppers = pd.concat([carrots_cucumbers_asparagus_tomatoes_onions_cabbage_pumpkins_squash, peppers_yield_stripped_data])"
   ]
  },
  {
   "cell_type": "code",
   "execution_count": 102,
   "metadata": {},
   "outputs": [],
   "source": [
    "vegetable_yield = pd.concat([carrots_cucumbers_asparagus_tomatoes_onions_cabbage_pumpkins_squash_peppers, celery_yield_stripped_data])"
   ]
  },
  {
   "cell_type": "code",
   "execution_count": 103,
   "metadata": {},
   "outputs": [],
   "source": [
    "from vega_datasets import data\n",
    "\n",
    "source = data.stocks()"
   ]
  },
  {
   "cell_type": "code",
   "execution_count": 104,
   "metadata": {},
   "outputs": [
    {
     "data": {
      "text/html": [
       "<div>\n",
       "<style scoped>\n",
       "    .dataframe tbody tr th:only-of-type {\n",
       "        vertical-align: middle;\n",
       "    }\n",
       "\n",
       "    .dataframe tbody tr th {\n",
       "        vertical-align: top;\n",
       "    }\n",
       "\n",
       "    .dataframe thead th {\n",
       "        text-align: right;\n",
       "    }\n",
       "</style>\n",
       "<table border=\"1\" class=\"dataframe\">\n",
       "  <thead>\n",
       "    <tr style=\"text-align: right;\">\n",
       "      <th></th>\n",
       "      <th>Year</th>\n",
       "      <th>Value</th>\n",
       "      <th>Crop</th>\n",
       "    </tr>\n",
       "  </thead>\n",
       "  <tbody>\n",
       "    <tr>\n",
       "      <th>9884</th>\n",
       "      <td>2015</td>\n",
       "      <td>240</td>\n",
       "      <td>Carrots</td>\n",
       "    </tr>\n",
       "    <tr>\n",
       "      <th>10049</th>\n",
       "      <td>2014</td>\n",
       "      <td>310</td>\n",
       "      <td>Carrots</td>\n",
       "    </tr>\n",
       "    <tr>\n",
       "      <th>10227</th>\n",
       "      <td>2013</td>\n",
       "      <td>290</td>\n",
       "      <td>Carrots</td>\n",
       "    </tr>\n",
       "    <tr>\n",
       "      <th>10401</th>\n",
       "      <td>2012</td>\n",
       "      <td>280</td>\n",
       "      <td>Carrots</td>\n",
       "    </tr>\n",
       "    <tr>\n",
       "      <th>10582</th>\n",
       "      <td>2011</td>\n",
       "      <td>260</td>\n",
       "      <td>Carrots</td>\n",
       "    </tr>\n",
       "    <tr>\n",
       "      <th>...</th>\n",
       "      <td>...</td>\n",
       "      <td>...</td>\n",
       "      <td>...</td>\n",
       "    </tr>\n",
       "    <tr>\n",
       "      <th>12235</th>\n",
       "      <td>2002</td>\n",
       "      <td>470</td>\n",
       "      <td>Celery</td>\n",
       "    </tr>\n",
       "    <tr>\n",
       "      <th>12414</th>\n",
       "      <td>2001</td>\n",
       "      <td>460</td>\n",
       "      <td>Celery</td>\n",
       "    </tr>\n",
       "    <tr>\n",
       "      <th>12571</th>\n",
       "      <td>2000</td>\n",
       "      <td>500</td>\n",
       "      <td>Celery</td>\n",
       "    </tr>\n",
       "    <tr>\n",
       "      <th>12732</th>\n",
       "      <td>1999</td>\n",
       "      <td>450</td>\n",
       "      <td>Celery</td>\n",
       "    </tr>\n",
       "    <tr>\n",
       "      <th>12864</th>\n",
       "      <td>1998</td>\n",
       "      <td>470</td>\n",
       "      <td>Celery</td>\n",
       "    </tr>\n",
       "  </tbody>\n",
       "</table>\n",
       "<p>202 rows × 3 columns</p>\n",
       "</div>"
      ],
      "text/plain": [
       "       Year Value     Crop\n",
       "9884   2015   240  Carrots\n",
       "10049  2014   310  Carrots\n",
       "10227  2013   290  Carrots\n",
       "10401  2012   280  Carrots\n",
       "10582  2011   260  Carrots\n",
       "...     ...   ...      ...\n",
       "12235  2002   470   Celery\n",
       "12414  2001   460   Celery\n",
       "12571  2000   500   Celery\n",
       "12732  1999   450   Celery\n",
       "12864  1998   470   Celery\n",
       "\n",
       "[202 rows x 3 columns]"
      ]
     },
     "execution_count": 104,
     "metadata": {},
     "output_type": "execute_result"
    }
   ],
   "source": [
    "vegetable_yield"
   ]
  },
  {
   "cell_type": "code",
   "execution_count": 111,
   "metadata": {},
   "outputs": [],
   "source": [
    "all_crops = alt.Chart(vegetable_yield).mark_line().encode(\n",
    "    x='Year:N',\n",
    "    y=alt.Y('Value:Q', title = 'Yield (CWT/ACRE)'),\n",
    "    color='Crop',\n",
    "    strokeDash='Crop',\n",
    ")"
   ]
  },
  {
   "cell_type": "code",
   "execution_count": 106,
   "metadata": {},
   "outputs": [],
   "source": [
    "asparagus_and_cucumbers = pd.concat([asparagus_yield_stripped_data, cucumbers_yield_stripped_data])"
   ]
  },
  {
   "cell_type": "code",
   "execution_count": 107,
   "metadata": {},
   "outputs": [
    {
     "data": {
      "text/html": [
       "\n",
       "<div id=\"altair-viz-3a7db563b5b44056b1f0f0b3a775da69\"></div>\n",
       "<script type=\"text/javascript\">\n",
       "  var VEGA_DEBUG = (typeof VEGA_DEBUG == \"undefined\") ? {} : VEGA_DEBUG;\n",
       "  (function(spec, embedOpt){\n",
       "    let outputDiv = document.currentScript.previousElementSibling;\n",
       "    if (outputDiv.id !== \"altair-viz-3a7db563b5b44056b1f0f0b3a775da69\") {\n",
       "      outputDiv = document.getElementById(\"altair-viz-3a7db563b5b44056b1f0f0b3a775da69\");\n",
       "    }\n",
       "    const paths = {\n",
       "      \"vega\": \"https://cdn.jsdelivr.net/npm//vega@5?noext\",\n",
       "      \"vega-lib\": \"https://cdn.jsdelivr.net/npm//vega-lib?noext\",\n",
       "      \"vega-lite\": \"https://cdn.jsdelivr.net/npm//vega-lite@4.17.0?noext\",\n",
       "      \"vega-embed\": \"https://cdn.jsdelivr.net/npm//vega-embed@6?noext\",\n",
       "    };\n",
       "\n",
       "    function maybeLoadScript(lib, version) {\n",
       "      var key = `${lib.replace(\"-\", \"\")}_version`;\n",
       "      return (VEGA_DEBUG[key] == version) ?\n",
       "        Promise.resolve(paths[lib]) :\n",
       "        new Promise(function(resolve, reject) {\n",
       "          var s = document.createElement('script');\n",
       "          document.getElementsByTagName(\"head\")[0].appendChild(s);\n",
       "          s.async = true;\n",
       "          s.onload = () => {\n",
       "            VEGA_DEBUG[key] = version;\n",
       "            return resolve(paths[lib]);\n",
       "          };\n",
       "          s.onerror = () => reject(`Error loading script: ${paths[lib]}`);\n",
       "          s.src = paths[lib];\n",
       "        });\n",
       "    }\n",
       "\n",
       "    function showError(err) {\n",
       "      outputDiv.innerHTML = `<div class=\"error\" style=\"color:red;\">${err}</div>`;\n",
       "      throw err;\n",
       "    }\n",
       "\n",
       "    function displayChart(vegaEmbed) {\n",
       "      vegaEmbed(outputDiv, spec, embedOpt)\n",
       "        .catch(err => showError(`Javascript Error: ${err.message}<br>This usually means there's a typo in your chart specification. See the javascript console for the full traceback.`));\n",
       "    }\n",
       "\n",
       "    if(typeof define === \"function\" && define.amd) {\n",
       "      requirejs.config({paths});\n",
       "      require([\"vega-embed\"], displayChart, err => showError(`Error loading script: ${err.message}`));\n",
       "    } else {\n",
       "      maybeLoadScript(\"vega\", \"5\")\n",
       "        .then(() => maybeLoadScript(\"vega-lite\", \"4.17.0\"))\n",
       "        .then(() => maybeLoadScript(\"vega-embed\", \"6\"))\n",
       "        .catch(showError)\n",
       "        .then(() => displayChart(vegaEmbed));\n",
       "    }\n",
       "  })({\"config\": {\"view\": {\"continuousWidth\": 400, \"continuousHeight\": 300}}, \"data\": {\"name\": \"data-3b38e0ceba2e367fc47611a011ed9daf\"}, \"mark\": \"line\", \"encoding\": {\"color\": {\"field\": \"Crop\", \"type\": \"nominal\"}, \"strokeDash\": {\"field\": \"Crop\", \"type\": \"nominal\"}, \"x\": {\"field\": \"Year\", \"type\": \"nominal\"}, \"y\": {\"field\": \"Value\", \"title\": \"Yield (CWT/ACRE)\", \"type\": \"quantitative\"}}, \"$schema\": \"https://vega.github.io/schema/vega-lite/v4.17.0.json\", \"datasets\": {\"data-3b38e0ceba2e367fc47611a011ed9daf\": [{\"Year\": 2020, \"Value\": \"28\", \"Crop\": \"Asparagus\"}, {\"Year\": 2019, \"Value\": \"30\", \"Crop\": \"Asparagus\"}, {\"Year\": 2018, \"Value\": \"28\", \"Crop\": \"Asparagus\"}, {\"Year\": 2018, \"Value\": \"28\", \"Crop\": \"Asparagus\"}, {\"Year\": 2017, \"Value\": \"27\", \"Crop\": \"Asparagus\"}, {\"Year\": 2017, \"Value\": \"27\", \"Crop\": \"Asparagus\"}, {\"Year\": 2016, \"Value\": \"25\", \"Crop\": \"Asparagus\"}, {\"Year\": 2015, \"Value\": \"26\", \"Crop\": \"Asparagus\"}, {\"Year\": 2014, \"Value\": \"24\", \"Crop\": \"Asparagus\"}, {\"Year\": 2013, \"Value\": \"23\", \"Crop\": \"Asparagus\"}, {\"Year\": 2012, \"Value\": \"21\", \"Crop\": \"Asparagus\"}, {\"Year\": 2011, \"Value\": \"22\", \"Crop\": \"Asparagus\"}, {\"Year\": 2010, \"Value\": \"16\", \"Crop\": \"Asparagus\"}, {\"Year\": 2010, \"Value\": \"16\", \"Crop\": \"Asparagus\"}, {\"Year\": 2009, \"Value\": \"22\", \"Crop\": \"Asparagus\"}, {\"Year\": 2008, \"Value\": \"23\", \"Crop\": \"Asparagus\"}, {\"Year\": 2007, \"Value\": \"21\", \"Crop\": \"Asparagus\"}, {\"Year\": 2006, \"Value\": \"22\", \"Crop\": \"Asparagus\"}, {\"Year\": 2005, \"Value\": \"19\", \"Crop\": \"Asparagus\"}, {\"Year\": 2004, \"Value\": \"20\", \"Crop\": \"Asparagus\"}, {\"Year\": 2003, \"Value\": \"21\", \"Crop\": \"Asparagus\"}, {\"Year\": 2002, \"Value\": \"15\", \"Crop\": \"Asparagus\"}, {\"Year\": 2001, \"Value\": \"20\", \"Crop\": \"Asparagus\"}, {\"Year\": 2000, \"Value\": \"17\", \"Crop\": \"Asparagus\"}, {\"Year\": 1999, \"Value\": \"18\", \"Crop\": \"Asparagus\"}, {\"Year\": 1998, \"Value\": \"16\", \"Crop\": \"Asparagus\"}, {\"Year\": 2015, \"Value\": 5.9, \"Crop\": \"Cucumbers\"}, {\"Year\": 2014, \"Value\": 6.1, \"Crop\": \"Cucumbers\"}, {\"Year\": 2013, \"Value\": 5.8, \"Crop\": \"Cucumbers\"}, {\"Year\": 2012, \"Value\": 5.4, \"Crop\": \"Cucumbers\"}, {\"Year\": 2011, \"Value\": 5.6, \"Crop\": \"Cucumbers\"}, {\"Year\": 2010, \"Value\": 6.4, \"Crop\": \"Cucumbers\"}, {\"Year\": 2009, \"Value\": 5.8, \"Crop\": \"Cucumbers\"}, {\"Year\": 2008, \"Value\": 6.2, \"Crop\": \"Cucumbers\"}, {\"Year\": 2007, \"Value\": 5.3, \"Crop\": \"Cucumbers\"}, {\"Year\": 2006, \"Value\": 5.2, \"Crop\": \"Cucumbers\"}, {\"Year\": 2005, \"Value\": 4.8, \"Crop\": \"Cucumbers\"}, {\"Year\": 2004, \"Value\": 5.0, \"Crop\": \"Cucumbers\"}, {\"Year\": 2003, \"Value\": 5.4, \"Crop\": \"Cucumbers\"}, {\"Year\": 2002, \"Value\": 4.6, \"Crop\": \"Cucumbers\"}, {\"Year\": 2001, \"Value\": 4.25, \"Crop\": \"Cucumbers\"}, {\"Year\": 2000, \"Value\": 6.0, \"Crop\": \"Cucumbers\"}, {\"Year\": 1999, \"Value\": 6.0, \"Crop\": \"Cucumbers\"}, {\"Year\": 1998, \"Value\": 5.0, \"Crop\": \"Cucumbers\"}]}}, {\"mode\": \"vega-lite\"});\n",
       "</script>"
      ],
      "text/plain": [
       "alt.Chart(...)"
      ]
     },
     "execution_count": 107,
     "metadata": {},
     "output_type": "execute_result"
    }
   ],
   "source": [
    "alt.Chart(asparagus_and_cucumbers).mark_line().encode(\n",
    "    x='Year:N',\n",
    "    y=alt.Y('Value:Q', title = 'Yield (CWT/ACRE)'),\n",
    "    color='Crop',\n",
    "    strokeDash='Crop',\n",
    ")"
   ]
  },
  {
   "cell_type": "code",
   "execution_count": 109,
   "metadata": {},
   "outputs": [
    {
     "data": {
      "text/plain": [
       "['Asparagus',\n",
       " 'Cabbage',\n",
       " 'Carrots',\n",
       " 'Celery',\n",
       " 'Cucumbers',\n",
       " 'Onions',\n",
       " 'Peppers',\n",
       " 'Pumpkins',\n",
       " 'Squash',\n",
       " 'Tomatoes']"
      ]
     },
     "execution_count": 109,
     "metadata": {},
     "output_type": "execute_result"
    }
   ],
   "source": [
    "crops=list(vegetable_yield['Crop'].unique())\n",
    "crops.sort()\n",
    "crops"
   ]
  },
  {
   "cell_type": "code",
   "execution_count": 148,
   "metadata": {},
   "outputs": [
    {
     "ename": "SchemaValidationError",
     "evalue": "Invalid specification\n\n        altair.vegalite.v4.schema.core.SelectionDef->0, validating 'type'\n\n        'Asparagus' is not of type 'array'\n        ",
     "output_type": "error",
     "traceback": [
      "\u001b[0;31m---------------------------------------------------------------------------\u001b[0m",
      "\u001b[0;31mSchemaValidationError\u001b[0m                     Traceback (most recent call last)",
      "\u001b[0;32m<ipython-input-148-122ebd73e32e>\u001b[0m in \u001b[0;36m<module>\u001b[0;34m\u001b[0m\n\u001b[0;32m----> 1\u001b[0;31m selectCrops =alt.selection_multi(\n\u001b[0m\u001b[1;32m      2\u001b[0m     \u001b[0mfields\u001b[0m\u001b[0;34m=\u001b[0m\u001b[0;34m[\u001b[0m\u001b[0;34m'Crop'\u001b[0m\u001b[0;34m]\u001b[0m\u001b[0;34m,\u001b[0m\u001b[0;34m\u001b[0m\u001b[0;34m\u001b[0m\u001b[0m\n\u001b[1;32m      3\u001b[0m     \u001b[0minit\u001b[0m\u001b[0;34m=\u001b[0m\u001b[0;34m{\u001b[0m\u001b[0;34m\"Crop\"\u001b[0m\u001b[0;34m:\u001b[0m\u001b[0mcrops\u001b[0m\u001b[0;34m[\u001b[0m\u001b[0;36m0\u001b[0m\u001b[0;34m]\u001b[0m\u001b[0;34m}\u001b[0m\u001b[0;34m,\u001b[0m\u001b[0;34m\u001b[0m\u001b[0;34m\u001b[0m\u001b[0m\n\u001b[1;32m      4\u001b[0m     \u001b[0;31m# notice the binding_radio\u001b[0m\u001b[0;34m\u001b[0m\u001b[0;34m\u001b[0m\u001b[0;34m\u001b[0m\u001b[0m\n\u001b[1;32m      5\u001b[0m     \u001b[0mbind\u001b[0m\u001b[0;34m=\u001b[0m\u001b[0malt\u001b[0m\u001b[0;34m.\u001b[0m\u001b[0mbinding_radio\u001b[0m\u001b[0;34m(\u001b[0m\u001b[0moptions\u001b[0m\u001b[0;34m=\u001b[0m\u001b[0mcrops\u001b[0m\u001b[0;34m,\u001b[0m \u001b[0mname\u001b[0m\u001b[0;34m=\u001b[0m\u001b[0;34m\"Crop\"\u001b[0m\u001b[0;34m)\u001b[0m\u001b[0;34m,\u001b[0m\u001b[0;31m#edit this line\u001b[0m\u001b[0;34m\u001b[0m\u001b[0;34m\u001b[0m\u001b[0m\n",
      "\u001b[0;32m~/opt/anaconda3/lib/python3.8/site-packages/altair/vegalite/v4/api.py\u001b[0m in \u001b[0;36mselection_multi\u001b[0;34m(**kwargs)\u001b[0m\n\u001b[1;32m    248\u001b[0m \u001b[0;32mdef\u001b[0m \u001b[0mselection_multi\u001b[0m\u001b[0;34m(\u001b[0m\u001b[0;34m**\u001b[0m\u001b[0mkwargs\u001b[0m\u001b[0;34m)\u001b[0m\u001b[0;34m:\u001b[0m\u001b[0;34m\u001b[0m\u001b[0;34m\u001b[0m\u001b[0m\n\u001b[1;32m    249\u001b[0m     \u001b[0;34m\"\"\"Create a selection with type='multi'\"\"\"\u001b[0m\u001b[0;34m\u001b[0m\u001b[0;34m\u001b[0m\u001b[0m\n\u001b[0;32m--> 250\u001b[0;31m     \u001b[0;32mreturn\u001b[0m \u001b[0mselection\u001b[0m\u001b[0;34m(\u001b[0m\u001b[0mtype\u001b[0m\u001b[0;34m=\u001b[0m\u001b[0;34m\"multi\"\u001b[0m\u001b[0;34m,\u001b[0m \u001b[0;34m**\u001b[0m\u001b[0mkwargs\u001b[0m\u001b[0;34m)\u001b[0m\u001b[0;34m\u001b[0m\u001b[0;34m\u001b[0m\u001b[0m\n\u001b[0m\u001b[1;32m    251\u001b[0m \u001b[0;34m\u001b[0m\u001b[0m\n\u001b[1;32m    252\u001b[0m \u001b[0;34m\u001b[0m\u001b[0m\n",
      "\u001b[0;32m~/opt/anaconda3/lib/python3.8/site-packages/altair/vegalite/v4/api.py\u001b[0m in \u001b[0;36mselection\u001b[0;34m(name, type, **kwds)\u001b[0m\n\u001b[1;32m    236\u001b[0m         \u001b[0mThe\u001b[0m \u001b[0mselection\u001b[0m \u001b[0mobject\u001b[0m \u001b[0mthat\u001b[0m \u001b[0mcan\u001b[0m \u001b[0mbe\u001b[0m \u001b[0mused\u001b[0m \u001b[0;32min\u001b[0m \u001b[0mchart\u001b[0m \u001b[0mcreation\u001b[0m\u001b[0;34m.\u001b[0m\u001b[0;34m\u001b[0m\u001b[0;34m\u001b[0m\u001b[0m\n\u001b[1;32m    237\u001b[0m     \"\"\"\n\u001b[0;32m--> 238\u001b[0;31m     \u001b[0;32mreturn\u001b[0m \u001b[0mSelection\u001b[0m\u001b[0;34m(\u001b[0m\u001b[0mname\u001b[0m\u001b[0;34m,\u001b[0m \u001b[0mcore\u001b[0m\u001b[0;34m.\u001b[0m\u001b[0mSelectionDef\u001b[0m\u001b[0;34m(\u001b[0m\u001b[0mtype\u001b[0m\u001b[0;34m=\u001b[0m\u001b[0mtype\u001b[0m\u001b[0;34m,\u001b[0m \u001b[0;34m**\u001b[0m\u001b[0mkwds\u001b[0m\u001b[0;34m)\u001b[0m\u001b[0;34m)\u001b[0m\u001b[0;34m\u001b[0m\u001b[0;34m\u001b[0m\u001b[0m\n\u001b[0m\u001b[1;32m    239\u001b[0m \u001b[0;34m\u001b[0m\u001b[0m\n\u001b[1;32m    240\u001b[0m \u001b[0;34m\u001b[0m\u001b[0m\n",
      "\u001b[0;32m~/opt/anaconda3/lib/python3.8/site-packages/altair/vegalite/v4/schema/core.py\u001b[0m in \u001b[0;36m__init__\u001b[0;34m(self, *args, **kwds)\u001b[0m\n\u001b[1;32m  13722\u001b[0m \u001b[0;34m\u001b[0m\u001b[0m\n\u001b[1;32m  13723\u001b[0m     \u001b[0;32mdef\u001b[0m \u001b[0m__init__\u001b[0m\u001b[0;34m(\u001b[0m\u001b[0mself\u001b[0m\u001b[0;34m,\u001b[0m \u001b[0;34m*\u001b[0m\u001b[0margs\u001b[0m\u001b[0;34m,\u001b[0m \u001b[0;34m**\u001b[0m\u001b[0mkwds\u001b[0m\u001b[0;34m)\u001b[0m\u001b[0;34m:\u001b[0m\u001b[0;34m\u001b[0m\u001b[0;34m\u001b[0m\u001b[0m\n\u001b[0;32m> 13724\u001b[0;31m         \u001b[0msuper\u001b[0m\u001b[0;34m(\u001b[0m\u001b[0mSelectionDef\u001b[0m\u001b[0;34m,\u001b[0m \u001b[0mself\u001b[0m\u001b[0;34m)\u001b[0m\u001b[0;34m.\u001b[0m\u001b[0m__init__\u001b[0m\u001b[0;34m(\u001b[0m\u001b[0;34m*\u001b[0m\u001b[0margs\u001b[0m\u001b[0;34m,\u001b[0m \u001b[0;34m**\u001b[0m\u001b[0mkwds\u001b[0m\u001b[0;34m)\u001b[0m\u001b[0;34m\u001b[0m\u001b[0;34m\u001b[0m\u001b[0m\n\u001b[0m\u001b[1;32m  13725\u001b[0m \u001b[0;34m\u001b[0m\u001b[0m\n\u001b[1;32m  13726\u001b[0m \u001b[0;34m\u001b[0m\u001b[0m\n",
      "\u001b[0;32m~/opt/anaconda3/lib/python3.8/site-packages/altair/utils/schemapi.py\u001b[0m in \u001b[0;36m__init__\u001b[0;34m(self, *args, **kwds)\u001b[0m\n\u001b[1;32m    175\u001b[0m \u001b[0;34m\u001b[0m\u001b[0m\n\u001b[1;32m    176\u001b[0m         \u001b[0;32mif\u001b[0m \u001b[0mDEBUG_MODE\u001b[0m \u001b[0;32mand\u001b[0m \u001b[0mself\u001b[0m\u001b[0;34m.\u001b[0m\u001b[0m_class_is_valid_at_instantiation\u001b[0m\u001b[0;34m:\u001b[0m\u001b[0;34m\u001b[0m\u001b[0;34m\u001b[0m\u001b[0m\n\u001b[0;32m--> 177\u001b[0;31m             \u001b[0mself\u001b[0m\u001b[0;34m.\u001b[0m\u001b[0mto_dict\u001b[0m\u001b[0;34m(\u001b[0m\u001b[0mvalidate\u001b[0m\u001b[0;34m=\u001b[0m\u001b[0;32mTrue\u001b[0m\u001b[0;34m)\u001b[0m\u001b[0;34m\u001b[0m\u001b[0;34m\u001b[0m\u001b[0m\n\u001b[0m\u001b[1;32m    178\u001b[0m \u001b[0;34m\u001b[0m\u001b[0m\n\u001b[1;32m    179\u001b[0m     \u001b[0;32mdef\u001b[0m \u001b[0mcopy\u001b[0m\u001b[0;34m(\u001b[0m\u001b[0mself\u001b[0m\u001b[0;34m,\u001b[0m \u001b[0mdeep\u001b[0m\u001b[0;34m=\u001b[0m\u001b[0;32mTrue\u001b[0m\u001b[0;34m,\u001b[0m \u001b[0mignore\u001b[0m\u001b[0;34m=\u001b[0m\u001b[0;34m(\u001b[0m\u001b[0;34m)\u001b[0m\u001b[0;34m)\u001b[0m\u001b[0;34m:\u001b[0m\u001b[0;34m\u001b[0m\u001b[0;34m\u001b[0m\u001b[0m\n",
      "\u001b[0;32m~/opt/anaconda3/lib/python3.8/site-packages/altair/utils/schemapi.py\u001b[0m in \u001b[0;36mto_dict\u001b[0;34m(self, validate, ignore, context)\u001b[0m\n\u001b[1;32m    338\u001b[0m                 \u001b[0mself\u001b[0m\u001b[0;34m.\u001b[0m\u001b[0mvalidate\u001b[0m\u001b[0;34m(\u001b[0m\u001b[0mresult\u001b[0m\u001b[0;34m)\u001b[0m\u001b[0;34m\u001b[0m\u001b[0;34m\u001b[0m\u001b[0m\n\u001b[1;32m    339\u001b[0m             \u001b[0;32mexcept\u001b[0m \u001b[0mjsonschema\u001b[0m\u001b[0;34m.\u001b[0m\u001b[0mValidationError\u001b[0m \u001b[0;32mas\u001b[0m \u001b[0merr\u001b[0m\u001b[0;34m:\u001b[0m\u001b[0;34m\u001b[0m\u001b[0;34m\u001b[0m\u001b[0m\n\u001b[0;32m--> 340\u001b[0;31m                 \u001b[0;32mraise\u001b[0m \u001b[0mSchemaValidationError\u001b[0m\u001b[0;34m(\u001b[0m\u001b[0mself\u001b[0m\u001b[0;34m,\u001b[0m \u001b[0merr\u001b[0m\u001b[0;34m)\u001b[0m\u001b[0;34m\u001b[0m\u001b[0;34m\u001b[0m\u001b[0m\n\u001b[0m\u001b[1;32m    341\u001b[0m         \u001b[0;32mreturn\u001b[0m \u001b[0mresult\u001b[0m\u001b[0;34m\u001b[0m\u001b[0;34m\u001b[0m\u001b[0m\n\u001b[1;32m    342\u001b[0m \u001b[0;34m\u001b[0m\u001b[0m\n",
      "\u001b[0;31mSchemaValidationError\u001b[0m: Invalid specification\n\n        altair.vegalite.v4.schema.core.SelectionDef->0, validating 'type'\n\n        'Asparagus' is not of type 'array'\n        "
     ]
    }
   ],
   "source": [
    "selectCrops =alt.selection_multi(\n",
    "    fields=['Crop'],\n",
    "    init={\"Crop\":crops[0]},\n",
    "    # notice the binding_radio\n",
    "    bind=alt.binding_radio(options=crops, name=\"Crop\"),#edit this line\n",
    "    name=\"Crop\"\n",
    ")"
   ]
  },
  {
   "cell_type": "code",
   "execution_count": 113,
   "metadata": {},
   "outputs": [],
   "source": [
    "radio_chart = all_crops.encode(\n",
    "    opacity=alt.condition(selectCrops, alt.value(1.0), alt.value(0.0))\n",
    ").add_selection(selectCrops)"
   ]
  },
  {
   "cell_type": "code",
   "execution_count": 114,
   "metadata": {},
   "outputs": [
    {
     "data": {
      "text/html": [
       "\n",
       "<div id=\"altair-viz-a06c2135d9b3422e858917187099a0e6\"></div>\n",
       "<script type=\"text/javascript\">\n",
       "  var VEGA_DEBUG = (typeof VEGA_DEBUG == \"undefined\") ? {} : VEGA_DEBUG;\n",
       "  (function(spec, embedOpt){\n",
       "    let outputDiv = document.currentScript.previousElementSibling;\n",
       "    if (outputDiv.id !== \"altair-viz-a06c2135d9b3422e858917187099a0e6\") {\n",
       "      outputDiv = document.getElementById(\"altair-viz-a06c2135d9b3422e858917187099a0e6\");\n",
       "    }\n",
       "    const paths = {\n",
       "      \"vega\": \"https://cdn.jsdelivr.net/npm//vega@5?noext\",\n",
       "      \"vega-lib\": \"https://cdn.jsdelivr.net/npm//vega-lib?noext\",\n",
       "      \"vega-lite\": \"https://cdn.jsdelivr.net/npm//vega-lite@4.17.0?noext\",\n",
       "      \"vega-embed\": \"https://cdn.jsdelivr.net/npm//vega-embed@6?noext\",\n",
       "    };\n",
       "\n",
       "    function maybeLoadScript(lib, version) {\n",
       "      var key = `${lib.replace(\"-\", \"\")}_version`;\n",
       "      return (VEGA_DEBUG[key] == version) ?\n",
       "        Promise.resolve(paths[lib]) :\n",
       "        new Promise(function(resolve, reject) {\n",
       "          var s = document.createElement('script');\n",
       "          document.getElementsByTagName(\"head\")[0].appendChild(s);\n",
       "          s.async = true;\n",
       "          s.onload = () => {\n",
       "            VEGA_DEBUG[key] = version;\n",
       "            return resolve(paths[lib]);\n",
       "          };\n",
       "          s.onerror = () => reject(`Error loading script: ${paths[lib]}`);\n",
       "          s.src = paths[lib];\n",
       "        });\n",
       "    }\n",
       "\n",
       "    function showError(err) {\n",
       "      outputDiv.innerHTML = `<div class=\"error\" style=\"color:red;\">${err}</div>`;\n",
       "      throw err;\n",
       "    }\n",
       "\n",
       "    function displayChart(vegaEmbed) {\n",
       "      vegaEmbed(outputDiv, spec, embedOpt)\n",
       "        .catch(err => showError(`Javascript Error: ${err.message}<br>This usually means there's a typo in your chart specification. See the javascript console for the full traceback.`));\n",
       "    }\n",
       "\n",
       "    if(typeof define === \"function\" && define.amd) {\n",
       "      requirejs.config({paths});\n",
       "      require([\"vega-embed\"], displayChart, err => showError(`Error loading script: ${err.message}`));\n",
       "    } else {\n",
       "      maybeLoadScript(\"vega\", \"5\")\n",
       "        .then(() => maybeLoadScript(\"vega-lite\", \"4.17.0\"))\n",
       "        .then(() => maybeLoadScript(\"vega-embed\", \"6\"))\n",
       "        .catch(showError)\n",
       "        .then(() => displayChart(vegaEmbed));\n",
       "    }\n",
       "  })({\"config\": {\"view\": {\"continuousWidth\": 400, \"continuousHeight\": 300}}, \"data\": {\"name\": \"data-da46abc7de517a8dd9edcd1b48f0e43c\"}, \"mark\": \"line\", \"encoding\": {\"color\": {\"field\": \"Crop\", \"type\": \"nominal\"}, \"opacity\": {\"condition\": {\"value\": 1.0, \"selection\": \"Crop\"}, \"value\": 0.0}, \"strokeDash\": {\"field\": \"Crop\", \"type\": \"nominal\"}, \"x\": {\"field\": \"Year\", \"type\": \"nominal\"}, \"y\": {\"field\": \"Value\", \"title\": \"Yield (CWT/ACRE)\", \"type\": \"quantitative\"}}, \"selection\": {\"Crop\": {\"type\": \"single\", \"fields\": [\"Crop\"], \"init\": {\"Crop\": \"Asparagus\"}, \"bind\": {\"input\": \"radio\", \"options\": [\"Asparagus\", \"Cabbage\", \"Carrots\", \"Celery\", \"Cucumbers\", \"Onions\", \"Peppers\", \"Pumpkins\", \"Squash\", \"Tomatoes\"], \"name\": \"Crop\"}}}, \"$schema\": \"https://vega.github.io/schema/vega-lite/v4.17.0.json\", \"datasets\": {\"data-da46abc7de517a8dd9edcd1b48f0e43c\": [{\"Year\": 2015, \"Value\": \"240\", \"Crop\": \"Carrots\"}, {\"Year\": 2014, \"Value\": \"310\", \"Crop\": \"Carrots\"}, {\"Year\": 2013, \"Value\": \"290\", \"Crop\": \"Carrots\"}, {\"Year\": 2012, \"Value\": \"280\", \"Crop\": \"Carrots\"}, {\"Year\": 2011, \"Value\": \"260\", \"Crop\": \"Carrots\"}, {\"Year\": 2010, \"Value\": \"250\", \"Crop\": \"Carrots\"}, {\"Year\": 2009, \"Value\": \"270\", \"Crop\": \"Carrots\"}, {\"Year\": 2008, \"Value\": \"290\", \"Crop\": \"Carrots\"}, {\"Year\": 2007, \"Value\": \"300\", \"Crop\": \"Carrots\"}, {\"Year\": 2006, \"Value\": \"320\", \"Crop\": \"Carrots\"}, {\"Year\": 2005, \"Value\": \"360\", \"Crop\": \"Carrots\"}, {\"Year\": 2004, \"Value\": \"310\", \"Crop\": \"Carrots\"}, {\"Year\": 2003, \"Value\": \"350\", \"Crop\": \"Carrots\"}, {\"Year\": 2002, \"Value\": \"330\", \"Crop\": \"Carrots\"}, {\"Year\": 2001, \"Value\": \"350\", \"Crop\": \"Carrots\"}, {\"Year\": 2000, \"Value\": \"280\", \"Crop\": \"Carrots\"}, {\"Year\": 1999, \"Value\": \"280\", \"Crop\": \"Carrots\"}, {\"Year\": 1998, \"Value\": \"290\", \"Crop\": \"Carrots\"}, {\"Year\": 2015, \"Value\": 5.9, \"Crop\": \"Cucumbers\"}, {\"Year\": 2014, \"Value\": 6.1, \"Crop\": \"Cucumbers\"}, {\"Year\": 2013, \"Value\": 5.8, \"Crop\": \"Cucumbers\"}, {\"Year\": 2012, \"Value\": 5.4, \"Crop\": \"Cucumbers\"}, {\"Year\": 2011, \"Value\": 5.6, \"Crop\": \"Cucumbers\"}, {\"Year\": 2010, \"Value\": 6.4, \"Crop\": \"Cucumbers\"}, {\"Year\": 2009, \"Value\": 5.8, \"Crop\": \"Cucumbers\"}, {\"Year\": 2008, \"Value\": 6.2, \"Crop\": \"Cucumbers\"}, {\"Year\": 2007, \"Value\": 5.3, \"Crop\": \"Cucumbers\"}, {\"Year\": 2006, \"Value\": 5.2, \"Crop\": \"Cucumbers\"}, {\"Year\": 2005, \"Value\": 4.8, \"Crop\": \"Cucumbers\"}, {\"Year\": 2004, \"Value\": 5.0, \"Crop\": \"Cucumbers\"}, {\"Year\": 2003, \"Value\": 5.4, \"Crop\": \"Cucumbers\"}, {\"Year\": 2002, \"Value\": 4.6, \"Crop\": \"Cucumbers\"}, {\"Year\": 2001, \"Value\": 4.25, \"Crop\": \"Cucumbers\"}, {\"Year\": 2000, \"Value\": 6.0, \"Crop\": \"Cucumbers\"}, {\"Year\": 1999, \"Value\": 6.0, \"Crop\": \"Cucumbers\"}, {\"Year\": 1998, \"Value\": 5.0, \"Crop\": \"Cucumbers\"}, {\"Year\": 2020, \"Value\": \"28\", \"Crop\": \"Asparagus\"}, {\"Year\": 2019, \"Value\": \"30\", \"Crop\": \"Asparagus\"}, {\"Year\": 2018, \"Value\": \"28\", \"Crop\": \"Asparagus\"}, {\"Year\": 2018, \"Value\": \"28\", \"Crop\": \"Asparagus\"}, {\"Year\": 2017, \"Value\": \"27\", \"Crop\": \"Asparagus\"}, {\"Year\": 2017, \"Value\": \"27\", \"Crop\": \"Asparagus\"}, {\"Year\": 2016, \"Value\": \"25\", \"Crop\": \"Asparagus\"}, {\"Year\": 2015, \"Value\": \"26\", \"Crop\": \"Asparagus\"}, {\"Year\": 2014, \"Value\": \"24\", \"Crop\": \"Asparagus\"}, {\"Year\": 2013, \"Value\": \"23\", \"Crop\": \"Asparagus\"}, {\"Year\": 2012, \"Value\": \"21\", \"Crop\": \"Asparagus\"}, {\"Year\": 2011, \"Value\": \"22\", \"Crop\": \"Asparagus\"}, {\"Year\": 2010, \"Value\": \"16\", \"Crop\": \"Asparagus\"}, {\"Year\": 2010, \"Value\": \"16\", \"Crop\": \"Asparagus\"}, {\"Year\": 2009, \"Value\": \"22\", \"Crop\": \"Asparagus\"}, {\"Year\": 2008, \"Value\": \"23\", \"Crop\": \"Asparagus\"}, {\"Year\": 2007, \"Value\": \"21\", \"Crop\": \"Asparagus\"}, {\"Year\": 2006, \"Value\": \"22\", \"Crop\": \"Asparagus\"}, {\"Year\": 2005, \"Value\": \"19\", \"Crop\": \"Asparagus\"}, {\"Year\": 2004, \"Value\": \"20\", \"Crop\": \"Asparagus\"}, {\"Year\": 2003, \"Value\": \"21\", \"Crop\": \"Asparagus\"}, {\"Year\": 2002, \"Value\": \"15\", \"Crop\": \"Asparagus\"}, {\"Year\": 2001, \"Value\": \"20\", \"Crop\": \"Asparagus\"}, {\"Year\": 2000, \"Value\": \"17\", \"Crop\": \"Asparagus\"}, {\"Year\": 1999, \"Value\": \"18\", \"Crop\": \"Asparagus\"}, {\"Year\": 1998, \"Value\": \"16\", \"Crop\": \"Asparagus\"}, {\"Year\": 2015, \"Value\": \"300\", \"Crop\": \"Tomatoes\"}, {\"Year\": 2014, \"Value\": \"245\", \"Crop\": \"Tomatoes\"}, {\"Year\": 2013, \"Value\": \"240\", \"Crop\": \"Tomatoes\"}, {\"Year\": 2012, \"Value\": \"200\", \"Crop\": \"Tomatoes\"}, {\"Year\": 2011, \"Value\": \"220\", \"Crop\": \"Tomatoes\"}, {\"Year\": 2010, \"Value\": \"200\", \"Crop\": \"Tomatoes\"}, {\"Year\": 2009, \"Value\": \"300\", \"Crop\": \"Tomatoes\"}, {\"Year\": 2008, \"Value\": \"260\", \"Crop\": \"Tomatoes\"}, {\"Year\": 2007, \"Value\": \"230\", \"Crop\": \"Tomatoes\"}, {\"Year\": 2006, \"Value\": \"230\", \"Crop\": \"Tomatoes\"}, {\"Year\": 2005, \"Value\": \"220\", \"Crop\": \"Tomatoes\"}, {\"Year\": 2004, \"Value\": \"260\", \"Crop\": \"Tomatoes\"}, {\"Year\": 2003, \"Value\": \"220\", \"Crop\": \"Tomatoes\"}, {\"Year\": 2002, \"Value\": \"210\", \"Crop\": \"Tomatoes\"}, {\"Year\": 2001, \"Value\": \"210\", \"Crop\": \"Tomatoes\"}, {\"Year\": 2000, \"Value\": \"170\", \"Crop\": \"Tomatoes\"}, {\"Year\": 1999, \"Value\": \"190\", \"Crop\": \"Tomatoes\"}, {\"Year\": 1998, \"Value\": \"210\", \"Crop\": \"Tomatoes\"}, {\"Year\": 2015, \"Value\": \"330\", \"Crop\": \"Onions\"}, {\"Year\": 2014, \"Value\": \"370\", \"Crop\": \"Onions\"}, {\"Year\": 2013, \"Value\": \"300\", \"Crop\": \"Onions\"}, {\"Year\": 2012, \"Value\": \"230\", \"Crop\": \"Onions\"}, {\"Year\": 2011, \"Value\": \"240\", \"Crop\": \"Onions\"}, {\"Year\": 2010, \"Value\": \"220\", \"Crop\": \"Onions\"}, {\"Year\": 2009, \"Value\": \"350\", \"Crop\": \"Onions\"}, {\"Year\": 2008, \"Value\": \"280\", \"Crop\": \"Onions\"}, {\"Year\": 2007, \"Value\": \"260\", \"Crop\": \"Onions\"}, {\"Year\": 2006, \"Value\": \"250\", \"Crop\": \"Onions\"}, {\"Year\": 2005, \"Value\": \"260\", \"Crop\": \"Onions\"}, {\"Year\": 2004, \"Value\": \"290\", \"Crop\": \"Onions\"}, {\"Year\": 2003, \"Value\": \"320\", \"Crop\": \"Onions\"}, {\"Year\": 2002, \"Value\": \"230\", \"Crop\": \"Onions\"}, {\"Year\": 2001, \"Value\": \"270\", \"Crop\": \"Onions\"}, {\"Year\": 2000, \"Value\": \"270\", \"Crop\": \"Onions\"}, {\"Year\": 1999, \"Value\": \"270\", \"Crop\": \"Onions\"}, {\"Year\": 1998, \"Value\": \"260\", \"Crop\": \"Onions\"}, {\"Year\": 2015, \"Value\": \"290\", \"Crop\": \"Cabbage\"}, {\"Year\": 2014, \"Value\": \"270\", \"Crop\": \"Cabbage\"}, {\"Year\": 2013, \"Value\": \"230\", \"Crop\": \"Cabbage\"}, {\"Year\": 2012, \"Value\": \"250\", \"Crop\": \"Cabbage\"}, {\"Year\": 2011, \"Value\": \"230\", \"Crop\": \"Cabbage\"}, {\"Year\": 2010, \"Value\": \"280\", \"Crop\": \"Cabbage\"}, {\"Year\": 2009, \"Value\": \"260\", \"Crop\": \"Cabbage\"}, {\"Year\": 2008, \"Value\": \"280\", \"Crop\": \"Cabbage\"}, {\"Year\": 2007, \"Value\": \"320\", \"Crop\": \"Cabbage\"}, {\"Year\": 2006, \"Value\": \"340\", \"Crop\": \"Cabbage\"}, {\"Year\": 2005, \"Value\": \"360\", \"Crop\": \"Cabbage\"}, {\"Year\": 2004, \"Value\": \"270\", \"Crop\": \"Cabbage\"}, {\"Year\": 2003, \"Value\": \"320\", \"Crop\": \"Cabbage\"}, {\"Year\": 2002, \"Value\": \"300\", \"Crop\": \"Cabbage\"}, {\"Year\": 2001, \"Value\": \"320\", \"Crop\": \"Cabbage\"}, {\"Year\": 2000, \"Value\": \"250\", \"Crop\": \"Cabbage\"}, {\"Year\": 1999, \"Value\": \"280\", \"Crop\": \"Cabbage\"}, {\"Year\": 1998, \"Value\": \"260\", \"Crop\": \"Cabbage\"}, {\"Year\": 2020, \"Value\": \"160\", \"Crop\": \"Pumpkins\"}, {\"Year\": 2019, \"Value\": \"150\", \"Crop\": \"Pumpkins\"}, {\"Year\": 2018, \"Value\": \"190\", \"Crop\": \"Pumpkins\"}, {\"Year\": 2017, \"Value\": \"155\", \"Crop\": \"Pumpkins\"}, {\"Year\": 2016, \"Value\": \"155\", \"Crop\": \"Pumpkins\"}, {\"Year\": 2015, \"Value\": \"155\", \"Crop\": \"Pumpkins\"}, {\"Year\": 2014, \"Value\": \"160\", \"Crop\": \"Pumpkins\"}, {\"Year\": 2013, \"Value\": \"155\", \"Crop\": \"Pumpkins\"}, {\"Year\": 2012, \"Value\": \"150\", \"Crop\": \"Pumpkins\"}, {\"Year\": 2011, \"Value\": \"145\", \"Crop\": \"Pumpkins\"}, {\"Year\": 2010, \"Value\": \"140\", \"Crop\": \"Pumpkins\"}, {\"Year\": 2009, \"Value\": \"110\", \"Crop\": \"Pumpkins\"}, {\"Year\": 2008, \"Value\": \"145\", \"Crop\": \"Pumpkins\"}, {\"Year\": 2007, \"Value\": \"115\", \"Crop\": \"Pumpkins\"}, {\"Year\": 2006, \"Value\": \"150\", \"Crop\": \"Pumpkins\"}, {\"Year\": 2005, \"Value\": \"145\", \"Crop\": \"Pumpkins\"}, {\"Year\": 2004, \"Value\": \"140\", \"Crop\": \"Pumpkins\"}, {\"Year\": 2003, \"Value\": \"140\", \"Crop\": \"Pumpkins\"}, {\"Year\": 2002, \"Value\": \"120\", \"Crop\": \"Pumpkins\"}, {\"Year\": 2001, \"Value\": \"120\", \"Crop\": \"Pumpkins\"}, {\"Year\": 2000, \"Value\": \"160\", \"Crop\": \"Pumpkins\"}, {\"Year\": 2020, \"Value\": \"220\", \"Crop\": \"Squash\"}, {\"Year\": 2019, \"Value\": \"200\", \"Crop\": \"Squash\"}, {\"Year\": 2018, \"Value\": \"220\", \"Crop\": \"Squash\"}, {\"Year\": 2017, \"Value\": \"230\", \"Crop\": \"Squash\"}, {\"Year\": 2016, \"Value\": \"240\", \"Crop\": \"Squash\"}, {\"Year\": 2015, \"Value\": \"200\", \"Crop\": \"Squash\"}, {\"Year\": 2014, \"Value\": \"200\", \"Crop\": \"Squash\"}, {\"Year\": 2013, \"Value\": \"200\", \"Crop\": \"Squash\"}, {\"Year\": 2012, \"Value\": \"240\", \"Crop\": \"Squash\"}, {\"Year\": 2011, \"Value\": \"220\", \"Crop\": \"Squash\"}, {\"Year\": 2010, \"Value\": \"200\", \"Crop\": \"Squash\"}, {\"Year\": 2009, \"Value\": \"210\", \"Crop\": \"Squash\"}, {\"Year\": 2008, \"Value\": \"200\", \"Crop\": \"Squash\"}, {\"Year\": 2007, \"Value\": \"190\", \"Crop\": \"Squash\"}, {\"Year\": 2006, \"Value\": \"210\", \"Crop\": \"Squash\"}, {\"Year\": 2005, \"Value\": \"220\", \"Crop\": \"Squash\"}, {\"Year\": 2004, \"Value\": \"160\", \"Crop\": \"Squash\"}, {\"Year\": 2003, \"Value\": \"190\", \"Crop\": \"Squash\"}, {\"Year\": 2002, \"Value\": \"230\", \"Crop\": \"Squash\"}, {\"Year\": 2001, \"Value\": \"200\", \"Crop\": \"Squash\"}, {\"Year\": 2000, \"Value\": \"115\", \"Crop\": \"Squash\"}, {\"Year\": 2020, \"Value\": \"230\", \"Crop\": \"Peppers\"}, {\"Year\": 2019, \"Value\": \"255\", \"Crop\": \"Peppers\"}, {\"Year\": 2018, \"Value\": \"240\", \"Crop\": \"Peppers\"}, {\"Year\": 2017, \"Value\": \"255\", \"Crop\": \"Peppers\"}, {\"Year\": 2016, \"Value\": \"260\", \"Crop\": \"Peppers\"}, {\"Year\": 2015, \"Value\": \"280\", \"Crop\": \"Peppers\"}, {\"Year\": 2014, \"Value\": \"260\", \"Crop\": \"Peppers\"}, {\"Year\": 2013, \"Value\": \"250\", \"Crop\": \"Peppers\"}, {\"Year\": 2012, \"Value\": \"260\", \"Crop\": \"Peppers\"}, {\"Year\": 2011, \"Value\": \"270\", \"Crop\": \"Peppers\"}, {\"Year\": 2010, \"Value\": \"230\", \"Crop\": \"Peppers\"}, {\"Year\": 2009, \"Value\": \"240\", \"Crop\": \"Peppers\"}, {\"Year\": 2008, \"Value\": \"250\", \"Crop\": \"Peppers\"}, {\"Year\": 2007, \"Value\": \"260\", \"Crop\": \"Peppers\"}, {\"Year\": 2006, \"Value\": \"270\", \"Crop\": \"Peppers\"}, {\"Year\": 2005, \"Value\": \"280\", \"Crop\": \"Peppers\"}, {\"Year\": 2004, \"Value\": \"290\", \"Crop\": \"Peppers\"}, {\"Year\": 2003, \"Value\": \"250\", \"Crop\": \"Peppers\"}, {\"Year\": 2002, \"Value\": \"250\", \"Crop\": \"Peppers\"}, {\"Year\": 2001, \"Value\": \"260\", \"Crop\": \"Peppers\"}, {\"Year\": 2000, \"Value\": \"220\", \"Crop\": \"Peppers\"}, {\"Year\": 1999, \"Value\": \"200\", \"Crop\": \"Peppers\"}, {\"Year\": 1998, \"Value\": \"200\", \"Crop\": \"Peppers\"}, {\"Year\": 2018, \"Value\": \"580\", \"Crop\": \"Celery\"}, {\"Year\": 2017, \"Value\": \"590\", \"Crop\": \"Celery\"}, {\"Year\": 2016, \"Value\": \"600\", \"Crop\": \"Celery\"}, {\"Year\": 2015, \"Value\": \"580\", \"Crop\": \"Celery\"}, {\"Year\": 2014, \"Value\": \"580\", \"Crop\": \"Celery\"}, {\"Year\": 2013, \"Value\": \"575\", \"Crop\": \"Celery\"}, {\"Year\": 2012, \"Value\": \"565\", \"Crop\": \"Celery\"}, {\"Year\": 2011, \"Value\": \"490\", \"Crop\": \"Celery\"}, {\"Year\": 2010, \"Value\": \"525\", \"Crop\": \"Celery\"}, {\"Year\": 2009, \"Value\": \"555\", \"Crop\": \"Celery\"}, {\"Year\": 2008, \"Value\": \"525\", \"Crop\": \"Celery\"}, {\"Year\": 2007, \"Value\": \"490\", \"Crop\": \"Celery\"}, {\"Year\": 2006, \"Value\": \"530\", \"Crop\": \"Celery\"}, {\"Year\": 2005, \"Value\": \"575\", \"Crop\": \"Celery\"}, {\"Year\": 2004, \"Value\": \"560\", \"Crop\": \"Celery\"}, {\"Year\": 2003, \"Value\": \"530\", \"Crop\": \"Celery\"}, {\"Year\": 2002, \"Value\": \"470\", \"Crop\": \"Celery\"}, {\"Year\": 2001, \"Value\": \"460\", \"Crop\": \"Celery\"}, {\"Year\": 2000, \"Value\": \"500\", \"Crop\": \"Celery\"}, {\"Year\": 1999, \"Value\": \"450\", \"Crop\": \"Celery\"}, {\"Year\": 1998, \"Value\": \"470\", \"Crop\": \"Celery\"}]}}, {\"mode\": \"vega-lite\"});\n",
       "</script>"
      ],
      "text/plain": [
       "alt.Chart(...)"
      ]
     },
     "execution_count": 114,
     "metadata": {},
     "output_type": "execute_result"
    }
   ],
   "source": [
    "radio_chart"
   ]
  },
  {
   "cell_type": "code",
   "execution_count": 115,
   "metadata": {},
   "outputs": [],
   "source": [
    " hover = alt.selection_single(\n",
    "        fields=[\"Year\"],\n",
    "        nearest=True,\n",
    "        on=\"mouseover\",\n",
    "        empty=\"none\",\n",
    "        clear=\"mouseout\",\n",
    "    )"
   ]
  },
  {
   "cell_type": "code",
   "execution_count": 139,
   "metadata": {},
   "outputs": [],
   "source": [
    "selectors = all_crops.mark_point(filled = True, color = 'grey', size = 100).encode(\n",
    "   x=alt.X(\n",
    "        'Year'), \n",
    " opacity=alt.condition(hover, alt.value(1), alt.value(0)))"
   ]
  },
  {
   "cell_type": "code",
   "execution_count": 140,
   "metadata": {},
   "outputs": [
    {
     "data": {
      "text/html": [
       "\n",
       "<div id=\"altair-viz-4f7928cf6fa9464d8442945926bd9d14\"></div>\n",
       "<script type=\"text/javascript\">\n",
       "  var VEGA_DEBUG = (typeof VEGA_DEBUG == \"undefined\") ? {} : VEGA_DEBUG;\n",
       "  (function(spec, embedOpt){\n",
       "    let outputDiv = document.currentScript.previousElementSibling;\n",
       "    if (outputDiv.id !== \"altair-viz-4f7928cf6fa9464d8442945926bd9d14\") {\n",
       "      outputDiv = document.getElementById(\"altair-viz-4f7928cf6fa9464d8442945926bd9d14\");\n",
       "    }\n",
       "    const paths = {\n",
       "      \"vega\": \"https://cdn.jsdelivr.net/npm//vega@5?noext\",\n",
       "      \"vega-lib\": \"https://cdn.jsdelivr.net/npm//vega-lib?noext\",\n",
       "      \"vega-lite\": \"https://cdn.jsdelivr.net/npm//vega-lite@4.17.0?noext\",\n",
       "      \"vega-embed\": \"https://cdn.jsdelivr.net/npm//vega-embed@6?noext\",\n",
       "    };\n",
       "\n",
       "    function maybeLoadScript(lib, version) {\n",
       "      var key = `${lib.replace(\"-\", \"\")}_version`;\n",
       "      return (VEGA_DEBUG[key] == version) ?\n",
       "        Promise.resolve(paths[lib]) :\n",
       "        new Promise(function(resolve, reject) {\n",
       "          var s = document.createElement('script');\n",
       "          document.getElementsByTagName(\"head\")[0].appendChild(s);\n",
       "          s.async = true;\n",
       "          s.onload = () => {\n",
       "            VEGA_DEBUG[key] = version;\n",
       "            return resolve(paths[lib]);\n",
       "          };\n",
       "          s.onerror = () => reject(`Error loading script: ${paths[lib]}`);\n",
       "          s.src = paths[lib];\n",
       "        });\n",
       "    }\n",
       "\n",
       "    function showError(err) {\n",
       "      outputDiv.innerHTML = `<div class=\"error\" style=\"color:red;\">${err}</div>`;\n",
       "      throw err;\n",
       "    }\n",
       "\n",
       "    function displayChart(vegaEmbed) {\n",
       "      vegaEmbed(outputDiv, spec, embedOpt)\n",
       "        .catch(err => showError(`Javascript Error: ${err.message}<br>This usually means there's a typo in your chart specification. See the javascript console for the full traceback.`));\n",
       "    }\n",
       "\n",
       "    if(typeof define === \"function\" && define.amd) {\n",
       "      requirejs.config({paths});\n",
       "      require([\"vega-embed\"], displayChart, err => showError(`Error loading script: ${err.message}`));\n",
       "    } else {\n",
       "      maybeLoadScript(\"vega\", \"5\")\n",
       "        .then(() => maybeLoadScript(\"vega-lite\", \"4.17.0\"))\n",
       "        .then(() => maybeLoadScript(\"vega-embed\", \"6\"))\n",
       "        .catch(showError)\n",
       "        .then(() => displayChart(vegaEmbed));\n",
       "    }\n",
       "  })({\"config\": {\"view\": {\"continuousWidth\": 400, \"continuousHeight\": 300}}, \"data\": {\"name\": \"data-da46abc7de517a8dd9edcd1b48f0e43c\"}, \"mark\": {\"type\": \"point\", \"color\": \"grey\", \"filled\": true, \"size\": 100}, \"encoding\": {\"color\": {\"field\": \"Crop\", \"type\": \"nominal\"}, \"opacity\": {\"condition\": {\"value\": 1, \"selection\": \"selector001\"}, \"value\": 0}, \"strokeDash\": {\"field\": \"Crop\", \"type\": \"nominal\"}, \"x\": {\"field\": \"Year\", \"type\": \"quantitative\"}, \"y\": {\"field\": \"Value\", \"title\": \"Yield (CWT/ACRE)\", \"type\": \"quantitative\"}}, \"$schema\": \"https://vega.github.io/schema/vega-lite/v4.17.0.json\", \"datasets\": {\"data-da46abc7de517a8dd9edcd1b48f0e43c\": [{\"Year\": 2015, \"Value\": \"240\", \"Crop\": \"Carrots\"}, {\"Year\": 2014, \"Value\": \"310\", \"Crop\": \"Carrots\"}, {\"Year\": 2013, \"Value\": \"290\", \"Crop\": \"Carrots\"}, {\"Year\": 2012, \"Value\": \"280\", \"Crop\": \"Carrots\"}, {\"Year\": 2011, \"Value\": \"260\", \"Crop\": \"Carrots\"}, {\"Year\": 2010, \"Value\": \"250\", \"Crop\": \"Carrots\"}, {\"Year\": 2009, \"Value\": \"270\", \"Crop\": \"Carrots\"}, {\"Year\": 2008, \"Value\": \"290\", \"Crop\": \"Carrots\"}, {\"Year\": 2007, \"Value\": \"300\", \"Crop\": \"Carrots\"}, {\"Year\": 2006, \"Value\": \"320\", \"Crop\": \"Carrots\"}, {\"Year\": 2005, \"Value\": \"360\", \"Crop\": \"Carrots\"}, {\"Year\": 2004, \"Value\": \"310\", \"Crop\": \"Carrots\"}, {\"Year\": 2003, \"Value\": \"350\", \"Crop\": \"Carrots\"}, {\"Year\": 2002, \"Value\": \"330\", \"Crop\": \"Carrots\"}, {\"Year\": 2001, \"Value\": \"350\", \"Crop\": \"Carrots\"}, {\"Year\": 2000, \"Value\": \"280\", \"Crop\": \"Carrots\"}, {\"Year\": 1999, \"Value\": \"280\", \"Crop\": \"Carrots\"}, {\"Year\": 1998, \"Value\": \"290\", \"Crop\": \"Carrots\"}, {\"Year\": 2015, \"Value\": 5.9, \"Crop\": \"Cucumbers\"}, {\"Year\": 2014, \"Value\": 6.1, \"Crop\": \"Cucumbers\"}, {\"Year\": 2013, \"Value\": 5.8, \"Crop\": \"Cucumbers\"}, {\"Year\": 2012, \"Value\": 5.4, \"Crop\": \"Cucumbers\"}, {\"Year\": 2011, \"Value\": 5.6, \"Crop\": \"Cucumbers\"}, {\"Year\": 2010, \"Value\": 6.4, \"Crop\": \"Cucumbers\"}, {\"Year\": 2009, \"Value\": 5.8, \"Crop\": \"Cucumbers\"}, {\"Year\": 2008, \"Value\": 6.2, \"Crop\": \"Cucumbers\"}, {\"Year\": 2007, \"Value\": 5.3, \"Crop\": \"Cucumbers\"}, {\"Year\": 2006, \"Value\": 5.2, \"Crop\": \"Cucumbers\"}, {\"Year\": 2005, \"Value\": 4.8, \"Crop\": \"Cucumbers\"}, {\"Year\": 2004, \"Value\": 5.0, \"Crop\": \"Cucumbers\"}, {\"Year\": 2003, \"Value\": 5.4, \"Crop\": \"Cucumbers\"}, {\"Year\": 2002, \"Value\": 4.6, \"Crop\": \"Cucumbers\"}, {\"Year\": 2001, \"Value\": 4.25, \"Crop\": \"Cucumbers\"}, {\"Year\": 2000, \"Value\": 6.0, \"Crop\": \"Cucumbers\"}, {\"Year\": 1999, \"Value\": 6.0, \"Crop\": \"Cucumbers\"}, {\"Year\": 1998, \"Value\": 5.0, \"Crop\": \"Cucumbers\"}, {\"Year\": 2020, \"Value\": \"28\", \"Crop\": \"Asparagus\"}, {\"Year\": 2019, \"Value\": \"30\", \"Crop\": \"Asparagus\"}, {\"Year\": 2018, \"Value\": \"28\", \"Crop\": \"Asparagus\"}, {\"Year\": 2018, \"Value\": \"28\", \"Crop\": \"Asparagus\"}, {\"Year\": 2017, \"Value\": \"27\", \"Crop\": \"Asparagus\"}, {\"Year\": 2017, \"Value\": \"27\", \"Crop\": \"Asparagus\"}, {\"Year\": 2016, \"Value\": \"25\", \"Crop\": \"Asparagus\"}, {\"Year\": 2015, \"Value\": \"26\", \"Crop\": \"Asparagus\"}, {\"Year\": 2014, \"Value\": \"24\", \"Crop\": \"Asparagus\"}, {\"Year\": 2013, \"Value\": \"23\", \"Crop\": \"Asparagus\"}, {\"Year\": 2012, \"Value\": \"21\", \"Crop\": \"Asparagus\"}, {\"Year\": 2011, \"Value\": \"22\", \"Crop\": \"Asparagus\"}, {\"Year\": 2010, \"Value\": \"16\", \"Crop\": \"Asparagus\"}, {\"Year\": 2010, \"Value\": \"16\", \"Crop\": \"Asparagus\"}, {\"Year\": 2009, \"Value\": \"22\", \"Crop\": \"Asparagus\"}, {\"Year\": 2008, \"Value\": \"23\", \"Crop\": \"Asparagus\"}, {\"Year\": 2007, \"Value\": \"21\", \"Crop\": \"Asparagus\"}, {\"Year\": 2006, \"Value\": \"22\", \"Crop\": \"Asparagus\"}, {\"Year\": 2005, \"Value\": \"19\", \"Crop\": \"Asparagus\"}, {\"Year\": 2004, \"Value\": \"20\", \"Crop\": \"Asparagus\"}, {\"Year\": 2003, \"Value\": \"21\", \"Crop\": \"Asparagus\"}, {\"Year\": 2002, \"Value\": \"15\", \"Crop\": \"Asparagus\"}, {\"Year\": 2001, \"Value\": \"20\", \"Crop\": \"Asparagus\"}, {\"Year\": 2000, \"Value\": \"17\", \"Crop\": \"Asparagus\"}, {\"Year\": 1999, \"Value\": \"18\", \"Crop\": \"Asparagus\"}, {\"Year\": 1998, \"Value\": \"16\", \"Crop\": \"Asparagus\"}, {\"Year\": 2015, \"Value\": \"300\", \"Crop\": \"Tomatoes\"}, {\"Year\": 2014, \"Value\": \"245\", \"Crop\": \"Tomatoes\"}, {\"Year\": 2013, \"Value\": \"240\", \"Crop\": \"Tomatoes\"}, {\"Year\": 2012, \"Value\": \"200\", \"Crop\": \"Tomatoes\"}, {\"Year\": 2011, \"Value\": \"220\", \"Crop\": \"Tomatoes\"}, {\"Year\": 2010, \"Value\": \"200\", \"Crop\": \"Tomatoes\"}, {\"Year\": 2009, \"Value\": \"300\", \"Crop\": \"Tomatoes\"}, {\"Year\": 2008, \"Value\": \"260\", \"Crop\": \"Tomatoes\"}, {\"Year\": 2007, \"Value\": \"230\", \"Crop\": \"Tomatoes\"}, {\"Year\": 2006, \"Value\": \"230\", \"Crop\": \"Tomatoes\"}, {\"Year\": 2005, \"Value\": \"220\", \"Crop\": \"Tomatoes\"}, {\"Year\": 2004, \"Value\": \"260\", \"Crop\": \"Tomatoes\"}, {\"Year\": 2003, \"Value\": \"220\", \"Crop\": \"Tomatoes\"}, {\"Year\": 2002, \"Value\": \"210\", \"Crop\": \"Tomatoes\"}, {\"Year\": 2001, \"Value\": \"210\", \"Crop\": \"Tomatoes\"}, {\"Year\": 2000, \"Value\": \"170\", \"Crop\": \"Tomatoes\"}, {\"Year\": 1999, \"Value\": \"190\", \"Crop\": \"Tomatoes\"}, {\"Year\": 1998, \"Value\": \"210\", \"Crop\": \"Tomatoes\"}, {\"Year\": 2015, \"Value\": \"330\", \"Crop\": \"Onions\"}, {\"Year\": 2014, \"Value\": \"370\", \"Crop\": \"Onions\"}, {\"Year\": 2013, \"Value\": \"300\", \"Crop\": \"Onions\"}, {\"Year\": 2012, \"Value\": \"230\", \"Crop\": \"Onions\"}, {\"Year\": 2011, \"Value\": \"240\", \"Crop\": \"Onions\"}, {\"Year\": 2010, \"Value\": \"220\", \"Crop\": \"Onions\"}, {\"Year\": 2009, \"Value\": \"350\", \"Crop\": \"Onions\"}, {\"Year\": 2008, \"Value\": \"280\", \"Crop\": \"Onions\"}, {\"Year\": 2007, \"Value\": \"260\", \"Crop\": \"Onions\"}, {\"Year\": 2006, \"Value\": \"250\", \"Crop\": \"Onions\"}, {\"Year\": 2005, \"Value\": \"260\", \"Crop\": \"Onions\"}, {\"Year\": 2004, \"Value\": \"290\", \"Crop\": \"Onions\"}, {\"Year\": 2003, \"Value\": \"320\", \"Crop\": \"Onions\"}, {\"Year\": 2002, \"Value\": \"230\", \"Crop\": \"Onions\"}, {\"Year\": 2001, \"Value\": \"270\", \"Crop\": \"Onions\"}, {\"Year\": 2000, \"Value\": \"270\", \"Crop\": \"Onions\"}, {\"Year\": 1999, \"Value\": \"270\", \"Crop\": \"Onions\"}, {\"Year\": 1998, \"Value\": \"260\", \"Crop\": \"Onions\"}, {\"Year\": 2015, \"Value\": \"290\", \"Crop\": \"Cabbage\"}, {\"Year\": 2014, \"Value\": \"270\", \"Crop\": \"Cabbage\"}, {\"Year\": 2013, \"Value\": \"230\", \"Crop\": \"Cabbage\"}, {\"Year\": 2012, \"Value\": \"250\", \"Crop\": \"Cabbage\"}, {\"Year\": 2011, \"Value\": \"230\", \"Crop\": \"Cabbage\"}, {\"Year\": 2010, \"Value\": \"280\", \"Crop\": \"Cabbage\"}, {\"Year\": 2009, \"Value\": \"260\", \"Crop\": \"Cabbage\"}, {\"Year\": 2008, \"Value\": \"280\", \"Crop\": \"Cabbage\"}, {\"Year\": 2007, \"Value\": \"320\", \"Crop\": \"Cabbage\"}, {\"Year\": 2006, \"Value\": \"340\", \"Crop\": \"Cabbage\"}, {\"Year\": 2005, \"Value\": \"360\", \"Crop\": \"Cabbage\"}, {\"Year\": 2004, \"Value\": \"270\", \"Crop\": \"Cabbage\"}, {\"Year\": 2003, \"Value\": \"320\", \"Crop\": \"Cabbage\"}, {\"Year\": 2002, \"Value\": \"300\", \"Crop\": \"Cabbage\"}, {\"Year\": 2001, \"Value\": \"320\", \"Crop\": \"Cabbage\"}, {\"Year\": 2000, \"Value\": \"250\", \"Crop\": \"Cabbage\"}, {\"Year\": 1999, \"Value\": \"280\", \"Crop\": \"Cabbage\"}, {\"Year\": 1998, \"Value\": \"260\", \"Crop\": \"Cabbage\"}, {\"Year\": 2020, \"Value\": \"160\", \"Crop\": \"Pumpkins\"}, {\"Year\": 2019, \"Value\": \"150\", \"Crop\": \"Pumpkins\"}, {\"Year\": 2018, \"Value\": \"190\", \"Crop\": \"Pumpkins\"}, {\"Year\": 2017, \"Value\": \"155\", \"Crop\": \"Pumpkins\"}, {\"Year\": 2016, \"Value\": \"155\", \"Crop\": \"Pumpkins\"}, {\"Year\": 2015, \"Value\": \"155\", \"Crop\": \"Pumpkins\"}, {\"Year\": 2014, \"Value\": \"160\", \"Crop\": \"Pumpkins\"}, {\"Year\": 2013, \"Value\": \"155\", \"Crop\": \"Pumpkins\"}, {\"Year\": 2012, \"Value\": \"150\", \"Crop\": \"Pumpkins\"}, {\"Year\": 2011, \"Value\": \"145\", \"Crop\": \"Pumpkins\"}, {\"Year\": 2010, \"Value\": \"140\", \"Crop\": \"Pumpkins\"}, {\"Year\": 2009, \"Value\": \"110\", \"Crop\": \"Pumpkins\"}, {\"Year\": 2008, \"Value\": \"145\", \"Crop\": \"Pumpkins\"}, {\"Year\": 2007, \"Value\": \"115\", \"Crop\": \"Pumpkins\"}, {\"Year\": 2006, \"Value\": \"150\", \"Crop\": \"Pumpkins\"}, {\"Year\": 2005, \"Value\": \"145\", \"Crop\": \"Pumpkins\"}, {\"Year\": 2004, \"Value\": \"140\", \"Crop\": \"Pumpkins\"}, {\"Year\": 2003, \"Value\": \"140\", \"Crop\": \"Pumpkins\"}, {\"Year\": 2002, \"Value\": \"120\", \"Crop\": \"Pumpkins\"}, {\"Year\": 2001, \"Value\": \"120\", \"Crop\": \"Pumpkins\"}, {\"Year\": 2000, \"Value\": \"160\", \"Crop\": \"Pumpkins\"}, {\"Year\": 2020, \"Value\": \"220\", \"Crop\": \"Squash\"}, {\"Year\": 2019, \"Value\": \"200\", \"Crop\": \"Squash\"}, {\"Year\": 2018, \"Value\": \"220\", \"Crop\": \"Squash\"}, {\"Year\": 2017, \"Value\": \"230\", \"Crop\": \"Squash\"}, {\"Year\": 2016, \"Value\": \"240\", \"Crop\": \"Squash\"}, {\"Year\": 2015, \"Value\": \"200\", \"Crop\": \"Squash\"}, {\"Year\": 2014, \"Value\": \"200\", \"Crop\": \"Squash\"}, {\"Year\": 2013, \"Value\": \"200\", \"Crop\": \"Squash\"}, {\"Year\": 2012, \"Value\": \"240\", \"Crop\": \"Squash\"}, {\"Year\": 2011, \"Value\": \"220\", \"Crop\": \"Squash\"}, {\"Year\": 2010, \"Value\": \"200\", \"Crop\": \"Squash\"}, {\"Year\": 2009, \"Value\": \"210\", \"Crop\": \"Squash\"}, {\"Year\": 2008, \"Value\": \"200\", \"Crop\": \"Squash\"}, {\"Year\": 2007, \"Value\": \"190\", \"Crop\": \"Squash\"}, {\"Year\": 2006, \"Value\": \"210\", \"Crop\": \"Squash\"}, {\"Year\": 2005, \"Value\": \"220\", \"Crop\": \"Squash\"}, {\"Year\": 2004, \"Value\": \"160\", \"Crop\": \"Squash\"}, {\"Year\": 2003, \"Value\": \"190\", \"Crop\": \"Squash\"}, {\"Year\": 2002, \"Value\": \"230\", \"Crop\": \"Squash\"}, {\"Year\": 2001, \"Value\": \"200\", \"Crop\": \"Squash\"}, {\"Year\": 2000, \"Value\": \"115\", \"Crop\": \"Squash\"}, {\"Year\": 2020, \"Value\": \"230\", \"Crop\": \"Peppers\"}, {\"Year\": 2019, \"Value\": \"255\", \"Crop\": \"Peppers\"}, {\"Year\": 2018, \"Value\": \"240\", \"Crop\": \"Peppers\"}, {\"Year\": 2017, \"Value\": \"255\", \"Crop\": \"Peppers\"}, {\"Year\": 2016, \"Value\": \"260\", \"Crop\": \"Peppers\"}, {\"Year\": 2015, \"Value\": \"280\", \"Crop\": \"Peppers\"}, {\"Year\": 2014, \"Value\": \"260\", \"Crop\": \"Peppers\"}, {\"Year\": 2013, \"Value\": \"250\", \"Crop\": \"Peppers\"}, {\"Year\": 2012, \"Value\": \"260\", \"Crop\": \"Peppers\"}, {\"Year\": 2011, \"Value\": \"270\", \"Crop\": \"Peppers\"}, {\"Year\": 2010, \"Value\": \"230\", \"Crop\": \"Peppers\"}, {\"Year\": 2009, \"Value\": \"240\", \"Crop\": \"Peppers\"}, {\"Year\": 2008, \"Value\": \"250\", \"Crop\": \"Peppers\"}, {\"Year\": 2007, \"Value\": \"260\", \"Crop\": \"Peppers\"}, {\"Year\": 2006, \"Value\": \"270\", \"Crop\": \"Peppers\"}, {\"Year\": 2005, \"Value\": \"280\", \"Crop\": \"Peppers\"}, {\"Year\": 2004, \"Value\": \"290\", \"Crop\": \"Peppers\"}, {\"Year\": 2003, \"Value\": \"250\", \"Crop\": \"Peppers\"}, {\"Year\": 2002, \"Value\": \"250\", \"Crop\": \"Peppers\"}, {\"Year\": 2001, \"Value\": \"260\", \"Crop\": \"Peppers\"}, {\"Year\": 2000, \"Value\": \"220\", \"Crop\": \"Peppers\"}, {\"Year\": 1999, \"Value\": \"200\", \"Crop\": \"Peppers\"}, {\"Year\": 1998, \"Value\": \"200\", \"Crop\": \"Peppers\"}, {\"Year\": 2018, \"Value\": \"580\", \"Crop\": \"Celery\"}, {\"Year\": 2017, \"Value\": \"590\", \"Crop\": \"Celery\"}, {\"Year\": 2016, \"Value\": \"600\", \"Crop\": \"Celery\"}, {\"Year\": 2015, \"Value\": \"580\", \"Crop\": \"Celery\"}, {\"Year\": 2014, \"Value\": \"580\", \"Crop\": \"Celery\"}, {\"Year\": 2013, \"Value\": \"575\", \"Crop\": \"Celery\"}, {\"Year\": 2012, \"Value\": \"565\", \"Crop\": \"Celery\"}, {\"Year\": 2011, \"Value\": \"490\", \"Crop\": \"Celery\"}, {\"Year\": 2010, \"Value\": \"525\", \"Crop\": \"Celery\"}, {\"Year\": 2009, \"Value\": \"555\", \"Crop\": \"Celery\"}, {\"Year\": 2008, \"Value\": \"525\", \"Crop\": \"Celery\"}, {\"Year\": 2007, \"Value\": \"490\", \"Crop\": \"Celery\"}, {\"Year\": 2006, \"Value\": \"530\", \"Crop\": \"Celery\"}, {\"Year\": 2005, \"Value\": \"575\", \"Crop\": \"Celery\"}, {\"Year\": 2004, \"Value\": \"560\", \"Crop\": \"Celery\"}, {\"Year\": 2003, \"Value\": \"530\", \"Crop\": \"Celery\"}, {\"Year\": 2002, \"Value\": \"470\", \"Crop\": \"Celery\"}, {\"Year\": 2001, \"Value\": \"460\", \"Crop\": \"Celery\"}, {\"Year\": 2000, \"Value\": \"500\", \"Crop\": \"Celery\"}, {\"Year\": 1999, \"Value\": \"450\", \"Crop\": \"Celery\"}, {\"Year\": 1998, \"Value\": \"470\", \"Crop\": \"Celery\"}]}}, {\"mode\": \"vega-lite\"});\n",
       "</script>"
      ],
      "text/plain": [
       "alt.Chart(...)"
      ]
     },
     "execution_count": 140,
     "metadata": {},
     "output_type": "execute_result"
    }
   ],
   "source": [
    "selectors"
   ]
  },
  {
   "cell_type": "code",
   "execution_count": 145,
   "metadata": {},
   "outputs": [],
   "source": [
    "tooltips = alt.Chart(vegetable_yield).mark_rule(strokeWidth=2,  color=\"grey\").encode(\n",
    "        x='Year:T',\n",
    "        opacity=alt.condition(hover, alt.value(1), alt.value(0)),\n",
    "    tooltip=['Value:Q','Year:N', 'Crop']\n",
    "        \n",
    "      \n",
    "    ).add_selection(hover)"
   ]
  },
  {
   "cell_type": "code",
   "execution_count": 146,
   "metadata": {},
   "outputs": [
    {
     "data": {
      "text/html": [
       "\n",
       "<div id=\"altair-viz-f94eb28d47c34a01b92337d91d9b3530\"></div>\n",
       "<script type=\"text/javascript\">\n",
       "  var VEGA_DEBUG = (typeof VEGA_DEBUG == \"undefined\") ? {} : VEGA_DEBUG;\n",
       "  (function(spec, embedOpt){\n",
       "    let outputDiv = document.currentScript.previousElementSibling;\n",
       "    if (outputDiv.id !== \"altair-viz-f94eb28d47c34a01b92337d91d9b3530\") {\n",
       "      outputDiv = document.getElementById(\"altair-viz-f94eb28d47c34a01b92337d91d9b3530\");\n",
       "    }\n",
       "    const paths = {\n",
       "      \"vega\": \"https://cdn.jsdelivr.net/npm//vega@5?noext\",\n",
       "      \"vega-lib\": \"https://cdn.jsdelivr.net/npm//vega-lib?noext\",\n",
       "      \"vega-lite\": \"https://cdn.jsdelivr.net/npm//vega-lite@4.17.0?noext\",\n",
       "      \"vega-embed\": \"https://cdn.jsdelivr.net/npm//vega-embed@6?noext\",\n",
       "    };\n",
       "\n",
       "    function maybeLoadScript(lib, version) {\n",
       "      var key = `${lib.replace(\"-\", \"\")}_version`;\n",
       "      return (VEGA_DEBUG[key] == version) ?\n",
       "        Promise.resolve(paths[lib]) :\n",
       "        new Promise(function(resolve, reject) {\n",
       "          var s = document.createElement('script');\n",
       "          document.getElementsByTagName(\"head\")[0].appendChild(s);\n",
       "          s.async = true;\n",
       "          s.onload = () => {\n",
       "            VEGA_DEBUG[key] = version;\n",
       "            return resolve(paths[lib]);\n",
       "          };\n",
       "          s.onerror = () => reject(`Error loading script: ${paths[lib]}`);\n",
       "          s.src = paths[lib];\n",
       "        });\n",
       "    }\n",
       "\n",
       "    function showError(err) {\n",
       "      outputDiv.innerHTML = `<div class=\"error\" style=\"color:red;\">${err}</div>`;\n",
       "      throw err;\n",
       "    }\n",
       "\n",
       "    function displayChart(vegaEmbed) {\n",
       "      vegaEmbed(outputDiv, spec, embedOpt)\n",
       "        .catch(err => showError(`Javascript Error: ${err.message}<br>This usually means there's a typo in your chart specification. See the javascript console for the full traceback.`));\n",
       "    }\n",
       "\n",
       "    if(typeof define === \"function\" && define.amd) {\n",
       "      requirejs.config({paths});\n",
       "      require([\"vega-embed\"], displayChart, err => showError(`Error loading script: ${err.message}`));\n",
       "    } else {\n",
       "      maybeLoadScript(\"vega\", \"5\")\n",
       "        .then(() => maybeLoadScript(\"vega-lite\", \"4.17.0\"))\n",
       "        .then(() => maybeLoadScript(\"vega-embed\", \"6\"))\n",
       "        .catch(showError)\n",
       "        .then(() => displayChart(vegaEmbed));\n",
       "    }\n",
       "  })({\"config\": {\"view\": {\"continuousWidth\": 400, \"continuousHeight\": 300}}, \"data\": {\"name\": \"data-da46abc7de517a8dd9edcd1b48f0e43c\"}, \"mark\": {\"type\": \"rule\", \"color\": \"grey\", \"strokeWidth\": 2}, \"encoding\": {\"opacity\": {\"condition\": {\"value\": 1, \"selection\": \"selector001\"}, \"value\": 0}, \"tooltip\": [{\"field\": \"Value\", \"type\": \"quantitative\"}, {\"field\": \"Year\", \"type\": \"nominal\"}, {\"field\": \"Crop\", \"type\": \"nominal\"}], \"x\": {\"field\": \"Year\", \"type\": \"temporal\"}}, \"selection\": {\"selector001\": {\"type\": \"single\", \"fields\": [\"Year\"], \"nearest\": true, \"on\": \"mouseover\", \"empty\": \"none\", \"clear\": \"mouseout\"}}, \"$schema\": \"https://vega.github.io/schema/vega-lite/v4.17.0.json\", \"datasets\": {\"data-da46abc7de517a8dd9edcd1b48f0e43c\": [{\"Year\": 2015, \"Value\": \"240\", \"Crop\": \"Carrots\"}, {\"Year\": 2014, \"Value\": \"310\", \"Crop\": \"Carrots\"}, {\"Year\": 2013, \"Value\": \"290\", \"Crop\": \"Carrots\"}, {\"Year\": 2012, \"Value\": \"280\", \"Crop\": \"Carrots\"}, {\"Year\": 2011, \"Value\": \"260\", \"Crop\": \"Carrots\"}, {\"Year\": 2010, \"Value\": \"250\", \"Crop\": \"Carrots\"}, {\"Year\": 2009, \"Value\": \"270\", \"Crop\": \"Carrots\"}, {\"Year\": 2008, \"Value\": \"290\", \"Crop\": \"Carrots\"}, {\"Year\": 2007, \"Value\": \"300\", \"Crop\": \"Carrots\"}, {\"Year\": 2006, \"Value\": \"320\", \"Crop\": \"Carrots\"}, {\"Year\": 2005, \"Value\": \"360\", \"Crop\": \"Carrots\"}, {\"Year\": 2004, \"Value\": \"310\", \"Crop\": \"Carrots\"}, {\"Year\": 2003, \"Value\": \"350\", \"Crop\": \"Carrots\"}, {\"Year\": 2002, \"Value\": \"330\", \"Crop\": \"Carrots\"}, {\"Year\": 2001, \"Value\": \"350\", \"Crop\": \"Carrots\"}, {\"Year\": 2000, \"Value\": \"280\", \"Crop\": \"Carrots\"}, {\"Year\": 1999, \"Value\": \"280\", \"Crop\": \"Carrots\"}, {\"Year\": 1998, \"Value\": \"290\", \"Crop\": \"Carrots\"}, {\"Year\": 2015, \"Value\": 5.9, \"Crop\": \"Cucumbers\"}, {\"Year\": 2014, \"Value\": 6.1, \"Crop\": \"Cucumbers\"}, {\"Year\": 2013, \"Value\": 5.8, \"Crop\": \"Cucumbers\"}, {\"Year\": 2012, \"Value\": 5.4, \"Crop\": \"Cucumbers\"}, {\"Year\": 2011, \"Value\": 5.6, \"Crop\": \"Cucumbers\"}, {\"Year\": 2010, \"Value\": 6.4, \"Crop\": \"Cucumbers\"}, {\"Year\": 2009, \"Value\": 5.8, \"Crop\": \"Cucumbers\"}, {\"Year\": 2008, \"Value\": 6.2, \"Crop\": \"Cucumbers\"}, {\"Year\": 2007, \"Value\": 5.3, \"Crop\": \"Cucumbers\"}, {\"Year\": 2006, \"Value\": 5.2, \"Crop\": \"Cucumbers\"}, {\"Year\": 2005, \"Value\": 4.8, \"Crop\": \"Cucumbers\"}, {\"Year\": 2004, \"Value\": 5.0, \"Crop\": \"Cucumbers\"}, {\"Year\": 2003, \"Value\": 5.4, \"Crop\": \"Cucumbers\"}, {\"Year\": 2002, \"Value\": 4.6, \"Crop\": \"Cucumbers\"}, {\"Year\": 2001, \"Value\": 4.25, \"Crop\": \"Cucumbers\"}, {\"Year\": 2000, \"Value\": 6.0, \"Crop\": \"Cucumbers\"}, {\"Year\": 1999, \"Value\": 6.0, \"Crop\": \"Cucumbers\"}, {\"Year\": 1998, \"Value\": 5.0, \"Crop\": \"Cucumbers\"}, {\"Year\": 2020, \"Value\": \"28\", \"Crop\": \"Asparagus\"}, {\"Year\": 2019, \"Value\": \"30\", \"Crop\": \"Asparagus\"}, {\"Year\": 2018, \"Value\": \"28\", \"Crop\": \"Asparagus\"}, {\"Year\": 2018, \"Value\": \"28\", \"Crop\": \"Asparagus\"}, {\"Year\": 2017, \"Value\": \"27\", \"Crop\": \"Asparagus\"}, {\"Year\": 2017, \"Value\": \"27\", \"Crop\": \"Asparagus\"}, {\"Year\": 2016, \"Value\": \"25\", \"Crop\": \"Asparagus\"}, {\"Year\": 2015, \"Value\": \"26\", \"Crop\": \"Asparagus\"}, {\"Year\": 2014, \"Value\": \"24\", \"Crop\": \"Asparagus\"}, {\"Year\": 2013, \"Value\": \"23\", \"Crop\": \"Asparagus\"}, {\"Year\": 2012, \"Value\": \"21\", \"Crop\": \"Asparagus\"}, {\"Year\": 2011, \"Value\": \"22\", \"Crop\": \"Asparagus\"}, {\"Year\": 2010, \"Value\": \"16\", \"Crop\": \"Asparagus\"}, {\"Year\": 2010, \"Value\": \"16\", \"Crop\": \"Asparagus\"}, {\"Year\": 2009, \"Value\": \"22\", \"Crop\": \"Asparagus\"}, {\"Year\": 2008, \"Value\": \"23\", \"Crop\": \"Asparagus\"}, {\"Year\": 2007, \"Value\": \"21\", \"Crop\": \"Asparagus\"}, {\"Year\": 2006, \"Value\": \"22\", \"Crop\": \"Asparagus\"}, {\"Year\": 2005, \"Value\": \"19\", \"Crop\": \"Asparagus\"}, {\"Year\": 2004, \"Value\": \"20\", \"Crop\": \"Asparagus\"}, {\"Year\": 2003, \"Value\": \"21\", \"Crop\": \"Asparagus\"}, {\"Year\": 2002, \"Value\": \"15\", \"Crop\": \"Asparagus\"}, {\"Year\": 2001, \"Value\": \"20\", \"Crop\": \"Asparagus\"}, {\"Year\": 2000, \"Value\": \"17\", \"Crop\": \"Asparagus\"}, {\"Year\": 1999, \"Value\": \"18\", \"Crop\": \"Asparagus\"}, {\"Year\": 1998, \"Value\": \"16\", \"Crop\": \"Asparagus\"}, {\"Year\": 2015, \"Value\": \"300\", \"Crop\": \"Tomatoes\"}, {\"Year\": 2014, \"Value\": \"245\", \"Crop\": \"Tomatoes\"}, {\"Year\": 2013, \"Value\": \"240\", \"Crop\": \"Tomatoes\"}, {\"Year\": 2012, \"Value\": \"200\", \"Crop\": \"Tomatoes\"}, {\"Year\": 2011, \"Value\": \"220\", \"Crop\": \"Tomatoes\"}, {\"Year\": 2010, \"Value\": \"200\", \"Crop\": \"Tomatoes\"}, {\"Year\": 2009, \"Value\": \"300\", \"Crop\": \"Tomatoes\"}, {\"Year\": 2008, \"Value\": \"260\", \"Crop\": \"Tomatoes\"}, {\"Year\": 2007, \"Value\": \"230\", \"Crop\": \"Tomatoes\"}, {\"Year\": 2006, \"Value\": \"230\", \"Crop\": \"Tomatoes\"}, {\"Year\": 2005, \"Value\": \"220\", \"Crop\": \"Tomatoes\"}, {\"Year\": 2004, \"Value\": \"260\", \"Crop\": \"Tomatoes\"}, {\"Year\": 2003, \"Value\": \"220\", \"Crop\": \"Tomatoes\"}, {\"Year\": 2002, \"Value\": \"210\", \"Crop\": \"Tomatoes\"}, {\"Year\": 2001, \"Value\": \"210\", \"Crop\": \"Tomatoes\"}, {\"Year\": 2000, \"Value\": \"170\", \"Crop\": \"Tomatoes\"}, {\"Year\": 1999, \"Value\": \"190\", \"Crop\": \"Tomatoes\"}, {\"Year\": 1998, \"Value\": \"210\", \"Crop\": \"Tomatoes\"}, {\"Year\": 2015, \"Value\": \"330\", \"Crop\": \"Onions\"}, {\"Year\": 2014, \"Value\": \"370\", \"Crop\": \"Onions\"}, {\"Year\": 2013, \"Value\": \"300\", \"Crop\": \"Onions\"}, {\"Year\": 2012, \"Value\": \"230\", \"Crop\": \"Onions\"}, {\"Year\": 2011, \"Value\": \"240\", \"Crop\": \"Onions\"}, {\"Year\": 2010, \"Value\": \"220\", \"Crop\": \"Onions\"}, {\"Year\": 2009, \"Value\": \"350\", \"Crop\": \"Onions\"}, {\"Year\": 2008, \"Value\": \"280\", \"Crop\": \"Onions\"}, {\"Year\": 2007, \"Value\": \"260\", \"Crop\": \"Onions\"}, {\"Year\": 2006, \"Value\": \"250\", \"Crop\": \"Onions\"}, {\"Year\": 2005, \"Value\": \"260\", \"Crop\": \"Onions\"}, {\"Year\": 2004, \"Value\": \"290\", \"Crop\": \"Onions\"}, {\"Year\": 2003, \"Value\": \"320\", \"Crop\": \"Onions\"}, {\"Year\": 2002, \"Value\": \"230\", \"Crop\": \"Onions\"}, {\"Year\": 2001, \"Value\": \"270\", \"Crop\": \"Onions\"}, {\"Year\": 2000, \"Value\": \"270\", \"Crop\": \"Onions\"}, {\"Year\": 1999, \"Value\": \"270\", \"Crop\": \"Onions\"}, {\"Year\": 1998, \"Value\": \"260\", \"Crop\": \"Onions\"}, {\"Year\": 2015, \"Value\": \"290\", \"Crop\": \"Cabbage\"}, {\"Year\": 2014, \"Value\": \"270\", \"Crop\": \"Cabbage\"}, {\"Year\": 2013, \"Value\": \"230\", \"Crop\": \"Cabbage\"}, {\"Year\": 2012, \"Value\": \"250\", \"Crop\": \"Cabbage\"}, {\"Year\": 2011, \"Value\": \"230\", \"Crop\": \"Cabbage\"}, {\"Year\": 2010, \"Value\": \"280\", \"Crop\": \"Cabbage\"}, {\"Year\": 2009, \"Value\": \"260\", \"Crop\": \"Cabbage\"}, {\"Year\": 2008, \"Value\": \"280\", \"Crop\": \"Cabbage\"}, {\"Year\": 2007, \"Value\": \"320\", \"Crop\": \"Cabbage\"}, {\"Year\": 2006, \"Value\": \"340\", \"Crop\": \"Cabbage\"}, {\"Year\": 2005, \"Value\": \"360\", \"Crop\": \"Cabbage\"}, {\"Year\": 2004, \"Value\": \"270\", \"Crop\": \"Cabbage\"}, {\"Year\": 2003, \"Value\": \"320\", \"Crop\": \"Cabbage\"}, {\"Year\": 2002, \"Value\": \"300\", \"Crop\": \"Cabbage\"}, {\"Year\": 2001, \"Value\": \"320\", \"Crop\": \"Cabbage\"}, {\"Year\": 2000, \"Value\": \"250\", \"Crop\": \"Cabbage\"}, {\"Year\": 1999, \"Value\": \"280\", \"Crop\": \"Cabbage\"}, {\"Year\": 1998, \"Value\": \"260\", \"Crop\": \"Cabbage\"}, {\"Year\": 2020, \"Value\": \"160\", \"Crop\": \"Pumpkins\"}, {\"Year\": 2019, \"Value\": \"150\", \"Crop\": \"Pumpkins\"}, {\"Year\": 2018, \"Value\": \"190\", \"Crop\": \"Pumpkins\"}, {\"Year\": 2017, \"Value\": \"155\", \"Crop\": \"Pumpkins\"}, {\"Year\": 2016, \"Value\": \"155\", \"Crop\": \"Pumpkins\"}, {\"Year\": 2015, \"Value\": \"155\", \"Crop\": \"Pumpkins\"}, {\"Year\": 2014, \"Value\": \"160\", \"Crop\": \"Pumpkins\"}, {\"Year\": 2013, \"Value\": \"155\", \"Crop\": \"Pumpkins\"}, {\"Year\": 2012, \"Value\": \"150\", \"Crop\": \"Pumpkins\"}, {\"Year\": 2011, \"Value\": \"145\", \"Crop\": \"Pumpkins\"}, {\"Year\": 2010, \"Value\": \"140\", \"Crop\": \"Pumpkins\"}, {\"Year\": 2009, \"Value\": \"110\", \"Crop\": \"Pumpkins\"}, {\"Year\": 2008, \"Value\": \"145\", \"Crop\": \"Pumpkins\"}, {\"Year\": 2007, \"Value\": \"115\", \"Crop\": \"Pumpkins\"}, {\"Year\": 2006, \"Value\": \"150\", \"Crop\": \"Pumpkins\"}, {\"Year\": 2005, \"Value\": \"145\", \"Crop\": \"Pumpkins\"}, {\"Year\": 2004, \"Value\": \"140\", \"Crop\": \"Pumpkins\"}, {\"Year\": 2003, \"Value\": \"140\", \"Crop\": \"Pumpkins\"}, {\"Year\": 2002, \"Value\": \"120\", \"Crop\": \"Pumpkins\"}, {\"Year\": 2001, \"Value\": \"120\", \"Crop\": \"Pumpkins\"}, {\"Year\": 2000, \"Value\": \"160\", \"Crop\": \"Pumpkins\"}, {\"Year\": 2020, \"Value\": \"220\", \"Crop\": \"Squash\"}, {\"Year\": 2019, \"Value\": \"200\", \"Crop\": \"Squash\"}, {\"Year\": 2018, \"Value\": \"220\", \"Crop\": \"Squash\"}, {\"Year\": 2017, \"Value\": \"230\", \"Crop\": \"Squash\"}, {\"Year\": 2016, \"Value\": \"240\", \"Crop\": \"Squash\"}, {\"Year\": 2015, \"Value\": \"200\", \"Crop\": \"Squash\"}, {\"Year\": 2014, \"Value\": \"200\", \"Crop\": \"Squash\"}, {\"Year\": 2013, \"Value\": \"200\", \"Crop\": \"Squash\"}, {\"Year\": 2012, \"Value\": \"240\", \"Crop\": \"Squash\"}, {\"Year\": 2011, \"Value\": \"220\", \"Crop\": \"Squash\"}, {\"Year\": 2010, \"Value\": \"200\", \"Crop\": \"Squash\"}, {\"Year\": 2009, \"Value\": \"210\", \"Crop\": \"Squash\"}, {\"Year\": 2008, \"Value\": \"200\", \"Crop\": \"Squash\"}, {\"Year\": 2007, \"Value\": \"190\", \"Crop\": \"Squash\"}, {\"Year\": 2006, \"Value\": \"210\", \"Crop\": \"Squash\"}, {\"Year\": 2005, \"Value\": \"220\", \"Crop\": \"Squash\"}, {\"Year\": 2004, \"Value\": \"160\", \"Crop\": \"Squash\"}, {\"Year\": 2003, \"Value\": \"190\", \"Crop\": \"Squash\"}, {\"Year\": 2002, \"Value\": \"230\", \"Crop\": \"Squash\"}, {\"Year\": 2001, \"Value\": \"200\", \"Crop\": \"Squash\"}, {\"Year\": 2000, \"Value\": \"115\", \"Crop\": \"Squash\"}, {\"Year\": 2020, \"Value\": \"230\", \"Crop\": \"Peppers\"}, {\"Year\": 2019, \"Value\": \"255\", \"Crop\": \"Peppers\"}, {\"Year\": 2018, \"Value\": \"240\", \"Crop\": \"Peppers\"}, {\"Year\": 2017, \"Value\": \"255\", \"Crop\": \"Peppers\"}, {\"Year\": 2016, \"Value\": \"260\", \"Crop\": \"Peppers\"}, {\"Year\": 2015, \"Value\": \"280\", \"Crop\": \"Peppers\"}, {\"Year\": 2014, \"Value\": \"260\", \"Crop\": \"Peppers\"}, {\"Year\": 2013, \"Value\": \"250\", \"Crop\": \"Peppers\"}, {\"Year\": 2012, \"Value\": \"260\", \"Crop\": \"Peppers\"}, {\"Year\": 2011, \"Value\": \"270\", \"Crop\": \"Peppers\"}, {\"Year\": 2010, \"Value\": \"230\", \"Crop\": \"Peppers\"}, {\"Year\": 2009, \"Value\": \"240\", \"Crop\": \"Peppers\"}, {\"Year\": 2008, \"Value\": \"250\", \"Crop\": \"Peppers\"}, {\"Year\": 2007, \"Value\": \"260\", \"Crop\": \"Peppers\"}, {\"Year\": 2006, \"Value\": \"270\", \"Crop\": \"Peppers\"}, {\"Year\": 2005, \"Value\": \"280\", \"Crop\": \"Peppers\"}, {\"Year\": 2004, \"Value\": \"290\", \"Crop\": \"Peppers\"}, {\"Year\": 2003, \"Value\": \"250\", \"Crop\": \"Peppers\"}, {\"Year\": 2002, \"Value\": \"250\", \"Crop\": \"Peppers\"}, {\"Year\": 2001, \"Value\": \"260\", \"Crop\": \"Peppers\"}, {\"Year\": 2000, \"Value\": \"220\", \"Crop\": \"Peppers\"}, {\"Year\": 1999, \"Value\": \"200\", \"Crop\": \"Peppers\"}, {\"Year\": 1998, \"Value\": \"200\", \"Crop\": \"Peppers\"}, {\"Year\": 2018, \"Value\": \"580\", \"Crop\": \"Celery\"}, {\"Year\": 2017, \"Value\": \"590\", \"Crop\": \"Celery\"}, {\"Year\": 2016, \"Value\": \"600\", \"Crop\": \"Celery\"}, {\"Year\": 2015, \"Value\": \"580\", \"Crop\": \"Celery\"}, {\"Year\": 2014, \"Value\": \"580\", \"Crop\": \"Celery\"}, {\"Year\": 2013, \"Value\": \"575\", \"Crop\": \"Celery\"}, {\"Year\": 2012, \"Value\": \"565\", \"Crop\": \"Celery\"}, {\"Year\": 2011, \"Value\": \"490\", \"Crop\": \"Celery\"}, {\"Year\": 2010, \"Value\": \"525\", \"Crop\": \"Celery\"}, {\"Year\": 2009, \"Value\": \"555\", \"Crop\": \"Celery\"}, {\"Year\": 2008, \"Value\": \"525\", \"Crop\": \"Celery\"}, {\"Year\": 2007, \"Value\": \"490\", \"Crop\": \"Celery\"}, {\"Year\": 2006, \"Value\": \"530\", \"Crop\": \"Celery\"}, {\"Year\": 2005, \"Value\": \"575\", \"Crop\": \"Celery\"}, {\"Year\": 2004, \"Value\": \"560\", \"Crop\": \"Celery\"}, {\"Year\": 2003, \"Value\": \"530\", \"Crop\": \"Celery\"}, {\"Year\": 2002, \"Value\": \"470\", \"Crop\": \"Celery\"}, {\"Year\": 2001, \"Value\": \"460\", \"Crop\": \"Celery\"}, {\"Year\": 2000, \"Value\": \"500\", \"Crop\": \"Celery\"}, {\"Year\": 1999, \"Value\": \"450\", \"Crop\": \"Celery\"}, {\"Year\": 1998, \"Value\": \"470\", \"Crop\": \"Celery\"}]}}, {\"mode\": \"vega-lite\"});\n",
       "</script>"
      ],
      "text/plain": [
       "alt.Chart(...)"
      ]
     },
     "execution_count": 146,
     "metadata": {},
     "output_type": "execute_result"
    }
   ],
   "source": [
    "tooltips"
   ]
  },
  {
   "cell_type": "code",
   "execution_count": 147,
   "metadata": {},
   "outputs": [
    {
     "data": {
      "text/html": [
       "\n",
       "<div id=\"altair-viz-e15ea6f9036a413eae0b07573ba3adcd\"></div>\n",
       "<script type=\"text/javascript\">\n",
       "  var VEGA_DEBUG = (typeof VEGA_DEBUG == \"undefined\") ? {} : VEGA_DEBUG;\n",
       "  (function(spec, embedOpt){\n",
       "    let outputDiv = document.currentScript.previousElementSibling;\n",
       "    if (outputDiv.id !== \"altair-viz-e15ea6f9036a413eae0b07573ba3adcd\") {\n",
       "      outputDiv = document.getElementById(\"altair-viz-e15ea6f9036a413eae0b07573ba3adcd\");\n",
       "    }\n",
       "    const paths = {\n",
       "      \"vega\": \"https://cdn.jsdelivr.net/npm//vega@5?noext\",\n",
       "      \"vega-lib\": \"https://cdn.jsdelivr.net/npm//vega-lib?noext\",\n",
       "      \"vega-lite\": \"https://cdn.jsdelivr.net/npm//vega-lite@4.17.0?noext\",\n",
       "      \"vega-embed\": \"https://cdn.jsdelivr.net/npm//vega-embed@6?noext\",\n",
       "    };\n",
       "\n",
       "    function maybeLoadScript(lib, version) {\n",
       "      var key = `${lib.replace(\"-\", \"\")}_version`;\n",
       "      return (VEGA_DEBUG[key] == version) ?\n",
       "        Promise.resolve(paths[lib]) :\n",
       "        new Promise(function(resolve, reject) {\n",
       "          var s = document.createElement('script');\n",
       "          document.getElementsByTagName(\"head\")[0].appendChild(s);\n",
       "          s.async = true;\n",
       "          s.onload = () => {\n",
       "            VEGA_DEBUG[key] = version;\n",
       "            return resolve(paths[lib]);\n",
       "          };\n",
       "          s.onerror = () => reject(`Error loading script: ${paths[lib]}`);\n",
       "          s.src = paths[lib];\n",
       "        });\n",
       "    }\n",
       "\n",
       "    function showError(err) {\n",
       "      outputDiv.innerHTML = `<div class=\"error\" style=\"color:red;\">${err}</div>`;\n",
       "      throw err;\n",
       "    }\n",
       "\n",
       "    function displayChart(vegaEmbed) {\n",
       "      vegaEmbed(outputDiv, spec, embedOpt)\n",
       "        .catch(err => showError(`Javascript Error: ${err.message}<br>This usually means there's a typo in your chart specification. See the javascript console for the full traceback.`));\n",
       "    }\n",
       "\n",
       "    if(typeof define === \"function\" && define.amd) {\n",
       "      requirejs.config({paths});\n",
       "      require([\"vega-embed\"], displayChart, err => showError(`Error loading script: ${err.message}`));\n",
       "    } else {\n",
       "      maybeLoadScript(\"vega\", \"5\")\n",
       "        .then(() => maybeLoadScript(\"vega-lite\", \"4.17.0\"))\n",
       "        .then(() => maybeLoadScript(\"vega-embed\", \"6\"))\n",
       "        .catch(showError)\n",
       "        .then(() => displayChart(vegaEmbed));\n",
       "    }\n",
       "  })({\"config\": {\"view\": {\"continuousWidth\": 400, \"continuousHeight\": 300}}, \"layer\": [{\"mark\": \"line\", \"encoding\": {\"color\": {\"field\": \"Crop\", \"type\": \"nominal\"}, \"opacity\": {\"condition\": {\"value\": 1.0, \"selection\": \"Crop\"}, \"value\": 0.0}, \"strokeDash\": {\"field\": \"Crop\", \"type\": \"nominal\"}, \"x\": {\"field\": \"Year\", \"type\": \"nominal\"}, \"y\": {\"field\": \"Value\", \"title\": \"Yield (CWT/ACRE)\", \"type\": \"quantitative\"}}, \"selection\": {\"Crop\": {\"type\": \"single\", \"fields\": [\"Crop\"], \"init\": {\"Crop\": \"Asparagus\"}, \"bind\": {\"input\": \"radio\", \"options\": [\"Asparagus\", \"Cabbage\", \"Carrots\", \"Celery\", \"Cucumbers\", \"Onions\", \"Peppers\", \"Pumpkins\", \"Squash\", \"Tomatoes\"], \"name\": \"Crop\"}}}}, {\"mark\": {\"type\": \"rule\", \"color\": \"grey\", \"strokeWidth\": 2}, \"encoding\": {\"opacity\": {\"condition\": {\"value\": 1, \"selection\": \"selector001\"}, \"value\": 0}, \"tooltip\": [{\"field\": \"Value\", \"type\": \"quantitative\"}, {\"field\": \"Year\", \"type\": \"nominal\"}, {\"field\": \"Crop\", \"type\": \"nominal\"}], \"x\": {\"field\": \"Year\", \"type\": \"temporal\"}}, \"selection\": {\"selector001\": {\"type\": \"single\", \"fields\": [\"Year\"], \"nearest\": true, \"on\": \"mouseover\", \"empty\": \"none\", \"clear\": \"mouseout\"}}}, {\"mark\": {\"type\": \"point\", \"color\": \"grey\", \"filled\": true, \"size\": 100}, \"encoding\": {\"color\": {\"field\": \"Crop\", \"type\": \"nominal\"}, \"opacity\": {\"condition\": {\"value\": 1, \"selection\": \"selector001\"}, \"value\": 0}, \"strokeDash\": {\"field\": \"Crop\", \"type\": \"nominal\"}, \"x\": {\"field\": \"Year\", \"type\": \"quantitative\"}, \"y\": {\"field\": \"Value\", \"title\": \"Yield (CWT/ACRE)\", \"type\": \"quantitative\"}}}], \"data\": {\"name\": \"data-da46abc7de517a8dd9edcd1b48f0e43c\"}, \"$schema\": \"https://vega.github.io/schema/vega-lite/v4.17.0.json\", \"datasets\": {\"data-da46abc7de517a8dd9edcd1b48f0e43c\": [{\"Year\": 2015, \"Value\": \"240\", \"Crop\": \"Carrots\"}, {\"Year\": 2014, \"Value\": \"310\", \"Crop\": \"Carrots\"}, {\"Year\": 2013, \"Value\": \"290\", \"Crop\": \"Carrots\"}, {\"Year\": 2012, \"Value\": \"280\", \"Crop\": \"Carrots\"}, {\"Year\": 2011, \"Value\": \"260\", \"Crop\": \"Carrots\"}, {\"Year\": 2010, \"Value\": \"250\", \"Crop\": \"Carrots\"}, {\"Year\": 2009, \"Value\": \"270\", \"Crop\": \"Carrots\"}, {\"Year\": 2008, \"Value\": \"290\", \"Crop\": \"Carrots\"}, {\"Year\": 2007, \"Value\": \"300\", \"Crop\": \"Carrots\"}, {\"Year\": 2006, \"Value\": \"320\", \"Crop\": \"Carrots\"}, {\"Year\": 2005, \"Value\": \"360\", \"Crop\": \"Carrots\"}, {\"Year\": 2004, \"Value\": \"310\", \"Crop\": \"Carrots\"}, {\"Year\": 2003, \"Value\": \"350\", \"Crop\": \"Carrots\"}, {\"Year\": 2002, \"Value\": \"330\", \"Crop\": \"Carrots\"}, {\"Year\": 2001, \"Value\": \"350\", \"Crop\": \"Carrots\"}, {\"Year\": 2000, \"Value\": \"280\", \"Crop\": \"Carrots\"}, {\"Year\": 1999, \"Value\": \"280\", \"Crop\": \"Carrots\"}, {\"Year\": 1998, \"Value\": \"290\", \"Crop\": \"Carrots\"}, {\"Year\": 2015, \"Value\": 5.9, \"Crop\": \"Cucumbers\"}, {\"Year\": 2014, \"Value\": 6.1, \"Crop\": \"Cucumbers\"}, {\"Year\": 2013, \"Value\": 5.8, \"Crop\": \"Cucumbers\"}, {\"Year\": 2012, \"Value\": 5.4, \"Crop\": \"Cucumbers\"}, {\"Year\": 2011, \"Value\": 5.6, \"Crop\": \"Cucumbers\"}, {\"Year\": 2010, \"Value\": 6.4, \"Crop\": \"Cucumbers\"}, {\"Year\": 2009, \"Value\": 5.8, \"Crop\": \"Cucumbers\"}, {\"Year\": 2008, \"Value\": 6.2, \"Crop\": \"Cucumbers\"}, {\"Year\": 2007, \"Value\": 5.3, \"Crop\": \"Cucumbers\"}, {\"Year\": 2006, \"Value\": 5.2, \"Crop\": \"Cucumbers\"}, {\"Year\": 2005, \"Value\": 4.8, \"Crop\": \"Cucumbers\"}, {\"Year\": 2004, \"Value\": 5.0, \"Crop\": \"Cucumbers\"}, {\"Year\": 2003, \"Value\": 5.4, \"Crop\": \"Cucumbers\"}, {\"Year\": 2002, \"Value\": 4.6, \"Crop\": \"Cucumbers\"}, {\"Year\": 2001, \"Value\": 4.25, \"Crop\": \"Cucumbers\"}, {\"Year\": 2000, \"Value\": 6.0, \"Crop\": \"Cucumbers\"}, {\"Year\": 1999, \"Value\": 6.0, \"Crop\": \"Cucumbers\"}, {\"Year\": 1998, \"Value\": 5.0, \"Crop\": \"Cucumbers\"}, {\"Year\": 2020, \"Value\": \"28\", \"Crop\": \"Asparagus\"}, {\"Year\": 2019, \"Value\": \"30\", \"Crop\": \"Asparagus\"}, {\"Year\": 2018, \"Value\": \"28\", \"Crop\": \"Asparagus\"}, {\"Year\": 2018, \"Value\": \"28\", \"Crop\": \"Asparagus\"}, {\"Year\": 2017, \"Value\": \"27\", \"Crop\": \"Asparagus\"}, {\"Year\": 2017, \"Value\": \"27\", \"Crop\": \"Asparagus\"}, {\"Year\": 2016, \"Value\": \"25\", \"Crop\": \"Asparagus\"}, {\"Year\": 2015, \"Value\": \"26\", \"Crop\": \"Asparagus\"}, {\"Year\": 2014, \"Value\": \"24\", \"Crop\": \"Asparagus\"}, {\"Year\": 2013, \"Value\": \"23\", \"Crop\": \"Asparagus\"}, {\"Year\": 2012, \"Value\": \"21\", \"Crop\": \"Asparagus\"}, {\"Year\": 2011, \"Value\": \"22\", \"Crop\": \"Asparagus\"}, {\"Year\": 2010, \"Value\": \"16\", \"Crop\": \"Asparagus\"}, {\"Year\": 2010, \"Value\": \"16\", \"Crop\": \"Asparagus\"}, {\"Year\": 2009, \"Value\": \"22\", \"Crop\": \"Asparagus\"}, {\"Year\": 2008, \"Value\": \"23\", \"Crop\": \"Asparagus\"}, {\"Year\": 2007, \"Value\": \"21\", \"Crop\": \"Asparagus\"}, {\"Year\": 2006, \"Value\": \"22\", \"Crop\": \"Asparagus\"}, {\"Year\": 2005, \"Value\": \"19\", \"Crop\": \"Asparagus\"}, {\"Year\": 2004, \"Value\": \"20\", \"Crop\": \"Asparagus\"}, {\"Year\": 2003, \"Value\": \"21\", \"Crop\": \"Asparagus\"}, {\"Year\": 2002, \"Value\": \"15\", \"Crop\": \"Asparagus\"}, {\"Year\": 2001, \"Value\": \"20\", \"Crop\": \"Asparagus\"}, {\"Year\": 2000, \"Value\": \"17\", \"Crop\": \"Asparagus\"}, {\"Year\": 1999, \"Value\": \"18\", \"Crop\": \"Asparagus\"}, {\"Year\": 1998, \"Value\": \"16\", \"Crop\": \"Asparagus\"}, {\"Year\": 2015, \"Value\": \"300\", \"Crop\": \"Tomatoes\"}, {\"Year\": 2014, \"Value\": \"245\", \"Crop\": \"Tomatoes\"}, {\"Year\": 2013, \"Value\": \"240\", \"Crop\": \"Tomatoes\"}, {\"Year\": 2012, \"Value\": \"200\", \"Crop\": \"Tomatoes\"}, {\"Year\": 2011, \"Value\": \"220\", \"Crop\": \"Tomatoes\"}, {\"Year\": 2010, \"Value\": \"200\", \"Crop\": \"Tomatoes\"}, {\"Year\": 2009, \"Value\": \"300\", \"Crop\": \"Tomatoes\"}, {\"Year\": 2008, \"Value\": \"260\", \"Crop\": \"Tomatoes\"}, {\"Year\": 2007, \"Value\": \"230\", \"Crop\": \"Tomatoes\"}, {\"Year\": 2006, \"Value\": \"230\", \"Crop\": \"Tomatoes\"}, {\"Year\": 2005, \"Value\": \"220\", \"Crop\": \"Tomatoes\"}, {\"Year\": 2004, \"Value\": \"260\", \"Crop\": \"Tomatoes\"}, {\"Year\": 2003, \"Value\": \"220\", \"Crop\": \"Tomatoes\"}, {\"Year\": 2002, \"Value\": \"210\", \"Crop\": \"Tomatoes\"}, {\"Year\": 2001, \"Value\": \"210\", \"Crop\": \"Tomatoes\"}, {\"Year\": 2000, \"Value\": \"170\", \"Crop\": \"Tomatoes\"}, {\"Year\": 1999, \"Value\": \"190\", \"Crop\": \"Tomatoes\"}, {\"Year\": 1998, \"Value\": \"210\", \"Crop\": \"Tomatoes\"}, {\"Year\": 2015, \"Value\": \"330\", \"Crop\": \"Onions\"}, {\"Year\": 2014, \"Value\": \"370\", \"Crop\": \"Onions\"}, {\"Year\": 2013, \"Value\": \"300\", \"Crop\": \"Onions\"}, {\"Year\": 2012, \"Value\": \"230\", \"Crop\": \"Onions\"}, {\"Year\": 2011, \"Value\": \"240\", \"Crop\": \"Onions\"}, {\"Year\": 2010, \"Value\": \"220\", \"Crop\": \"Onions\"}, {\"Year\": 2009, \"Value\": \"350\", \"Crop\": \"Onions\"}, {\"Year\": 2008, \"Value\": \"280\", \"Crop\": \"Onions\"}, {\"Year\": 2007, \"Value\": \"260\", \"Crop\": \"Onions\"}, {\"Year\": 2006, \"Value\": \"250\", \"Crop\": \"Onions\"}, {\"Year\": 2005, \"Value\": \"260\", \"Crop\": \"Onions\"}, {\"Year\": 2004, \"Value\": \"290\", \"Crop\": \"Onions\"}, {\"Year\": 2003, \"Value\": \"320\", \"Crop\": \"Onions\"}, {\"Year\": 2002, \"Value\": \"230\", \"Crop\": \"Onions\"}, {\"Year\": 2001, \"Value\": \"270\", \"Crop\": \"Onions\"}, {\"Year\": 2000, \"Value\": \"270\", \"Crop\": \"Onions\"}, {\"Year\": 1999, \"Value\": \"270\", \"Crop\": \"Onions\"}, {\"Year\": 1998, \"Value\": \"260\", \"Crop\": \"Onions\"}, {\"Year\": 2015, \"Value\": \"290\", \"Crop\": \"Cabbage\"}, {\"Year\": 2014, \"Value\": \"270\", \"Crop\": \"Cabbage\"}, {\"Year\": 2013, \"Value\": \"230\", \"Crop\": \"Cabbage\"}, {\"Year\": 2012, \"Value\": \"250\", \"Crop\": \"Cabbage\"}, {\"Year\": 2011, \"Value\": \"230\", \"Crop\": \"Cabbage\"}, {\"Year\": 2010, \"Value\": \"280\", \"Crop\": \"Cabbage\"}, {\"Year\": 2009, \"Value\": \"260\", \"Crop\": \"Cabbage\"}, {\"Year\": 2008, \"Value\": \"280\", \"Crop\": \"Cabbage\"}, {\"Year\": 2007, \"Value\": \"320\", \"Crop\": \"Cabbage\"}, {\"Year\": 2006, \"Value\": \"340\", \"Crop\": \"Cabbage\"}, {\"Year\": 2005, \"Value\": \"360\", \"Crop\": \"Cabbage\"}, {\"Year\": 2004, \"Value\": \"270\", \"Crop\": \"Cabbage\"}, {\"Year\": 2003, \"Value\": \"320\", \"Crop\": \"Cabbage\"}, {\"Year\": 2002, \"Value\": \"300\", \"Crop\": \"Cabbage\"}, {\"Year\": 2001, \"Value\": \"320\", \"Crop\": \"Cabbage\"}, {\"Year\": 2000, \"Value\": \"250\", \"Crop\": \"Cabbage\"}, {\"Year\": 1999, \"Value\": \"280\", \"Crop\": \"Cabbage\"}, {\"Year\": 1998, \"Value\": \"260\", \"Crop\": \"Cabbage\"}, {\"Year\": 2020, \"Value\": \"160\", \"Crop\": \"Pumpkins\"}, {\"Year\": 2019, \"Value\": \"150\", \"Crop\": \"Pumpkins\"}, {\"Year\": 2018, \"Value\": \"190\", \"Crop\": \"Pumpkins\"}, {\"Year\": 2017, \"Value\": \"155\", \"Crop\": \"Pumpkins\"}, {\"Year\": 2016, \"Value\": \"155\", \"Crop\": \"Pumpkins\"}, {\"Year\": 2015, \"Value\": \"155\", \"Crop\": \"Pumpkins\"}, {\"Year\": 2014, \"Value\": \"160\", \"Crop\": \"Pumpkins\"}, {\"Year\": 2013, \"Value\": \"155\", \"Crop\": \"Pumpkins\"}, {\"Year\": 2012, \"Value\": \"150\", \"Crop\": \"Pumpkins\"}, {\"Year\": 2011, \"Value\": \"145\", \"Crop\": \"Pumpkins\"}, {\"Year\": 2010, \"Value\": \"140\", \"Crop\": \"Pumpkins\"}, {\"Year\": 2009, \"Value\": \"110\", \"Crop\": \"Pumpkins\"}, {\"Year\": 2008, \"Value\": \"145\", \"Crop\": \"Pumpkins\"}, {\"Year\": 2007, \"Value\": \"115\", \"Crop\": \"Pumpkins\"}, {\"Year\": 2006, \"Value\": \"150\", \"Crop\": \"Pumpkins\"}, {\"Year\": 2005, \"Value\": \"145\", \"Crop\": \"Pumpkins\"}, {\"Year\": 2004, \"Value\": \"140\", \"Crop\": \"Pumpkins\"}, {\"Year\": 2003, \"Value\": \"140\", \"Crop\": \"Pumpkins\"}, {\"Year\": 2002, \"Value\": \"120\", \"Crop\": \"Pumpkins\"}, {\"Year\": 2001, \"Value\": \"120\", \"Crop\": \"Pumpkins\"}, {\"Year\": 2000, \"Value\": \"160\", \"Crop\": \"Pumpkins\"}, {\"Year\": 2020, \"Value\": \"220\", \"Crop\": \"Squash\"}, {\"Year\": 2019, \"Value\": \"200\", \"Crop\": \"Squash\"}, {\"Year\": 2018, \"Value\": \"220\", \"Crop\": \"Squash\"}, {\"Year\": 2017, \"Value\": \"230\", \"Crop\": \"Squash\"}, {\"Year\": 2016, \"Value\": \"240\", \"Crop\": \"Squash\"}, {\"Year\": 2015, \"Value\": \"200\", \"Crop\": \"Squash\"}, {\"Year\": 2014, \"Value\": \"200\", \"Crop\": \"Squash\"}, {\"Year\": 2013, \"Value\": \"200\", \"Crop\": \"Squash\"}, {\"Year\": 2012, \"Value\": \"240\", \"Crop\": \"Squash\"}, {\"Year\": 2011, \"Value\": \"220\", \"Crop\": \"Squash\"}, {\"Year\": 2010, \"Value\": \"200\", \"Crop\": \"Squash\"}, {\"Year\": 2009, \"Value\": \"210\", \"Crop\": \"Squash\"}, {\"Year\": 2008, \"Value\": \"200\", \"Crop\": \"Squash\"}, {\"Year\": 2007, \"Value\": \"190\", \"Crop\": \"Squash\"}, {\"Year\": 2006, \"Value\": \"210\", \"Crop\": \"Squash\"}, {\"Year\": 2005, \"Value\": \"220\", \"Crop\": \"Squash\"}, {\"Year\": 2004, \"Value\": \"160\", \"Crop\": \"Squash\"}, {\"Year\": 2003, \"Value\": \"190\", \"Crop\": \"Squash\"}, {\"Year\": 2002, \"Value\": \"230\", \"Crop\": \"Squash\"}, {\"Year\": 2001, \"Value\": \"200\", \"Crop\": \"Squash\"}, {\"Year\": 2000, \"Value\": \"115\", \"Crop\": \"Squash\"}, {\"Year\": 2020, \"Value\": \"230\", \"Crop\": \"Peppers\"}, {\"Year\": 2019, \"Value\": \"255\", \"Crop\": \"Peppers\"}, {\"Year\": 2018, \"Value\": \"240\", \"Crop\": \"Peppers\"}, {\"Year\": 2017, \"Value\": \"255\", \"Crop\": \"Peppers\"}, {\"Year\": 2016, \"Value\": \"260\", \"Crop\": \"Peppers\"}, {\"Year\": 2015, \"Value\": \"280\", \"Crop\": \"Peppers\"}, {\"Year\": 2014, \"Value\": \"260\", \"Crop\": \"Peppers\"}, {\"Year\": 2013, \"Value\": \"250\", \"Crop\": \"Peppers\"}, {\"Year\": 2012, \"Value\": \"260\", \"Crop\": \"Peppers\"}, {\"Year\": 2011, \"Value\": \"270\", \"Crop\": \"Peppers\"}, {\"Year\": 2010, \"Value\": \"230\", \"Crop\": \"Peppers\"}, {\"Year\": 2009, \"Value\": \"240\", \"Crop\": \"Peppers\"}, {\"Year\": 2008, \"Value\": \"250\", \"Crop\": \"Peppers\"}, {\"Year\": 2007, \"Value\": \"260\", \"Crop\": \"Peppers\"}, {\"Year\": 2006, \"Value\": \"270\", \"Crop\": \"Peppers\"}, {\"Year\": 2005, \"Value\": \"280\", \"Crop\": \"Peppers\"}, {\"Year\": 2004, \"Value\": \"290\", \"Crop\": \"Peppers\"}, {\"Year\": 2003, \"Value\": \"250\", \"Crop\": \"Peppers\"}, {\"Year\": 2002, \"Value\": \"250\", \"Crop\": \"Peppers\"}, {\"Year\": 2001, \"Value\": \"260\", \"Crop\": \"Peppers\"}, {\"Year\": 2000, \"Value\": \"220\", \"Crop\": \"Peppers\"}, {\"Year\": 1999, \"Value\": \"200\", \"Crop\": \"Peppers\"}, {\"Year\": 1998, \"Value\": \"200\", \"Crop\": \"Peppers\"}, {\"Year\": 2018, \"Value\": \"580\", \"Crop\": \"Celery\"}, {\"Year\": 2017, \"Value\": \"590\", \"Crop\": \"Celery\"}, {\"Year\": 2016, \"Value\": \"600\", \"Crop\": \"Celery\"}, {\"Year\": 2015, \"Value\": \"580\", \"Crop\": \"Celery\"}, {\"Year\": 2014, \"Value\": \"580\", \"Crop\": \"Celery\"}, {\"Year\": 2013, \"Value\": \"575\", \"Crop\": \"Celery\"}, {\"Year\": 2012, \"Value\": \"565\", \"Crop\": \"Celery\"}, {\"Year\": 2011, \"Value\": \"490\", \"Crop\": \"Celery\"}, {\"Year\": 2010, \"Value\": \"525\", \"Crop\": \"Celery\"}, {\"Year\": 2009, \"Value\": \"555\", \"Crop\": \"Celery\"}, {\"Year\": 2008, \"Value\": \"525\", \"Crop\": \"Celery\"}, {\"Year\": 2007, \"Value\": \"490\", \"Crop\": \"Celery\"}, {\"Year\": 2006, \"Value\": \"530\", \"Crop\": \"Celery\"}, {\"Year\": 2005, \"Value\": \"575\", \"Crop\": \"Celery\"}, {\"Year\": 2004, \"Value\": \"560\", \"Crop\": \"Celery\"}, {\"Year\": 2003, \"Value\": \"530\", \"Crop\": \"Celery\"}, {\"Year\": 2002, \"Value\": \"470\", \"Crop\": \"Celery\"}, {\"Year\": 2001, \"Value\": \"460\", \"Crop\": \"Celery\"}, {\"Year\": 2000, \"Value\": \"500\", \"Crop\": \"Celery\"}, {\"Year\": 1999, \"Value\": \"450\", \"Crop\": \"Celery\"}, {\"Year\": 1998, \"Value\": \"470\", \"Crop\": \"Celery\"}]}}, {\"mode\": \"vega-lite\"});\n",
       "</script>"
      ],
      "text/plain": [
       "alt.LayerChart(...)"
      ]
     },
     "execution_count": 147,
     "metadata": {},
     "output_type": "execute_result"
    }
   ],
   "source": [
    "alt.layer(radio_chart, tooltips, selectors)"
   ]
  },
  {
   "cell_type": "code",
   "execution_count": 176,
   "metadata": {},
   "outputs": [],
   "source": [
    "\n",
    "base = (\n",
    "        alt.Chart(vegetable_yield)\n",
    "        .encode(\n",
    "            x=alt.X(\n",
    "                \"Year:T\",\n",
    "                axis=alt.Axis(title=None, format=(\"%b %Y\"), labelAngle=0, tickCount=6),\n",
    "            ),\n",
    "            y=alt.Y(\n",
    "                \"Value:Q\", axis=alt.Axis(title='Yield (CWT/ACRE)')\n",
    "            ),\n",
    "        )\n",
    "        .properties(width=500, height=400)\n",
    "    )\n",
    "  "
   ]
  },
  {
   "cell_type": "code",
   "execution_count": 177,
   "metadata": {},
   "outputs": [],
   "source": [
    "\n",
    "radio_select = alt.selection_multi(\n",
    "        fields=[\"Crop\"], name=\"Crop\", \n",
    "    )\n",
    "\n",
    "crop_color_condition = alt.condition(\n",
    "        radio_select, alt.Color(\"Crop:N\", legend=None), alt.value(\"lightgrey\")\n",
    "    )\n",
    "\n",
    "   "
   ]
  },
  {
   "cell_type": "code",
   "execution_count": 178,
   "metadata": {},
   "outputs": [],
   "source": [
    "\n",
    "make_selector = (\n",
    "        alt.Chart(vegetable_yield)\n",
    "        .mark_circle(size=200)\n",
    "        .encode(\n",
    "            y=alt.Y(\"Crop:N\", axis=alt.Axis(title=\"Pick Crop\", titleFontSize=15)),\n",
    "            color=crop_color_condition,\n",
    "        )\n",
    "        .add_selection(radio_select)\n",
    "    )\n",
    "\n",
    "   \n",
    "\n",
    "highlight_crops = (\n",
    "        base.mark_line(strokeWidth=2)\n",
    "        .add_selection(radio_select)\n",
    "        .encode(color=crop_color_condition)\n",
    "    ).properties(title=\"Crop Yield by Year\")\n",
    "\n",
    "  "
   ]
  },
  {
   "cell_type": "code",
   "execution_count": 179,
   "metadata": {},
   "outputs": [],
   "source": [
    "# nearest = alt.selection(\n",
    "#         type=\"single\", nearest=True, on=\"mouseover\", fields=[\"Year\"], empty=\"none\"\n",
    "#     )\n",
    "\n",
    "#     # Transparent selectors across the chart. This is what tells us\n",
    "#     # the x-value of the cursor\n",
    "#     selectors = (\n",
    "#         alt.Chart(vegetable_yield)\n",
    "#         .mark_point()\n",
    "#         .encode(\n",
    "#             x=\"Year:T\",\n",
    "#             opacity=alt.value(0),\n",
    "#         )\n",
    "#         .add_selection(nearest)\n",
    "#     )\n",
    "\n",
    "\n",
    "    \n",
    "# points = base.mark_point(size=5, dy=-10).encode(\n",
    "#         opacity=alt.condition(nearest, alt.value(1), alt.value(0))\n",
    "#     ).transform_filter(radio_select)\n",
    "    \n",
    "\n",
    "# tooltip_text = base.mark_text(\n",
    "#         align=\"left\",\n",
    "#         dx=-60,\n",
    "#         dy=-15,\n",
    "#         fontSize=10,\n",
    "#         fontWeight=\"bold\",\n",
    "#         lineBreak = \"\\n\",\n",
    "#     ).encode(\n",
    "#         text=alt.condition(\n",
    "#             nearest, \n",
    "#             alt.Text(\"Value:Q\", format=\".2f\"), \n",
    "#             alt.value(\" \"),\n",
    " \n",
    "#         ),\n",
    "#     ).transform_filter(radio_select)\n",
    "\n",
    "\n",
    "#     # Draw a rule at the location of the selection\n",
    "# rules = (\n",
    "#         alt.Chart(vegetable_yield)\n",
    "#         .mark_rule(color=\"black\", strokeWidth=2)\n",
    "#         .encode(\n",
    "#             x=\"Year:T\",\n",
    "#         )\n",
    "#         .transform_filter(nearest)\n",
    "#     )\n",
    " \n",
    "\n",
    "\n",
    "\n",
    "\n",
    "\n",
    "\n"
   ]
  },
  {
   "cell_type": "code",
   "execution_count": 180,
   "metadata": {},
   "outputs": [],
   "source": [
    "\n",
    "hover = alt.selection_single(\n",
    "        fields=[\"Year\"],\n",
    "        nearest=True,\n",
    "        on=\"mouseover\",\n",
    "        empty=\"none\",\n",
    "        clear=\"mouseout\",\n",
    "    )\n",
    "tooltips2 = alt.Chart(vegetable_yield).transform_pivot(\n",
    "        \"Crop\", \"Value\", groupby=[\"Year\"]\n",
    "    ).mark_rule(strokeWidth=2,  color=\"red\").encode(\n",
    "        x='Year:T',\n",
    "        opacity=alt.condition(hover, alt.value(1), alt.value(0)),\n",
    "        tooltip=[\"Year\", \"Asparagus:Q\", \"Cabbage:Q\", \"Carrots:Q\",\n",
    "                 \"Celery:Q\",  \"Cucumbers:Q\", \"Onions:Q\", \"Peppers:Q\", \"Pumpkins:Q\", \"Squash:Q\", \"Tomatoes:Q\"]\n",
    "    ).add_selection(hover)\n",
    "   "
   ]
  },
  {
   "cell_type": "code",
   "execution_count": 181,
   "metadata": {},
   "outputs": [
    {
     "data": {
      "text/html": [
       "\n",
       "<div id=\"altair-viz-ff4ab457c7ca481198ca9447bc813376\"></div>\n",
       "<script type=\"text/javascript\">\n",
       "  var VEGA_DEBUG = (typeof VEGA_DEBUG == \"undefined\") ? {} : VEGA_DEBUG;\n",
       "  (function(spec, embedOpt){\n",
       "    let outputDiv = document.currentScript.previousElementSibling;\n",
       "    if (outputDiv.id !== \"altair-viz-ff4ab457c7ca481198ca9447bc813376\") {\n",
       "      outputDiv = document.getElementById(\"altair-viz-ff4ab457c7ca481198ca9447bc813376\");\n",
       "    }\n",
       "    const paths = {\n",
       "      \"vega\": \"https://cdn.jsdelivr.net/npm//vega@5?noext\",\n",
       "      \"vega-lib\": \"https://cdn.jsdelivr.net/npm//vega-lib?noext\",\n",
       "      \"vega-lite\": \"https://cdn.jsdelivr.net/npm//vega-lite@4.17.0?noext\",\n",
       "      \"vega-embed\": \"https://cdn.jsdelivr.net/npm//vega-embed@6?noext\",\n",
       "    };\n",
       "\n",
       "    function maybeLoadScript(lib, version) {\n",
       "      var key = `${lib.replace(\"-\", \"\")}_version`;\n",
       "      return (VEGA_DEBUG[key] == version) ?\n",
       "        Promise.resolve(paths[lib]) :\n",
       "        new Promise(function(resolve, reject) {\n",
       "          var s = document.createElement('script');\n",
       "          document.getElementsByTagName(\"head\")[0].appendChild(s);\n",
       "          s.async = true;\n",
       "          s.onload = () => {\n",
       "            VEGA_DEBUG[key] = version;\n",
       "            return resolve(paths[lib]);\n",
       "          };\n",
       "          s.onerror = () => reject(`Error loading script: ${paths[lib]}`);\n",
       "          s.src = paths[lib];\n",
       "        });\n",
       "    }\n",
       "\n",
       "    function showError(err) {\n",
       "      outputDiv.innerHTML = `<div class=\"error\" style=\"color:red;\">${err}</div>`;\n",
       "      throw err;\n",
       "    }\n",
       "\n",
       "    function displayChart(vegaEmbed) {\n",
       "      vegaEmbed(outputDiv, spec, embedOpt)\n",
       "        .catch(err => showError(`Javascript Error: ${err.message}<br>This usually means there's a typo in your chart specification. See the javascript console for the full traceback.`));\n",
       "    }\n",
       "\n",
       "    if(typeof define === \"function\" && define.amd) {\n",
       "      requirejs.config({paths});\n",
       "      require([\"vega-embed\"], displayChart, err => showError(`Error loading script: ${err.message}`));\n",
       "    } else {\n",
       "      maybeLoadScript(\"vega\", \"5\")\n",
       "        .then(() => maybeLoadScript(\"vega-lite\", \"4.17.0\"))\n",
       "        .then(() => maybeLoadScript(\"vega-embed\", \"6\"))\n",
       "        .catch(showError)\n",
       "        .then(() => displayChart(vegaEmbed));\n",
       "    }\n",
       "  })({\"config\": {\"view\": {\"continuousWidth\": 400, \"continuousHeight\": 300}}, \"hconcat\": [{\"mark\": {\"type\": \"circle\", \"size\": 200}, \"encoding\": {\"color\": {\"condition\": {\"field\": \"Crop\", \"legend\": null, \"type\": \"nominal\", \"selection\": \"Crop\"}, \"value\": \"lightgrey\"}, \"y\": {\"axis\": {\"title\": \"Pick Crop\", \"titleFontSize\": 15}, \"field\": \"Crop\", \"type\": \"nominal\"}}, \"selection\": {\"Crop\": {\"type\": \"multi\", \"fields\": [\"Crop\"]}}}, {\"layer\": [{\"mark\": {\"type\": \"line\", \"strokeWidth\": 2}, \"encoding\": {\"color\": {\"condition\": {\"field\": \"Crop\", \"legend\": null, \"type\": \"nominal\", \"selection\": \"Crop\"}, \"value\": \"lightgrey\"}, \"x\": {\"axis\": {\"format\": \"%b %Y\", \"labelAngle\": 0, \"tickCount\": 6, \"title\": null}, \"field\": \"Year\", \"type\": \"temporal\"}, \"y\": {\"axis\": {\"title\": \"Yield (CWT/ACRE)\"}, \"field\": \"Value\", \"type\": \"quantitative\"}}, \"height\": 400, \"selection\": {\"Crop\": {\"type\": \"multi\", \"fields\": [\"Crop\"]}}, \"title\": \"Crop Yield by Year\", \"width\": 500}, {\"mark\": {\"type\": \"rule\", \"color\": \"red\", \"strokeWidth\": 2}, \"encoding\": {\"opacity\": {\"condition\": {\"value\": 1, \"selection\": \"selector023\"}, \"value\": 0}, \"tooltip\": [{\"field\": \"Year\", \"type\": \"quantitative\"}, {\"field\": \"Asparagus\", \"type\": \"quantitative\"}, {\"field\": \"Cabbage\", \"type\": \"quantitative\"}, {\"field\": \"Carrots\", \"type\": \"quantitative\"}, {\"field\": \"Celery\", \"type\": \"quantitative\"}, {\"field\": \"Cucumbers\", \"type\": \"quantitative\"}, {\"field\": \"Onions\", \"type\": \"quantitative\"}, {\"field\": \"Peppers\", \"type\": \"quantitative\"}, {\"field\": \"Pumpkins\", \"type\": \"quantitative\"}, {\"field\": \"Squash\", \"type\": \"quantitative\"}, {\"field\": \"Tomatoes\", \"type\": \"quantitative\"}], \"x\": {\"field\": \"Year\", \"type\": \"temporal\"}}, \"selection\": {\"selector023\": {\"type\": \"single\", \"fields\": [\"Year\"], \"nearest\": true, \"on\": \"mouseover\", \"empty\": \"none\", \"clear\": \"mouseout\"}}, \"transform\": [{\"pivot\": \"Crop\", \"value\": \"Value\", \"groupby\": [\"Year\"]}]}]}], \"data\": {\"name\": \"data-da46abc7de517a8dd9edcd1b48f0e43c\"}, \"$schema\": \"https://vega.github.io/schema/vega-lite/v4.17.0.json\", \"datasets\": {\"data-da46abc7de517a8dd9edcd1b48f0e43c\": [{\"Year\": 2015, \"Value\": \"240\", \"Crop\": \"Carrots\"}, {\"Year\": 2014, \"Value\": \"310\", \"Crop\": \"Carrots\"}, {\"Year\": 2013, \"Value\": \"290\", \"Crop\": \"Carrots\"}, {\"Year\": 2012, \"Value\": \"280\", \"Crop\": \"Carrots\"}, {\"Year\": 2011, \"Value\": \"260\", \"Crop\": \"Carrots\"}, {\"Year\": 2010, \"Value\": \"250\", \"Crop\": \"Carrots\"}, {\"Year\": 2009, \"Value\": \"270\", \"Crop\": \"Carrots\"}, {\"Year\": 2008, \"Value\": \"290\", \"Crop\": \"Carrots\"}, {\"Year\": 2007, \"Value\": \"300\", \"Crop\": \"Carrots\"}, {\"Year\": 2006, \"Value\": \"320\", \"Crop\": \"Carrots\"}, {\"Year\": 2005, \"Value\": \"360\", \"Crop\": \"Carrots\"}, {\"Year\": 2004, \"Value\": \"310\", \"Crop\": \"Carrots\"}, {\"Year\": 2003, \"Value\": \"350\", \"Crop\": \"Carrots\"}, {\"Year\": 2002, \"Value\": \"330\", \"Crop\": \"Carrots\"}, {\"Year\": 2001, \"Value\": \"350\", \"Crop\": \"Carrots\"}, {\"Year\": 2000, \"Value\": \"280\", \"Crop\": \"Carrots\"}, {\"Year\": 1999, \"Value\": \"280\", \"Crop\": \"Carrots\"}, {\"Year\": 1998, \"Value\": \"290\", \"Crop\": \"Carrots\"}, {\"Year\": 2015, \"Value\": 5.9, \"Crop\": \"Cucumbers\"}, {\"Year\": 2014, \"Value\": 6.1, \"Crop\": \"Cucumbers\"}, {\"Year\": 2013, \"Value\": 5.8, \"Crop\": \"Cucumbers\"}, {\"Year\": 2012, \"Value\": 5.4, \"Crop\": \"Cucumbers\"}, {\"Year\": 2011, \"Value\": 5.6, \"Crop\": \"Cucumbers\"}, {\"Year\": 2010, \"Value\": 6.4, \"Crop\": \"Cucumbers\"}, {\"Year\": 2009, \"Value\": 5.8, \"Crop\": \"Cucumbers\"}, {\"Year\": 2008, \"Value\": 6.2, \"Crop\": \"Cucumbers\"}, {\"Year\": 2007, \"Value\": 5.3, \"Crop\": \"Cucumbers\"}, {\"Year\": 2006, \"Value\": 5.2, \"Crop\": \"Cucumbers\"}, {\"Year\": 2005, \"Value\": 4.8, \"Crop\": \"Cucumbers\"}, {\"Year\": 2004, \"Value\": 5.0, \"Crop\": \"Cucumbers\"}, {\"Year\": 2003, \"Value\": 5.4, \"Crop\": \"Cucumbers\"}, {\"Year\": 2002, \"Value\": 4.6, \"Crop\": \"Cucumbers\"}, {\"Year\": 2001, \"Value\": 4.25, \"Crop\": \"Cucumbers\"}, {\"Year\": 2000, \"Value\": 6.0, \"Crop\": \"Cucumbers\"}, {\"Year\": 1999, \"Value\": 6.0, \"Crop\": \"Cucumbers\"}, {\"Year\": 1998, \"Value\": 5.0, \"Crop\": \"Cucumbers\"}, {\"Year\": 2020, \"Value\": \"28\", \"Crop\": \"Asparagus\"}, {\"Year\": 2019, \"Value\": \"30\", \"Crop\": \"Asparagus\"}, {\"Year\": 2018, \"Value\": \"28\", \"Crop\": \"Asparagus\"}, {\"Year\": 2018, \"Value\": \"28\", \"Crop\": \"Asparagus\"}, {\"Year\": 2017, \"Value\": \"27\", \"Crop\": \"Asparagus\"}, {\"Year\": 2017, \"Value\": \"27\", \"Crop\": \"Asparagus\"}, {\"Year\": 2016, \"Value\": \"25\", \"Crop\": \"Asparagus\"}, {\"Year\": 2015, \"Value\": \"26\", \"Crop\": \"Asparagus\"}, {\"Year\": 2014, \"Value\": \"24\", \"Crop\": \"Asparagus\"}, {\"Year\": 2013, \"Value\": \"23\", \"Crop\": \"Asparagus\"}, {\"Year\": 2012, \"Value\": \"21\", \"Crop\": \"Asparagus\"}, {\"Year\": 2011, \"Value\": \"22\", \"Crop\": \"Asparagus\"}, {\"Year\": 2010, \"Value\": \"16\", \"Crop\": \"Asparagus\"}, {\"Year\": 2010, \"Value\": \"16\", \"Crop\": \"Asparagus\"}, {\"Year\": 2009, \"Value\": \"22\", \"Crop\": \"Asparagus\"}, {\"Year\": 2008, \"Value\": \"23\", \"Crop\": \"Asparagus\"}, {\"Year\": 2007, \"Value\": \"21\", \"Crop\": \"Asparagus\"}, {\"Year\": 2006, \"Value\": \"22\", \"Crop\": \"Asparagus\"}, {\"Year\": 2005, \"Value\": \"19\", \"Crop\": \"Asparagus\"}, {\"Year\": 2004, \"Value\": \"20\", \"Crop\": \"Asparagus\"}, {\"Year\": 2003, \"Value\": \"21\", \"Crop\": \"Asparagus\"}, {\"Year\": 2002, \"Value\": \"15\", \"Crop\": \"Asparagus\"}, {\"Year\": 2001, \"Value\": \"20\", \"Crop\": \"Asparagus\"}, {\"Year\": 2000, \"Value\": \"17\", \"Crop\": \"Asparagus\"}, {\"Year\": 1999, \"Value\": \"18\", \"Crop\": \"Asparagus\"}, {\"Year\": 1998, \"Value\": \"16\", \"Crop\": \"Asparagus\"}, {\"Year\": 2015, \"Value\": \"300\", \"Crop\": \"Tomatoes\"}, {\"Year\": 2014, \"Value\": \"245\", \"Crop\": \"Tomatoes\"}, {\"Year\": 2013, \"Value\": \"240\", \"Crop\": \"Tomatoes\"}, {\"Year\": 2012, \"Value\": \"200\", \"Crop\": \"Tomatoes\"}, {\"Year\": 2011, \"Value\": \"220\", \"Crop\": \"Tomatoes\"}, {\"Year\": 2010, \"Value\": \"200\", \"Crop\": \"Tomatoes\"}, {\"Year\": 2009, \"Value\": \"300\", \"Crop\": \"Tomatoes\"}, {\"Year\": 2008, \"Value\": \"260\", \"Crop\": \"Tomatoes\"}, {\"Year\": 2007, \"Value\": \"230\", \"Crop\": \"Tomatoes\"}, {\"Year\": 2006, \"Value\": \"230\", \"Crop\": \"Tomatoes\"}, {\"Year\": 2005, \"Value\": \"220\", \"Crop\": \"Tomatoes\"}, {\"Year\": 2004, \"Value\": \"260\", \"Crop\": \"Tomatoes\"}, {\"Year\": 2003, \"Value\": \"220\", \"Crop\": \"Tomatoes\"}, {\"Year\": 2002, \"Value\": \"210\", \"Crop\": \"Tomatoes\"}, {\"Year\": 2001, \"Value\": \"210\", \"Crop\": \"Tomatoes\"}, {\"Year\": 2000, \"Value\": \"170\", \"Crop\": \"Tomatoes\"}, {\"Year\": 1999, \"Value\": \"190\", \"Crop\": \"Tomatoes\"}, {\"Year\": 1998, \"Value\": \"210\", \"Crop\": \"Tomatoes\"}, {\"Year\": 2015, \"Value\": \"330\", \"Crop\": \"Onions\"}, {\"Year\": 2014, \"Value\": \"370\", \"Crop\": \"Onions\"}, {\"Year\": 2013, \"Value\": \"300\", \"Crop\": \"Onions\"}, {\"Year\": 2012, \"Value\": \"230\", \"Crop\": \"Onions\"}, {\"Year\": 2011, \"Value\": \"240\", \"Crop\": \"Onions\"}, {\"Year\": 2010, \"Value\": \"220\", \"Crop\": \"Onions\"}, {\"Year\": 2009, \"Value\": \"350\", \"Crop\": \"Onions\"}, {\"Year\": 2008, \"Value\": \"280\", \"Crop\": \"Onions\"}, {\"Year\": 2007, \"Value\": \"260\", \"Crop\": \"Onions\"}, {\"Year\": 2006, \"Value\": \"250\", \"Crop\": \"Onions\"}, {\"Year\": 2005, \"Value\": \"260\", \"Crop\": \"Onions\"}, {\"Year\": 2004, \"Value\": \"290\", \"Crop\": \"Onions\"}, {\"Year\": 2003, \"Value\": \"320\", \"Crop\": \"Onions\"}, {\"Year\": 2002, \"Value\": \"230\", \"Crop\": \"Onions\"}, {\"Year\": 2001, \"Value\": \"270\", \"Crop\": \"Onions\"}, {\"Year\": 2000, \"Value\": \"270\", \"Crop\": \"Onions\"}, {\"Year\": 1999, \"Value\": \"270\", \"Crop\": \"Onions\"}, {\"Year\": 1998, \"Value\": \"260\", \"Crop\": \"Onions\"}, {\"Year\": 2015, \"Value\": \"290\", \"Crop\": \"Cabbage\"}, {\"Year\": 2014, \"Value\": \"270\", \"Crop\": \"Cabbage\"}, {\"Year\": 2013, \"Value\": \"230\", \"Crop\": \"Cabbage\"}, {\"Year\": 2012, \"Value\": \"250\", \"Crop\": \"Cabbage\"}, {\"Year\": 2011, \"Value\": \"230\", \"Crop\": \"Cabbage\"}, {\"Year\": 2010, \"Value\": \"280\", \"Crop\": \"Cabbage\"}, {\"Year\": 2009, \"Value\": \"260\", \"Crop\": \"Cabbage\"}, {\"Year\": 2008, \"Value\": \"280\", \"Crop\": \"Cabbage\"}, {\"Year\": 2007, \"Value\": \"320\", \"Crop\": \"Cabbage\"}, {\"Year\": 2006, \"Value\": \"340\", \"Crop\": \"Cabbage\"}, {\"Year\": 2005, \"Value\": \"360\", \"Crop\": \"Cabbage\"}, {\"Year\": 2004, \"Value\": \"270\", \"Crop\": \"Cabbage\"}, {\"Year\": 2003, \"Value\": \"320\", \"Crop\": \"Cabbage\"}, {\"Year\": 2002, \"Value\": \"300\", \"Crop\": \"Cabbage\"}, {\"Year\": 2001, \"Value\": \"320\", \"Crop\": \"Cabbage\"}, {\"Year\": 2000, \"Value\": \"250\", \"Crop\": \"Cabbage\"}, {\"Year\": 1999, \"Value\": \"280\", \"Crop\": \"Cabbage\"}, {\"Year\": 1998, \"Value\": \"260\", \"Crop\": \"Cabbage\"}, {\"Year\": 2020, \"Value\": \"160\", \"Crop\": \"Pumpkins\"}, {\"Year\": 2019, \"Value\": \"150\", \"Crop\": \"Pumpkins\"}, {\"Year\": 2018, \"Value\": \"190\", \"Crop\": \"Pumpkins\"}, {\"Year\": 2017, \"Value\": \"155\", \"Crop\": \"Pumpkins\"}, {\"Year\": 2016, \"Value\": \"155\", \"Crop\": \"Pumpkins\"}, {\"Year\": 2015, \"Value\": \"155\", \"Crop\": \"Pumpkins\"}, {\"Year\": 2014, \"Value\": \"160\", \"Crop\": \"Pumpkins\"}, {\"Year\": 2013, \"Value\": \"155\", \"Crop\": \"Pumpkins\"}, {\"Year\": 2012, \"Value\": \"150\", \"Crop\": \"Pumpkins\"}, {\"Year\": 2011, \"Value\": \"145\", \"Crop\": \"Pumpkins\"}, {\"Year\": 2010, \"Value\": \"140\", \"Crop\": \"Pumpkins\"}, {\"Year\": 2009, \"Value\": \"110\", \"Crop\": \"Pumpkins\"}, {\"Year\": 2008, \"Value\": \"145\", \"Crop\": \"Pumpkins\"}, {\"Year\": 2007, \"Value\": \"115\", \"Crop\": \"Pumpkins\"}, {\"Year\": 2006, \"Value\": \"150\", \"Crop\": \"Pumpkins\"}, {\"Year\": 2005, \"Value\": \"145\", \"Crop\": \"Pumpkins\"}, {\"Year\": 2004, \"Value\": \"140\", \"Crop\": \"Pumpkins\"}, {\"Year\": 2003, \"Value\": \"140\", \"Crop\": \"Pumpkins\"}, {\"Year\": 2002, \"Value\": \"120\", \"Crop\": \"Pumpkins\"}, {\"Year\": 2001, \"Value\": \"120\", \"Crop\": \"Pumpkins\"}, {\"Year\": 2000, \"Value\": \"160\", \"Crop\": \"Pumpkins\"}, {\"Year\": 2020, \"Value\": \"220\", \"Crop\": \"Squash\"}, {\"Year\": 2019, \"Value\": \"200\", \"Crop\": \"Squash\"}, {\"Year\": 2018, \"Value\": \"220\", \"Crop\": \"Squash\"}, {\"Year\": 2017, \"Value\": \"230\", \"Crop\": \"Squash\"}, {\"Year\": 2016, \"Value\": \"240\", \"Crop\": \"Squash\"}, {\"Year\": 2015, \"Value\": \"200\", \"Crop\": \"Squash\"}, {\"Year\": 2014, \"Value\": \"200\", \"Crop\": \"Squash\"}, {\"Year\": 2013, \"Value\": \"200\", \"Crop\": \"Squash\"}, {\"Year\": 2012, \"Value\": \"240\", \"Crop\": \"Squash\"}, {\"Year\": 2011, \"Value\": \"220\", \"Crop\": \"Squash\"}, {\"Year\": 2010, \"Value\": \"200\", \"Crop\": \"Squash\"}, {\"Year\": 2009, \"Value\": \"210\", \"Crop\": \"Squash\"}, {\"Year\": 2008, \"Value\": \"200\", \"Crop\": \"Squash\"}, {\"Year\": 2007, \"Value\": \"190\", \"Crop\": \"Squash\"}, {\"Year\": 2006, \"Value\": \"210\", \"Crop\": \"Squash\"}, {\"Year\": 2005, \"Value\": \"220\", \"Crop\": \"Squash\"}, {\"Year\": 2004, \"Value\": \"160\", \"Crop\": \"Squash\"}, {\"Year\": 2003, \"Value\": \"190\", \"Crop\": \"Squash\"}, {\"Year\": 2002, \"Value\": \"230\", \"Crop\": \"Squash\"}, {\"Year\": 2001, \"Value\": \"200\", \"Crop\": \"Squash\"}, {\"Year\": 2000, \"Value\": \"115\", \"Crop\": \"Squash\"}, {\"Year\": 2020, \"Value\": \"230\", \"Crop\": \"Peppers\"}, {\"Year\": 2019, \"Value\": \"255\", \"Crop\": \"Peppers\"}, {\"Year\": 2018, \"Value\": \"240\", \"Crop\": \"Peppers\"}, {\"Year\": 2017, \"Value\": \"255\", \"Crop\": \"Peppers\"}, {\"Year\": 2016, \"Value\": \"260\", \"Crop\": \"Peppers\"}, {\"Year\": 2015, \"Value\": \"280\", \"Crop\": \"Peppers\"}, {\"Year\": 2014, \"Value\": \"260\", \"Crop\": \"Peppers\"}, {\"Year\": 2013, \"Value\": \"250\", \"Crop\": \"Peppers\"}, {\"Year\": 2012, \"Value\": \"260\", \"Crop\": \"Peppers\"}, {\"Year\": 2011, \"Value\": \"270\", \"Crop\": \"Peppers\"}, {\"Year\": 2010, \"Value\": \"230\", \"Crop\": \"Peppers\"}, {\"Year\": 2009, \"Value\": \"240\", \"Crop\": \"Peppers\"}, {\"Year\": 2008, \"Value\": \"250\", \"Crop\": \"Peppers\"}, {\"Year\": 2007, \"Value\": \"260\", \"Crop\": \"Peppers\"}, {\"Year\": 2006, \"Value\": \"270\", \"Crop\": \"Peppers\"}, {\"Year\": 2005, \"Value\": \"280\", \"Crop\": \"Peppers\"}, {\"Year\": 2004, \"Value\": \"290\", \"Crop\": \"Peppers\"}, {\"Year\": 2003, \"Value\": \"250\", \"Crop\": \"Peppers\"}, {\"Year\": 2002, \"Value\": \"250\", \"Crop\": \"Peppers\"}, {\"Year\": 2001, \"Value\": \"260\", \"Crop\": \"Peppers\"}, {\"Year\": 2000, \"Value\": \"220\", \"Crop\": \"Peppers\"}, {\"Year\": 1999, \"Value\": \"200\", \"Crop\": \"Peppers\"}, {\"Year\": 1998, \"Value\": \"200\", \"Crop\": \"Peppers\"}, {\"Year\": 2018, \"Value\": \"580\", \"Crop\": \"Celery\"}, {\"Year\": 2017, \"Value\": \"590\", \"Crop\": \"Celery\"}, {\"Year\": 2016, \"Value\": \"600\", \"Crop\": \"Celery\"}, {\"Year\": 2015, \"Value\": \"580\", \"Crop\": \"Celery\"}, {\"Year\": 2014, \"Value\": \"580\", \"Crop\": \"Celery\"}, {\"Year\": 2013, \"Value\": \"575\", \"Crop\": \"Celery\"}, {\"Year\": 2012, \"Value\": \"565\", \"Crop\": \"Celery\"}, {\"Year\": 2011, \"Value\": \"490\", \"Crop\": \"Celery\"}, {\"Year\": 2010, \"Value\": \"525\", \"Crop\": \"Celery\"}, {\"Year\": 2009, \"Value\": \"555\", \"Crop\": \"Celery\"}, {\"Year\": 2008, \"Value\": \"525\", \"Crop\": \"Celery\"}, {\"Year\": 2007, \"Value\": \"490\", \"Crop\": \"Celery\"}, {\"Year\": 2006, \"Value\": \"530\", \"Crop\": \"Celery\"}, {\"Year\": 2005, \"Value\": \"575\", \"Crop\": \"Celery\"}, {\"Year\": 2004, \"Value\": \"560\", \"Crop\": \"Celery\"}, {\"Year\": 2003, \"Value\": \"530\", \"Crop\": \"Celery\"}, {\"Year\": 2002, \"Value\": \"470\", \"Crop\": \"Celery\"}, {\"Year\": 2001, \"Value\": \"460\", \"Crop\": \"Celery\"}, {\"Year\": 2000, \"Value\": \"500\", \"Crop\": \"Celery\"}, {\"Year\": 1999, \"Value\": \"450\", \"Crop\": \"Celery\"}, {\"Year\": 1998, \"Value\": \"470\", \"Crop\": \"Celery\"}]}}, {\"mode\": \"vega-lite\"});\n",
       "</script>"
      ],
      "text/plain": [
       "alt.HConcatChart(...)"
      ]
     },
     "execution_count": 181,
     "metadata": {},
     "output_type": "execute_result"
    }
   ],
   "source": [
    "\n",
    "(make_selector | alt.layer(highlight_crops, tooltips2 ))"
   ]
  },
  {
   "cell_type": "code",
   "execution_count": null,
   "metadata": {},
   "outputs": [],
   "source": []
  }
 ],
 "metadata": {
  "kernelspec": {
   "display_name": "Python 3",
   "language": "python",
   "name": "python3"
  },
  "language_info": {
   "codemirror_mode": {
    "name": "ipython",
    "version": 3
   },
   "file_extension": ".py",
   "mimetype": "text/x-python",
   "name": "python",
   "nbconvert_exporter": "python",
   "pygments_lexer": "ipython3",
   "version": "3.8.5"
  }
 },
 "nbformat": 4,
 "nbformat_minor": 4
}
